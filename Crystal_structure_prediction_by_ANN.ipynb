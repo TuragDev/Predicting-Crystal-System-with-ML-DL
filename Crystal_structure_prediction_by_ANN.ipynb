{
  "cells": [
    {
      "cell_type": "markdown",
      "metadata": {
        "id": "view-in-github",
        "colab_type": "text"
      },
      "source": [
        "<a href=\"https://colab.research.google.com/github/TuragDev/Predicting-Crystal-System-with-ML-DL/blob/main/Crystal_structure_prediction_by_ANN.ipynb\" target=\"_parent\"><img src=\"https://colab.research.google.com/assets/colab-badge.svg\" alt=\"Open In Colab\"/></a>"
      ]
    },
    {
      "cell_type": "code",
      "execution_count": 3,
      "metadata": {
        "colab": {
          "base_uri": "https://localhost:8080/"
        },
        "id": "UWE_ZQJUnqIY",
        "outputId": "2c8b9bd0-e87d-406a-fc33-1c92e6cfb901"
      },
      "outputs": [
        {
          "output_type": "stream",
          "name": "stdout",
          "text": [
            "Requirement already satisfied: scikit-optimize in /usr/local/lib/python3.10/dist-packages (0.9.0)\n",
            "Requirement already satisfied: joblib>=0.11 in /usr/local/lib/python3.10/dist-packages (from scikit-optimize) (1.3.2)\n",
            "Requirement already satisfied: pyaml>=16.9 in /usr/local/lib/python3.10/dist-packages (from scikit-optimize) (23.9.7)\n",
            "Requirement already satisfied: numpy>=1.13.3 in /usr/local/lib/python3.10/dist-packages (from scikit-optimize) (1.23.5)\n",
            "Requirement already satisfied: scipy>=0.19.1 in /usr/local/lib/python3.10/dist-packages (from scikit-optimize) (1.11.3)\n",
            "Requirement already satisfied: scikit-learn>=0.20.0 in /usr/local/lib/python3.10/dist-packages (from scikit-optimize) (1.2.2)\n",
            "Requirement already satisfied: PyYAML in /usr/local/lib/python3.10/dist-packages (from pyaml>=16.9->scikit-optimize) (6.0.1)\n",
            "Requirement already satisfied: threadpoolctl>=2.0.0 in /usr/local/lib/python3.10/dist-packages (from scikit-learn>=0.20.0->scikit-optimize) (3.2.0)\n"
          ]
        }
      ],
      "source": [
        "!pip install scikit-optimize"
      ]
    },
    {
      "cell_type": "code",
      "execution_count": 4,
      "metadata": {
        "colab": {
          "base_uri": "https://localhost:8080/"
        },
        "id": "l9jA-xxk9x7H",
        "outputId": "6b34dcd9-10f1-4690-c674-6e58a8112a15"
      },
      "outputs": [
        {
          "output_type": "stream",
          "name": "stdout",
          "text": [
            "Requirement already satisfied: keras-tuner in /usr/local/lib/python3.10/dist-packages (1.4.6)\n",
            "Requirement already satisfied: keras in /usr/local/lib/python3.10/dist-packages (from keras-tuner) (2.14.0)\n",
            "Requirement already satisfied: packaging in /usr/local/lib/python3.10/dist-packages (from keras-tuner) (23.2)\n",
            "Requirement already satisfied: requests in /usr/local/lib/python3.10/dist-packages (from keras-tuner) (2.31.0)\n",
            "Requirement already satisfied: kt-legacy in /usr/local/lib/python3.10/dist-packages (from keras-tuner) (1.0.5)\n",
            "Requirement already satisfied: charset-normalizer<4,>=2 in /usr/local/lib/python3.10/dist-packages (from requests->keras-tuner) (3.3.2)\n",
            "Requirement already satisfied: idna<4,>=2.5 in /usr/local/lib/python3.10/dist-packages (from requests->keras-tuner) (3.4)\n",
            "Requirement already satisfied: urllib3<3,>=1.21.1 in /usr/local/lib/python3.10/dist-packages (from requests->keras-tuner) (2.0.7)\n",
            "Requirement already satisfied: certifi>=2017.4.17 in /usr/local/lib/python3.10/dist-packages (from requests->keras-tuner) (2023.7.22)\n"
          ]
        }
      ],
      "source": [
        "pip install keras-tuner\n"
      ]
    },
    {
      "cell_type": "code",
      "execution_count": 5,
      "metadata": {
        "colab": {
          "base_uri": "https://localhost:8080/"
        },
        "id": "xdxAZ16YVyg6",
        "outputId": "ce78981d-c5ff-4637-c71b-ea4a74d83c2a"
      },
      "outputs": [
        {
          "output_type": "stream",
          "name": "stdout",
          "text": [
            "Requirement already satisfied: scikit-learn in /usr/local/lib/python3.10/dist-packages (1.2.2)\n",
            "Requirement already satisfied: numpy>=1.17.3 in /usr/local/lib/python3.10/dist-packages (from scikit-learn) (1.23.5)\n",
            "Requirement already satisfied: scipy>=1.3.2 in /usr/local/lib/python3.10/dist-packages (from scikit-learn) (1.11.3)\n",
            "Requirement already satisfied: joblib>=1.1.1 in /usr/local/lib/python3.10/dist-packages (from scikit-learn) (1.3.2)\n",
            "Requirement already satisfied: threadpoolctl>=2.0.0 in /usr/local/lib/python3.10/dist-packages (from scikit-learn) (3.2.0)\n"
          ]
        }
      ],
      "source": [
        "!pip install scikit-learn"
      ]
    },
    {
      "cell_type": "code",
      "execution_count": 6,
      "metadata": {
        "colab": {
          "base_uri": "https://localhost:8080/"
        },
        "id": "YYwOlIFR0Bkv",
        "outputId": "3b9bba52-9b3c-4668-b94a-bdcaf7ab973e"
      },
      "outputs": [
        {
          "output_type": "stream",
          "name": "stdout",
          "text": [
            "Requirement already satisfied: keras in /usr/local/lib/python3.10/dist-packages (2.14.0)\n"
          ]
        }
      ],
      "source": [
        "pip install keras"
      ]
    },
    {
      "cell_type": "code",
      "execution_count": 7,
      "metadata": {
        "colab": {
          "base_uri": "https://localhost:8080/"
        },
        "id": "nvFb4Jex52jy",
        "outputId": "14df5ead-e0c1-4314-b7c2-c981df1c77e1"
      },
      "outputs": [
        {
          "output_type": "stream",
          "name": "stdout",
          "text": [
            "Requirement already satisfied: tensorflow in /usr/local/lib/python3.10/dist-packages (2.14.0)\n",
            "Requirement already satisfied: absl-py>=1.0.0 in /usr/local/lib/python3.10/dist-packages (from tensorflow) (1.4.0)\n",
            "Requirement already satisfied: astunparse>=1.6.0 in /usr/local/lib/python3.10/dist-packages (from tensorflow) (1.6.3)\n",
            "Requirement already satisfied: flatbuffers>=23.5.26 in /usr/local/lib/python3.10/dist-packages (from tensorflow) (23.5.26)\n",
            "Requirement already satisfied: gast!=0.5.0,!=0.5.1,!=0.5.2,>=0.2.1 in /usr/local/lib/python3.10/dist-packages (from tensorflow) (0.5.4)\n",
            "Requirement already satisfied: google-pasta>=0.1.1 in /usr/local/lib/python3.10/dist-packages (from tensorflow) (0.2.0)\n",
            "Requirement already satisfied: h5py>=2.9.0 in /usr/local/lib/python3.10/dist-packages (from tensorflow) (3.9.0)\n",
            "Requirement already satisfied: libclang>=13.0.0 in /usr/local/lib/python3.10/dist-packages (from tensorflow) (16.0.6)\n",
            "Requirement already satisfied: ml-dtypes==0.2.0 in /usr/local/lib/python3.10/dist-packages (from tensorflow) (0.2.0)\n",
            "Requirement already satisfied: numpy>=1.23.5 in /usr/local/lib/python3.10/dist-packages (from tensorflow) (1.23.5)\n",
            "Requirement already satisfied: opt-einsum>=2.3.2 in /usr/local/lib/python3.10/dist-packages (from tensorflow) (3.3.0)\n",
            "Requirement already satisfied: packaging in /usr/local/lib/python3.10/dist-packages (from tensorflow) (23.2)\n",
            "Requirement already satisfied: protobuf!=4.21.0,!=4.21.1,!=4.21.2,!=4.21.3,!=4.21.4,!=4.21.5,<5.0.0dev,>=3.20.3 in /usr/local/lib/python3.10/dist-packages (from tensorflow) (3.20.3)\n",
            "Requirement already satisfied: setuptools in /usr/local/lib/python3.10/dist-packages (from tensorflow) (67.7.2)\n",
            "Requirement already satisfied: six>=1.12.0 in /usr/local/lib/python3.10/dist-packages (from tensorflow) (1.16.0)\n",
            "Requirement already satisfied: termcolor>=1.1.0 in /usr/local/lib/python3.10/dist-packages (from tensorflow) (2.3.0)\n",
            "Requirement already satisfied: typing-extensions>=3.6.6 in /usr/local/lib/python3.10/dist-packages (from tensorflow) (4.5.0)\n",
            "Requirement already satisfied: wrapt<1.15,>=1.11.0 in /usr/local/lib/python3.10/dist-packages (from tensorflow) (1.14.1)\n",
            "Requirement already satisfied: tensorflow-io-gcs-filesystem>=0.23.1 in /usr/local/lib/python3.10/dist-packages (from tensorflow) (0.34.0)\n",
            "Requirement already satisfied: grpcio<2.0,>=1.24.3 in /usr/local/lib/python3.10/dist-packages (from tensorflow) (1.59.2)\n",
            "Requirement already satisfied: tensorboard<2.15,>=2.14 in /usr/local/lib/python3.10/dist-packages (from tensorflow) (2.14.1)\n",
            "Requirement already satisfied: tensorflow-estimator<2.15,>=2.14.0 in /usr/local/lib/python3.10/dist-packages (from tensorflow) (2.14.0)\n",
            "Requirement already satisfied: keras<2.15,>=2.14.0 in /usr/local/lib/python3.10/dist-packages (from tensorflow) (2.14.0)\n",
            "Requirement already satisfied: wheel<1.0,>=0.23.0 in /usr/local/lib/python3.10/dist-packages (from astunparse>=1.6.0->tensorflow) (0.41.3)\n",
            "Requirement already satisfied: google-auth<3,>=1.6.3 in /usr/local/lib/python3.10/dist-packages (from tensorboard<2.15,>=2.14->tensorflow) (2.17.3)\n",
            "Requirement already satisfied: google-auth-oauthlib<1.1,>=0.5 in /usr/local/lib/python3.10/dist-packages (from tensorboard<2.15,>=2.14->tensorflow) (1.0.0)\n",
            "Requirement already satisfied: markdown>=2.6.8 in /usr/local/lib/python3.10/dist-packages (from tensorboard<2.15,>=2.14->tensorflow) (3.5.1)\n",
            "Requirement already satisfied: requests<3,>=2.21.0 in /usr/local/lib/python3.10/dist-packages (from tensorboard<2.15,>=2.14->tensorflow) (2.31.0)\n",
            "Requirement already satisfied: tensorboard-data-server<0.8.0,>=0.7.0 in /usr/local/lib/python3.10/dist-packages (from tensorboard<2.15,>=2.14->tensorflow) (0.7.2)\n",
            "Requirement already satisfied: werkzeug>=1.0.1 in /usr/local/lib/python3.10/dist-packages (from tensorboard<2.15,>=2.14->tensorflow) (3.0.1)\n",
            "Requirement already satisfied: cachetools<6.0,>=2.0.0 in /usr/local/lib/python3.10/dist-packages (from google-auth<3,>=1.6.3->tensorboard<2.15,>=2.14->tensorflow) (5.3.2)\n",
            "Requirement already satisfied: pyasn1-modules>=0.2.1 in /usr/local/lib/python3.10/dist-packages (from google-auth<3,>=1.6.3->tensorboard<2.15,>=2.14->tensorflow) (0.3.0)\n",
            "Requirement already satisfied: rsa<5,>=3.1.4 in /usr/local/lib/python3.10/dist-packages (from google-auth<3,>=1.6.3->tensorboard<2.15,>=2.14->tensorflow) (4.9)\n",
            "Requirement already satisfied: requests-oauthlib>=0.7.0 in /usr/local/lib/python3.10/dist-packages (from google-auth-oauthlib<1.1,>=0.5->tensorboard<2.15,>=2.14->tensorflow) (1.3.1)\n",
            "Requirement already satisfied: charset-normalizer<4,>=2 in /usr/local/lib/python3.10/dist-packages (from requests<3,>=2.21.0->tensorboard<2.15,>=2.14->tensorflow) (3.3.2)\n",
            "Requirement already satisfied: idna<4,>=2.5 in /usr/local/lib/python3.10/dist-packages (from requests<3,>=2.21.0->tensorboard<2.15,>=2.14->tensorflow) (3.4)\n",
            "Requirement already satisfied: urllib3<3,>=1.21.1 in /usr/local/lib/python3.10/dist-packages (from requests<3,>=2.21.0->tensorboard<2.15,>=2.14->tensorflow) (2.0.7)\n",
            "Requirement already satisfied: certifi>=2017.4.17 in /usr/local/lib/python3.10/dist-packages (from requests<3,>=2.21.0->tensorboard<2.15,>=2.14->tensorflow) (2023.7.22)\n",
            "Requirement already satisfied: MarkupSafe>=2.1.1 in /usr/local/lib/python3.10/dist-packages (from werkzeug>=1.0.1->tensorboard<2.15,>=2.14->tensorflow) (2.1.3)\n",
            "Requirement already satisfied: pyasn1<0.6.0,>=0.4.6 in /usr/local/lib/python3.10/dist-packages (from pyasn1-modules>=0.2.1->google-auth<3,>=1.6.3->tensorboard<2.15,>=2.14->tensorflow) (0.5.0)\n",
            "Requirement already satisfied: oauthlib>=3.0.0 in /usr/local/lib/python3.10/dist-packages (from requests-oauthlib>=0.7.0->google-auth-oauthlib<1.1,>=0.5->tensorboard<2.15,>=2.14->tensorflow) (3.2.2)\n"
          ]
        }
      ],
      "source": [
        "pip install tensorflow"
      ]
    },
    {
      "cell_type": "code",
      "execution_count": 8,
      "metadata": {
        "colab": {
          "base_uri": "https://localhost:8080/"
        },
        "id": "naJ5OtlIEo3P",
        "outputId": "0cbf4311-e9eb-4c80-cbd2-711b42f7dfb6"
      },
      "outputs": [
        {
          "output_type": "stream",
          "name": "stdout",
          "text": [
            "Requirement already satisfied: scikeras in /usr/local/lib/python3.10/dist-packages (0.12.0)\n",
            "Requirement already satisfied: packaging>=0.21 in /usr/local/lib/python3.10/dist-packages (from scikeras) (23.2)\n",
            "Requirement already satisfied: scikit-learn>=1.0.0 in /usr/local/lib/python3.10/dist-packages (from scikeras) (1.2.2)\n",
            "Requirement already satisfied: numpy>=1.17.3 in /usr/local/lib/python3.10/dist-packages (from scikit-learn>=1.0.0->scikeras) (1.23.5)\n",
            "Requirement already satisfied: scipy>=1.3.2 in /usr/local/lib/python3.10/dist-packages (from scikit-learn>=1.0.0->scikeras) (1.11.3)\n",
            "Requirement already satisfied: joblib>=1.1.1 in /usr/local/lib/python3.10/dist-packages (from scikit-learn>=1.0.0->scikeras) (1.3.2)\n",
            "Requirement already satisfied: threadpoolctl>=2.0.0 in /usr/local/lib/python3.10/dist-packages (from scikit-learn>=1.0.0->scikeras) (3.2.0)\n"
          ]
        }
      ],
      "source": [
        "!pip install scikeras\n",
        "from scikeras.wrappers import KerasClassifier"
      ]
    },
    {
      "cell_type": "code",
      "execution_count": 9,
      "metadata": {
        "colab": {
          "base_uri": "https://localhost:8080/"
        },
        "id": "Ew2A_L24TeUk",
        "outputId": "08dae7ee-721d-44b9-d72b-1124383fa6e3"
      },
      "outputs": [
        {
          "output_type": "stream",
          "name": "stdout",
          "text": [
            "Requirement already satisfied: keras-tuner in /usr/local/lib/python3.10/dist-packages (1.4.6)\n",
            "Requirement already satisfied: keras in /usr/local/lib/python3.10/dist-packages (from keras-tuner) (2.14.0)\n",
            "Requirement already satisfied: packaging in /usr/local/lib/python3.10/dist-packages (from keras-tuner) (23.2)\n",
            "Requirement already satisfied: requests in /usr/local/lib/python3.10/dist-packages (from keras-tuner) (2.31.0)\n",
            "Requirement already satisfied: kt-legacy in /usr/local/lib/python3.10/dist-packages (from keras-tuner) (1.0.5)\n",
            "Requirement already satisfied: charset-normalizer<4,>=2 in /usr/local/lib/python3.10/dist-packages (from requests->keras-tuner) (3.3.2)\n",
            "Requirement already satisfied: idna<4,>=2.5 in /usr/local/lib/python3.10/dist-packages (from requests->keras-tuner) (3.4)\n",
            "Requirement already satisfied: urllib3<3,>=1.21.1 in /usr/local/lib/python3.10/dist-packages (from requests->keras-tuner) (2.0.7)\n",
            "Requirement already satisfied: certifi>=2017.4.17 in /usr/local/lib/python3.10/dist-packages (from requests->keras-tuner) (2023.7.22)\n"
          ]
        }
      ],
      "source": [
        "pip install keras-tuner"
      ]
    },
    {
      "cell_type": "code",
      "execution_count": 10,
      "metadata": {
        "id": "MkyI4LDgoT96"
      },
      "outputs": [],
      "source": [
        "import numpy as np\n",
        "from sklearn.model_selection import train_test_split\n",
        "from skopt import BayesSearchCV\n",
        "from skopt.space import Real, Integer\n",
        "import joblib\n",
        "from sklearn.model_selection import train_test_split\n",
        "import numpy as np\n",
        "\n",
        "import pandas as pd\n",
        "\n",
        "from sklearn.model_selection import GridSearchCV, RepeatedKFold\n",
        "from sklearn.model_selection import train_test_split\n",
        "from sklearn.metrics import mean_squared_error as MSE\n",
        "from sklearn.preprocessing import StandardScaler\n",
        "from sklearn.metrics import mean_squared_error, r2_score\n",
        "\n",
        "from sklearn.model_selection import train_test_split\n",
        "\n",
        "import numpy as np\n",
        "\n",
        "import pickle\n",
        "import pandas as pd\n",
        "from sklearn.preprocessing import LabelEncoder\n",
        "import sys\n",
        "from sklearn import svm\n",
        "from sklearn.model_selection import GridSearchCV\n",
        "from numpy import mean\n",
        "from numpy import std\n",
        "from sklearn.datasets import make_classification\n",
        "from sklearn.model_selection import KFold\n",
        "from sklearn.model_selection import GridSearchCV\n",
        "from sklearn.preprocessing import StandardScaler\n",
        "from sklearn.metrics import accuracy_score, classification_report\n",
        "from scikeras.wrappers import KerasClassifier\n",
        "from tensorflow.keras.models import Sequential\n",
        "from tensorflow.keras.layers import Dense\n",
        "from tensorflow.keras.utils import to_categorical\n",
        "from sklearn.metrics import accuracy_score\n",
        "import matplotlib.pyplot as plt\n",
        "from pandas import read_csv\n",
        "from sklearn.model_selection import cross_val_score\n",
        "from sklearn.svm import SVC\n",
        "from sklearn.model_selection import RepeatedStratifiedKFold\n",
        "from skopt import BayesSearchCV\n",
        "from sklearn.utils import shuffle\n",
        "from kerastuner.tuners import RandomSearch\n",
        "from kerastuner.tuners import BayesianOptimization"
      ]
    },
    {
      "cell_type": "code",
      "execution_count": 11,
      "metadata": {
        "colab": {
          "base_uri": "https://localhost:8080/",
          "height": 246
        },
        "id": "_lEkJ1mmZaa4",
        "outputId": "341d17b3-715c-418d-953d-d8e3e977e9f8"
      },
      "outputs": [
        {
          "output_type": "display_data",
          "data": {
            "text/plain": [
              "<IPython.core.display.HTML object>"
            ],
            "text/html": [
              "\n",
              "     <input type=\"file\" id=\"files-e5401481-4445-4a55-921b-4a52bf3f3089\" name=\"files[]\" multiple disabled\n",
              "        style=\"border:none\" />\n",
              "     <output id=\"result-e5401481-4445-4a55-921b-4a52bf3f3089\">\n",
              "      Upload widget is only available when the cell has been executed in the\n",
              "      current browser session. Please rerun this cell to enable.\n",
              "      </output>\n",
              "      <script>// Copyright 2017 Google LLC\n",
              "//\n",
              "// Licensed under the Apache License, Version 2.0 (the \"License\");\n",
              "// you may not use this file except in compliance with the License.\n",
              "// You may obtain a copy of the License at\n",
              "//\n",
              "//      http://www.apache.org/licenses/LICENSE-2.0\n",
              "//\n",
              "// Unless required by applicable law or agreed to in writing, software\n",
              "// distributed under the License is distributed on an \"AS IS\" BASIS,\n",
              "// WITHOUT WARRANTIES OR CONDITIONS OF ANY KIND, either express or implied.\n",
              "// See the License for the specific language governing permissions and\n",
              "// limitations under the License.\n",
              "\n",
              "/**\n",
              " * @fileoverview Helpers for google.colab Python module.\n",
              " */\n",
              "(function(scope) {\n",
              "function span(text, styleAttributes = {}) {\n",
              "  const element = document.createElement('span');\n",
              "  element.textContent = text;\n",
              "  for (const key of Object.keys(styleAttributes)) {\n",
              "    element.style[key] = styleAttributes[key];\n",
              "  }\n",
              "  return element;\n",
              "}\n",
              "\n",
              "// Max number of bytes which will be uploaded at a time.\n",
              "const MAX_PAYLOAD_SIZE = 100 * 1024;\n",
              "\n",
              "function _uploadFiles(inputId, outputId) {\n",
              "  const steps = uploadFilesStep(inputId, outputId);\n",
              "  const outputElement = document.getElementById(outputId);\n",
              "  // Cache steps on the outputElement to make it available for the next call\n",
              "  // to uploadFilesContinue from Python.\n",
              "  outputElement.steps = steps;\n",
              "\n",
              "  return _uploadFilesContinue(outputId);\n",
              "}\n",
              "\n",
              "// This is roughly an async generator (not supported in the browser yet),\n",
              "// where there are multiple asynchronous steps and the Python side is going\n",
              "// to poll for completion of each step.\n",
              "// This uses a Promise to block the python side on completion of each step,\n",
              "// then passes the result of the previous step as the input to the next step.\n",
              "function _uploadFilesContinue(outputId) {\n",
              "  const outputElement = document.getElementById(outputId);\n",
              "  const steps = outputElement.steps;\n",
              "\n",
              "  const next = steps.next(outputElement.lastPromiseValue);\n",
              "  return Promise.resolve(next.value.promise).then((value) => {\n",
              "    // Cache the last promise value to make it available to the next\n",
              "    // step of the generator.\n",
              "    outputElement.lastPromiseValue = value;\n",
              "    return next.value.response;\n",
              "  });\n",
              "}\n",
              "\n",
              "/**\n",
              " * Generator function which is called between each async step of the upload\n",
              " * process.\n",
              " * @param {string} inputId Element ID of the input file picker element.\n",
              " * @param {string} outputId Element ID of the output display.\n",
              " * @return {!Iterable<!Object>} Iterable of next steps.\n",
              " */\n",
              "function* uploadFilesStep(inputId, outputId) {\n",
              "  const inputElement = document.getElementById(inputId);\n",
              "  inputElement.disabled = false;\n",
              "\n",
              "  const outputElement = document.getElementById(outputId);\n",
              "  outputElement.innerHTML = '';\n",
              "\n",
              "  const pickedPromise = new Promise((resolve) => {\n",
              "    inputElement.addEventListener('change', (e) => {\n",
              "      resolve(e.target.files);\n",
              "    });\n",
              "  });\n",
              "\n",
              "  const cancel = document.createElement('button');\n",
              "  inputElement.parentElement.appendChild(cancel);\n",
              "  cancel.textContent = 'Cancel upload';\n",
              "  const cancelPromise = new Promise((resolve) => {\n",
              "    cancel.onclick = () => {\n",
              "      resolve(null);\n",
              "    };\n",
              "  });\n",
              "\n",
              "  // Wait for the user to pick the files.\n",
              "  const files = yield {\n",
              "    promise: Promise.race([pickedPromise, cancelPromise]),\n",
              "    response: {\n",
              "      action: 'starting',\n",
              "    }\n",
              "  };\n",
              "\n",
              "  cancel.remove();\n",
              "\n",
              "  // Disable the input element since further picks are not allowed.\n",
              "  inputElement.disabled = true;\n",
              "\n",
              "  if (!files) {\n",
              "    return {\n",
              "      response: {\n",
              "        action: 'complete',\n",
              "      }\n",
              "    };\n",
              "  }\n",
              "\n",
              "  for (const file of files) {\n",
              "    const li = document.createElement('li');\n",
              "    li.append(span(file.name, {fontWeight: 'bold'}));\n",
              "    li.append(span(\n",
              "        `(${file.type || 'n/a'}) - ${file.size} bytes, ` +\n",
              "        `last modified: ${\n",
              "            file.lastModifiedDate ? file.lastModifiedDate.toLocaleDateString() :\n",
              "                                    'n/a'} - `));\n",
              "    const percent = span('0% done');\n",
              "    li.appendChild(percent);\n",
              "\n",
              "    outputElement.appendChild(li);\n",
              "\n",
              "    const fileDataPromise = new Promise((resolve) => {\n",
              "      const reader = new FileReader();\n",
              "      reader.onload = (e) => {\n",
              "        resolve(e.target.result);\n",
              "      };\n",
              "      reader.readAsArrayBuffer(file);\n",
              "    });\n",
              "    // Wait for the data to be ready.\n",
              "    let fileData = yield {\n",
              "      promise: fileDataPromise,\n",
              "      response: {\n",
              "        action: 'continue',\n",
              "      }\n",
              "    };\n",
              "\n",
              "    // Use a chunked sending to avoid message size limits. See b/62115660.\n",
              "    let position = 0;\n",
              "    do {\n",
              "      const length = Math.min(fileData.byteLength - position, MAX_PAYLOAD_SIZE);\n",
              "      const chunk = new Uint8Array(fileData, position, length);\n",
              "      position += length;\n",
              "\n",
              "      const base64 = btoa(String.fromCharCode.apply(null, chunk));\n",
              "      yield {\n",
              "        response: {\n",
              "          action: 'append',\n",
              "          file: file.name,\n",
              "          data: base64,\n",
              "        },\n",
              "      };\n",
              "\n",
              "      let percentDone = fileData.byteLength === 0 ?\n",
              "          100 :\n",
              "          Math.round((position / fileData.byteLength) * 100);\n",
              "      percent.textContent = `${percentDone}% done`;\n",
              "\n",
              "    } while (position < fileData.byteLength);\n",
              "  }\n",
              "\n",
              "  // All done.\n",
              "  yield {\n",
              "    response: {\n",
              "      action: 'complete',\n",
              "    }\n",
              "  };\n",
              "}\n",
              "\n",
              "scope.google = scope.google || {};\n",
              "scope.google.colab = scope.google.colab || {};\n",
              "scope.google.colab._files = {\n",
              "  _uploadFiles,\n",
              "  _uploadFilesContinue,\n",
              "};\n",
              "})(self);\n",
              "</script> "
            ]
          },
          "metadata": {}
        },
        {
          "output_type": "stream",
          "name": "stdout",
          "text": [
            "Saving Orbital_test.csv to Orbital_test (2).csv\n",
            "Saving Orbital_train.csv to Orbital_train (2).csv\n",
            "Saving Sine_test.csv to Sine_test (2).csv\n",
            "Saving Sine_train.csv to Sine_train (2).csv\n",
            "Saving Xrd_test.csv to Xrd_test (2).csv\n",
            "Saving Xrd_train.csv to Xrd_train (2).csv\n"
          ]
        }
      ],
      "source": [
        "from google.colab import files\n",
        "uploaded= files.upload()"
      ]
    },
    {
      "cell_type": "code",
      "execution_count": null,
      "metadata": {
        "colab": {
          "base_uri": "https://localhost:8080/"
        },
        "id": "8fAe7jNTVg9w",
        "outputId": "e9ca3f97-54d0-4a8b-b3ca-6ead282f7592"
      },
      "outputs": [
        {
          "output_type": "execute_result",
          "data": {
            "text/plain": [
              "(596, 166)"
            ]
          },
          "metadata": {},
          "execution_count": 10
        }
      ],
      "source": [
        "df= pd.read_csv('Sine_train.csv')\n",
        "df.shape"
      ]
    },
    {
      "cell_type": "code",
      "execution_count": null,
      "metadata": {
        "colab": {
          "base_uri": "https://localhost:8080/"
        },
        "id": "Ur5GfB4wfuN2",
        "outputId": "0a08083b-8e86-4865-e58b-f8f1b7edee7e"
      },
      "outputs": [
        {
          "output_type": "execute_result",
          "data": {
            "text/plain": [
              "0          trigonal\n",
              "1        tetragonal\n",
              "2      orthorhombic\n",
              "3      orthorhombic\n",
              "4             cubic\n",
              "           ...     \n",
              "591      monoclinic\n",
              "592        trigonal\n",
              "593    orthorhombic\n",
              "594        trigonal\n",
              "595      monoclinic\n",
              "Name: crystal_system, Length: 596, dtype: object"
            ]
          },
          "metadata": {},
          "execution_count": 11
        }
      ],
      "source": [
        "X_train=df.iloc[:,14:]\n",
        "y_train=df['crystal_system']\n",
        "\n",
        "y_train"
      ]
    },
    {
      "cell_type": "code",
      "execution_count": null,
      "metadata": {
        "colab": {
          "base_uri": "https://localhost:8080/"
        },
        "id": "qvMA_Mde16EB",
        "outputId": "b933d48e-8376-4a5c-c25b-c74a70730bc4"
      },
      "outputs": [
        {
          "output_type": "execute_result",
          "data": {
            "text/plain": [
              "(596, 152)"
            ]
          },
          "metadata": {},
          "execution_count": 12
        }
      ],
      "source": [
        "X_train.shape"
      ]
    },
    {
      "cell_type": "code",
      "execution_count": null,
      "metadata": {
        "colab": {
          "base_uri": "https://localhost:8080/"
        },
        "id": "RYhbUiHPPUKB",
        "outputId": "b6856331-dd44-42ae-c98c-6ddc1cec6360"
      },
      "outputs": [
        {
          "output_type": "execute_result",
          "data": {
            "text/plain": [
              "0           cubic\n",
              "1           cubic\n",
              "2       triclinic\n",
              "3       triclinic\n",
              "4       triclinic\n",
              "          ...    \n",
              "144    monoclinic\n",
              "145         cubic\n",
              "146      trigonal\n",
              "147     hexagonal\n",
              "148         cubic\n",
              "Name: crystal_system, Length: 149, dtype: object"
            ]
          },
          "metadata": {},
          "execution_count": 13
        }
      ],
      "source": [
        "df=pd.read_csv('Sine_test.csv')\n",
        "X_test=df.iloc[:,14:]\n",
        "\n",
        "y_test=df['crystal_system']\n",
        "\n",
        "y_test"
      ]
    },
    {
      "cell_type": "code",
      "execution_count": null,
      "metadata": {
        "colab": {
          "base_uri": "https://localhost:8080/"
        },
        "id": "dE_aLIZI4zc0",
        "outputId": "e1c4025c-176e-4c09-f0c8-f3f692ae75e5"
      },
      "outputs": [
        {
          "output_type": "execute_result",
          "data": {
            "text/plain": [
              "(149, 152)"
            ]
          },
          "metadata": {},
          "execution_count": 14
        }
      ],
      "source": [
        "X_test.shape"
      ]
    },
    {
      "cell_type": "code",
      "execution_count": null,
      "metadata": {
        "id": "iEpMPzQPryg3"
      },
      "outputs": [],
      "source": [
        "from sklearn.preprocessing import StandardScaler\n",
        "from sklearn.preprocessing import OneHotEncoder\n",
        "\n",
        "# Data Preprocessing\n",
        "# Create a scaler object\n",
        "scaler = StandardScaler()\n",
        "\n",
        "# Fit scaler on the training data\n",
        "scaler.fit(X_train)\n",
        "\n",
        "# Apply the scaler to both the training and test data\n",
        "X_train_normalized = scaler.transform(X_train)\n",
        "X_test_normalized = scaler.transform(X_test)\n",
        "\n",
        "# Convert pandas Series to NumPy array and reshape\n",
        "y_train_array = y_train.to_numpy().reshape(-1, 1)\n",
        "y_test_array = y_test.to_numpy().reshape(-1, 1)\n",
        "\n",
        "# Initialize the OneHotEncoder\n",
        "encoder = OneHotEncoder()\n",
        "\n",
        "# Apply one-hot encoding\n",
        "y_train_encoded = encoder.fit_transform(y_train_array).toarray()\n",
        "y_test_encoded = encoder.transform(y_test_array).toarray()"
      ]
    },
    {
      "cell_type": "code",
      "execution_count": null,
      "metadata": {
        "id": "TDSsv2a4dSuY"
      },
      "outputs": [],
      "source": [
        "import tensorflow as tf\n",
        "from tensorflow import keras\n",
        "from kerastuner.tuners import BayesianOptimization"
      ]
    },
    {
      "cell_type": "code",
      "execution_count": null,
      "metadata": {
        "id": "61UGrH0vc6CB"
      },
      "outputs": [],
      "source": [
        "import tensorflow as tf\n",
        "from tensorflow import keras\n",
        "from kerastuner.tuners import BayesianOptimization\n",
        "\n",
        "def build_classification_model(hp):\n",
        "    inputs = tf.keras.Input(shape=(152,))  # Update the input shape to match your dataset\n",
        "\n",
        "    x = inputs\n",
        "\n",
        "    # Add one or more dense layers with hyperparameter tuning\n",
        "    for i in range(hp.Int(\"dense_layers\", 1, 12, default=1)):\n",
        "        x = tf.keras.layers.Dense(\n",
        "            units=hp.Int('dense_units'+str(i), min_value=2, max_value=152, step=3, default=32),\n",
        "            activation='relu',\n",
        "        )(x)\n",
        "        x = tf.keras.layers.Dropout(hp.Float('dropout_dense_' + str(i), 0.1, 0.8, step=0.1, default=0.3))(x)\n",
        "\n",
        "    # Output layer for classification with 7 classes\n",
        "    outputs = tf.keras.layers.Dense(7, activation=\"softmax\")(x)\n",
        "\n",
        "    model = tf.keras.Model(inputs, outputs)\n",
        "\n",
        "    model.compile(\n",
        "        optimizer=keras.optimizers.Adam(hp.Choice('learning_rate', values=[1e-1, 1e-2, 1e-3, 1e-4])),\n",
        "        loss='categorical_crossentropy',  # Use appropriate classification loss\n",
        "        metrics=['accuracy']  # Use accuracy for classification\n",
        "    )\n",
        "\n",
        "    return model"
      ]
    },
    {
      "cell_type": "code",
      "execution_count": null,
      "metadata": {
        "colab": {
          "base_uri": "https://localhost:8080/"
        },
        "id": "ozizO1d9dHtA",
        "outputId": "7468ff2d-c7a0-4bce-9e85-3162b8f98306"
      },
      "outputs": [
        {
          "output_type": "stream",
          "name": "stdout",
          "text": [
            "Trial 1000 Complete [00h 00m 11s]\n",
            "val_accuracy: 0.5166666507720947\n",
            "\n",
            "Best val_accuracy So Far: 0.5916666388511658\n",
            "Total elapsed time: 04h 13m 13s\n",
            "Epoch 1/50\n",
            "19/19 [==============================] - 1s 2ms/step - loss: 34.1014 - accuracy: 0.4732\n",
            "Epoch 2/50\n",
            "19/19 [==============================] - 0s 2ms/step - loss: 60.0277 - accuracy: 0.5302\n",
            "Epoch 3/50\n",
            "19/19 [==============================] - 0s 2ms/step - loss: 20.2241 - accuracy: 0.5503\n",
            "Epoch 4/50\n",
            "19/19 [==============================] - 0s 2ms/step - loss: 15.9275 - accuracy: 0.5772\n",
            "Epoch 5/50\n",
            "19/19 [==============================] - 0s 2ms/step - loss: 11.4210 - accuracy: 0.5973\n",
            "Epoch 6/50\n",
            "19/19 [==============================] - 0s 2ms/step - loss: 4.7240 - accuracy: 0.6326\n",
            "Epoch 7/50\n",
            "19/19 [==============================] - 0s 2ms/step - loss: 5.2128 - accuracy: 0.6158\n",
            "Epoch 8/50\n",
            "19/19 [==============================] - 0s 2ms/step - loss: 2.7245 - accuracy: 0.6242\n",
            "Epoch 9/50\n",
            "19/19 [==============================] - 0s 2ms/step - loss: 3.0888 - accuracy: 0.6191\n",
            "Epoch 10/50\n",
            "19/19 [==============================] - 0s 2ms/step - loss: 38.3477 - accuracy: 0.5705\n",
            "Epoch 11/50\n",
            "19/19 [==============================] - 0s 2ms/step - loss: 32.2981 - accuracy: 0.6091\n",
            "Epoch 12/50\n",
            "19/19 [==============================] - 0s 2ms/step - loss: 11.6902 - accuracy: 0.6158\n",
            "Epoch 13/50\n",
            "19/19 [==============================] - 0s 2ms/step - loss: 19.6740 - accuracy: 0.6124\n",
            "Epoch 14/50\n",
            "19/19 [==============================] - 0s 2ms/step - loss: 8.9022 - accuracy: 0.6007\n",
            "Epoch 15/50\n",
            "19/19 [==============================] - 0s 2ms/step - loss: 6.8423 - accuracy: 0.6258\n",
            "Epoch 16/50\n",
            "19/19 [==============================] - 0s 2ms/step - loss: 5.4734 - accuracy: 0.6191\n",
            "Epoch 17/50\n",
            "19/19 [==============================] - 0s 2ms/step - loss: 2.9652 - accuracy: 0.6510\n",
            "Epoch 18/50\n",
            "19/19 [==============================] - 0s 2ms/step - loss: 5.5262 - accuracy: 0.6309\n",
            "Epoch 19/50\n",
            "19/19 [==============================] - 0s 2ms/step - loss: 8.3268 - accuracy: 0.6107\n",
            "Epoch 20/50\n",
            "19/19 [==============================] - 0s 2ms/step - loss: 17.7668 - accuracy: 0.6376\n",
            "Epoch 21/50\n",
            "19/19 [==============================] - 0s 2ms/step - loss: 3.6215 - accuracy: 0.6107\n",
            "Epoch 22/50\n",
            "19/19 [==============================] - 0s 2ms/step - loss: 68.2918 - accuracy: 0.6326\n",
            "Epoch 23/50\n",
            "19/19 [==============================] - 0s 2ms/step - loss: 9.6282 - accuracy: 0.6275\n",
            "Epoch 24/50\n",
            "19/19 [==============================] - 0s 2ms/step - loss: 5.8315 - accuracy: 0.6242\n",
            "Epoch 25/50\n",
            "19/19 [==============================] - 0s 2ms/step - loss: 3.3999 - accuracy: 0.6577\n",
            "Epoch 26/50\n",
            "19/19 [==============================] - 0s 2ms/step - loss: 8.9145 - accuracy: 0.6460\n",
            "Epoch 27/50\n",
            "19/19 [==============================] - 0s 2ms/step - loss: 2.3964 - accuracy: 0.6762\n",
            "Epoch 28/50\n",
            "19/19 [==============================] - 0s 2ms/step - loss: 1.9086 - accuracy: 0.6560\n",
            "Epoch 29/50\n",
            "19/19 [==============================] - 0s 3ms/step - loss: 4.1336 - accuracy: 0.6745\n",
            "Epoch 30/50\n",
            "19/19 [==============================] - 0s 2ms/step - loss: 7.0730 - accuracy: 0.6762\n",
            "Epoch 31/50\n",
            "19/19 [==============================] - 0s 2ms/step - loss: 8.4678 - accuracy: 0.6527\n",
            "Epoch 32/50\n",
            "19/19 [==============================] - 0s 2ms/step - loss: 10.9887 - accuracy: 0.6795\n",
            "Epoch 33/50\n",
            "19/19 [==============================] - 0s 2ms/step - loss: 5.8776 - accuracy: 0.5738\n",
            "Epoch 34/50\n",
            "19/19 [==============================] - 0s 2ms/step - loss: 2.0013 - accuracy: 0.6711\n",
            "Epoch 35/50\n",
            "19/19 [==============================] - 0s 2ms/step - loss: 1.3444 - accuracy: 0.6862\n",
            "Epoch 36/50\n",
            "19/19 [==============================] - 0s 2ms/step - loss: 1.3348 - accuracy: 0.7265\n",
            "Epoch 37/50\n",
            "19/19 [==============================] - 0s 2ms/step - loss: 1.5224 - accuracy: 0.7164\n",
            "Epoch 38/50\n",
            "19/19 [==============================] - 0s 2ms/step - loss: 0.9224 - accuracy: 0.7315\n",
            "Epoch 39/50\n",
            "19/19 [==============================] - 0s 2ms/step - loss: 0.7747 - accuracy: 0.7315\n",
            "Epoch 40/50\n",
            "19/19 [==============================] - 0s 2ms/step - loss: 0.6762 - accuracy: 0.7383\n",
            "Epoch 41/50\n",
            "19/19 [==============================] - 0s 2ms/step - loss: 0.8243 - accuracy: 0.7500\n",
            "Epoch 42/50\n",
            "19/19 [==============================] - 0s 2ms/step - loss: 0.7510 - accuracy: 0.7416\n",
            "Epoch 43/50\n",
            "19/19 [==============================] - 0s 2ms/step - loss: 0.7364 - accuracy: 0.7383\n",
            "Epoch 44/50\n",
            "19/19 [==============================] - 0s 2ms/step - loss: 0.7266 - accuracy: 0.7483\n",
            "Epoch 45/50\n",
            "19/19 [==============================] - 0s 2ms/step - loss: 0.7095 - accuracy: 0.7517\n",
            "Epoch 46/50\n",
            "19/19 [==============================] - 0s 2ms/step - loss: 0.6057 - accuracy: 0.7383\n",
            "Epoch 47/50\n",
            "19/19 [==============================] - 0s 2ms/step - loss: 0.6400 - accuracy: 0.7450\n",
            "Epoch 48/50\n",
            "19/19 [==============================] - 0s 2ms/step - loss: 0.6072 - accuracy: 0.7517\n",
            "Epoch 49/50\n",
            "19/19 [==============================] - 0s 2ms/step - loss: 0.5715 - accuracy: 0.7668\n",
            "Epoch 50/50\n",
            "19/19 [==============================] - 0s 2ms/step - loss: 0.6661 - accuracy: 0.7466\n",
            "Best Hyperparameters:\n",
            "{'space': [{'class_name': 'Int', 'config': {'name': 'dense_layers', 'default': 1, 'conditions': [], 'min_value': 1, 'max_value': 12, 'step': 1, 'sampling': 'linear'}}, {'class_name': 'Int', 'config': {'name': 'dense_units0', 'default': 32, 'conditions': [], 'min_value': 2, 'max_value': 152, 'step': 3, 'sampling': 'linear'}}, {'class_name': 'Float', 'config': {'name': 'dropout_dense_0', 'default': 0.3, 'conditions': [], 'min_value': 0.1, 'max_value': 0.8, 'step': 0.1, 'sampling': 'linear'}}, {'class_name': 'Choice', 'config': {'name': 'learning_rate', 'default': 0.1, 'conditions': [], 'values': [0.1, 0.01, 0.001, 0.0001], 'ordered': True}}, {'class_name': 'Int', 'config': {'name': 'dense_units1', 'default': 32, 'conditions': [], 'min_value': 2, 'max_value': 152, 'step': 3, 'sampling': 'linear'}}, {'class_name': 'Float', 'config': {'name': 'dropout_dense_1', 'default': 0.3, 'conditions': [], 'min_value': 0.1, 'max_value': 0.8, 'step': 0.1, 'sampling': 'linear'}}, {'class_name': 'Int', 'config': {'name': 'dense_units2', 'default': 32, 'conditions': [], 'min_value': 2, 'max_value': 152, 'step': 3, 'sampling': 'linear'}}, {'class_name': 'Float', 'config': {'name': 'dropout_dense_2', 'default': 0.3, 'conditions': [], 'min_value': 0.1, 'max_value': 0.8, 'step': 0.1, 'sampling': 'linear'}}, {'class_name': 'Int', 'config': {'name': 'dense_units3', 'default': 32, 'conditions': [], 'min_value': 2, 'max_value': 152, 'step': 3, 'sampling': 'linear'}}, {'class_name': 'Float', 'config': {'name': 'dropout_dense_3', 'default': 0.3, 'conditions': [], 'min_value': 0.1, 'max_value': 0.8, 'step': 0.1, 'sampling': 'linear'}}, {'class_name': 'Int', 'config': {'name': 'dense_units4', 'default': 32, 'conditions': [], 'min_value': 2, 'max_value': 152, 'step': 3, 'sampling': 'linear'}}, {'class_name': 'Float', 'config': {'name': 'dropout_dense_4', 'default': 0.3, 'conditions': [], 'min_value': 0.1, 'max_value': 0.8, 'step': 0.1, 'sampling': 'linear'}}, {'class_name': 'Int', 'config': {'name': 'dense_units5', 'default': 32, 'conditions': [], 'min_value': 2, 'max_value': 152, 'step': 3, 'sampling': 'linear'}}, {'class_name': 'Float', 'config': {'name': 'dropout_dense_5', 'default': 0.3, 'conditions': [], 'min_value': 0.1, 'max_value': 0.8, 'step': 0.1, 'sampling': 'linear'}}, {'class_name': 'Int', 'config': {'name': 'dense_units6', 'default': 32, 'conditions': [], 'min_value': 2, 'max_value': 152, 'step': 3, 'sampling': 'linear'}}, {'class_name': 'Float', 'config': {'name': 'dropout_dense_6', 'default': 0.3, 'conditions': [], 'min_value': 0.1, 'max_value': 0.8, 'step': 0.1, 'sampling': 'linear'}}, {'class_name': 'Int', 'config': {'name': 'dense_units7', 'default': 32, 'conditions': [], 'min_value': 2, 'max_value': 152, 'step': 3, 'sampling': 'linear'}}, {'class_name': 'Float', 'config': {'name': 'dropout_dense_7', 'default': 0.3, 'conditions': [], 'min_value': 0.1, 'max_value': 0.8, 'step': 0.1, 'sampling': 'linear'}}, {'class_name': 'Int', 'config': {'name': 'dense_units8', 'default': 32, 'conditions': [], 'min_value': 2, 'max_value': 152, 'step': 3, 'sampling': 'linear'}}, {'class_name': 'Float', 'config': {'name': 'dropout_dense_8', 'default': 0.3, 'conditions': [], 'min_value': 0.1, 'max_value': 0.8, 'step': 0.1, 'sampling': 'linear'}}, {'class_name': 'Int', 'config': {'name': 'dense_units9', 'default': 32, 'conditions': [], 'min_value': 2, 'max_value': 152, 'step': 3, 'sampling': 'linear'}}, {'class_name': 'Float', 'config': {'name': 'dropout_dense_9', 'default': 0.3, 'conditions': [], 'min_value': 0.1, 'max_value': 0.8, 'step': 0.1, 'sampling': 'linear'}}, {'class_name': 'Int', 'config': {'name': 'dense_units10', 'default': 32, 'conditions': [], 'min_value': 2, 'max_value': 152, 'step': 3, 'sampling': 'linear'}}, {'class_name': 'Float', 'config': {'name': 'dropout_dense_10', 'default': 0.3, 'conditions': [], 'min_value': 0.1, 'max_value': 0.8, 'step': 0.1, 'sampling': 'linear'}}, {'class_name': 'Int', 'config': {'name': 'dense_units11', 'default': 32, 'conditions': [], 'min_value': 2, 'max_value': 152, 'step': 3, 'sampling': 'linear'}}, {'class_name': 'Float', 'config': {'name': 'dropout_dense_11', 'default': 0.3, 'conditions': [], 'min_value': 0.1, 'max_value': 0.8, 'step': 0.1, 'sampling': 'linear'}}], 'values': {'dense_layers': 1, 'dense_units0': 152, 'dropout_dense_0': 0.1, 'learning_rate': 0.1, 'dense_units1': 152, 'dropout_dense_1': 0.8, 'dense_units2': 14, 'dropout_dense_2': 0.4, 'dense_units3': 71, 'dropout_dense_3': 0.1, 'dense_units4': 110, 'dropout_dense_4': 0.1, 'dense_units5': 20, 'dropout_dense_5': 0.1, 'dense_units6': 2, 'dropout_dense_6': 0.2, 'dense_units7': 2, 'dropout_dense_7': 0.30000000000000004, 'dense_units8': 2, 'dropout_dense_8': 0.6, 'dense_units9': 2, 'dropout_dense_9': 0.1, 'dense_units10': 107, 'dropout_dense_10': 0.1, 'dense_units11': 2, 'dropout_dense_11': 0.1}}\n",
            "Training Accuracy: 0.781879186630249\n",
            "Testing Accuracy: 0.7315436005592346\n"
          ]
        }
      ],
      "source": [
        "# Define the BayesianOptimization tuner\n",
        "tuner = BayesianOptimization(\n",
        "    build_classification_model,\n",
        "    objective='val_accuracy',\n",
        "    num_initial_points=5,  # Number of random initializations\n",
        "    max_trials=1000,  # Number of Bayesian optimization iterations\n",
        "    directory='tuner_dir',  # Directory to store results\n",
        "    project_name='classification_model'\n",
        ")\n",
        "\n",
        "# Perform hyperparameter tuning\n",
        "tuner.search(X_train_normalized, y_train_encoded, epochs=10, validation_split=0.2)\n",
        "\n",
        "# Get the best hyperparameters\n",
        "best_hparams = tuner.get_best_hyperparameters(num_trials=1)[0]\n",
        "\n",
        "# Build the model with the best hyperparameters\n",
        "best_model = build_classification_model(best_hparams)\n",
        "\n",
        "# Compile the model\n",
        "best_model.compile(\n",
        "    optimizer=keras.optimizers.Adam(best_hparams.get('learning_rate')),\n",
        "    loss='categorical_crossentropy',\n",
        "    metrics=['accuracy']\n",
        ")\n",
        "\n",
        "# Train the model on the entire training dataset\n",
        "history = best_model.fit(X_train_normalized, y_train_encoded, epochs=50)\n",
        "\n",
        "# Evaluate the model on the training and testing data\n",
        "train_accuracy = best_model.evaluate(X_train_normalized, y_train_encoded, verbose=0)[1]\n",
        "test_accuracy = best_model.evaluate(X_test_normalized, y_test_encoded, verbose=0)[1]\n",
        "\n",
        "# Print the results\n",
        "print(\"Best Hyperparameters:\")\n",
        "print(best_hparams.get_config())\n",
        "print(\"Training Accuracy:\", train_accuracy)\n",
        "print(\"Testing Accuracy:\", test_accuracy)"
      ]
    },
    {
      "cell_type": "code",
      "execution_count": 12,
      "metadata": {
        "colab": {
          "base_uri": "https://localhost:8080/"
        },
        "id": "NnT_QPcJ6xoH",
        "outputId": "a77b8a61-b754-4474-df4d-6b8702420314"
      },
      "outputs": [
        {
          "output_type": "execute_result",
          "data": {
            "text/plain": [
              "(595, 1038)"
            ]
          },
          "metadata": {},
          "execution_count": 12
        }
      ],
      "source": [
        "df= pd.read_csv('Orbital_train.csv')\n",
        "df.shape"
      ]
    },
    {
      "cell_type": "code",
      "execution_count": 13,
      "metadata": {
        "colab": {
          "base_uri": "https://localhost:8080/"
        },
        "id": "jj68bXeY7Pzr",
        "outputId": "ce411f8b-6699-4cb4-f702-567932d3b2d1"
      },
      "outputs": [
        {
          "output_type": "execute_result",
          "data": {
            "text/plain": [
              "0          trigonal\n",
              "1        tetragonal\n",
              "2      orthorhombic\n",
              "3      orthorhombic\n",
              "4             cubic\n",
              "           ...     \n",
              "590    orthorhombic\n",
              "591        trigonal\n",
              "592      monoclinic\n",
              "593       triclinic\n",
              "594        trigonal\n",
              "Name: crystal_system, Length: 595, dtype: object"
            ]
          },
          "metadata": {},
          "execution_count": 13
        }
      ],
      "source": [
        "X_train=df.iloc[:,14:]\n",
        "y_train=df['crystal_system']\n",
        "\n",
        "y_train"
      ]
    },
    {
      "cell_type": "code",
      "execution_count": 14,
      "metadata": {
        "colab": {
          "base_uri": "https://localhost:8080/"
        },
        "id": "8QWUfkh27VO1",
        "outputId": "486212b4-c1ea-4f37-ea57-eef730c42077"
      },
      "outputs": [
        {
          "output_type": "execute_result",
          "data": {
            "text/plain": [
              "(595, 1024)"
            ]
          },
          "metadata": {},
          "execution_count": 14
        }
      ],
      "source": [
        "X_train.shape"
      ]
    },
    {
      "cell_type": "code",
      "execution_count": 15,
      "metadata": {
        "colab": {
          "base_uri": "https://localhost:8080/"
        },
        "id": "2CcYyx6d7mr0",
        "outputId": "7c355905-7318-4e40-93fa-7ac1de913fbd"
      },
      "outputs": [
        {
          "output_type": "execute_result",
          "data": {
            "text/plain": [
              "0           cubic\n",
              "1           cubic\n",
              "2       triclinic\n",
              "3       triclinic\n",
              "4       triclinic\n",
              "          ...    \n",
              "144    monoclinic\n",
              "145      trigonal\n",
              "146     hexagonal\n",
              "147         cubic\n",
              "148         cubic\n",
              "Name: crystal_system, Length: 149, dtype: object"
            ]
          },
          "metadata": {},
          "execution_count": 15
        }
      ],
      "source": [
        "df=pd.read_csv('Orbital_test.csv')\n",
        "X_test=df.iloc[:,14:]\n",
        "\n",
        "y_test=df['crystal_system']\n",
        "\n",
        "y_test"
      ]
    },
    {
      "cell_type": "code",
      "execution_count": 16,
      "metadata": {
        "colab": {
          "base_uri": "https://localhost:8080/"
        },
        "id": "VrJTo5jp7rzF",
        "outputId": "d4db9cd9-efca-4147-8af0-309e330d8cda"
      },
      "outputs": [
        {
          "output_type": "execute_result",
          "data": {
            "text/plain": [
              "(149, 1024)"
            ]
          },
          "metadata": {},
          "execution_count": 16
        }
      ],
      "source": [
        "X_test.shape"
      ]
    },
    {
      "cell_type": "code",
      "execution_count": 17,
      "metadata": {
        "id": "2GKy4PhKuJmx"
      },
      "outputs": [],
      "source": [
        "from sklearn.preprocessing import StandardScaler\n",
        "from sklearn.preprocessing import OneHotEncoder\n",
        "\n",
        "# Data Preprocessing\n",
        "# Create a scaler object\n",
        "scaler = StandardScaler()\n",
        "\n",
        "# Fit scaler on the training data\n",
        "scaler.fit(X_train)\n",
        "\n",
        "# Apply the scaler to both the training and test data\n",
        "X_train_normalized = scaler.transform(X_train)\n",
        "X_test_normalized = scaler.transform(X_test)\n",
        "\n",
        "# Convert pandas Series to NumPy array and reshape\n",
        "y_train_array = y_train.to_numpy().reshape(-1, 1)\n",
        "y_test_array = y_test.to_numpy().reshape(-1, 1)\n",
        "\n",
        "# Initialize the OneHotEncoder\n",
        "encoder = OneHotEncoder()\n",
        "\n",
        "# Apply one-hot encoding\n",
        "y_train_encoded = encoder.fit_transform(y_train_array).toarray()\n",
        "y_test_encoded = encoder.transform(y_test_array).toarray()"
      ]
    },
    {
      "cell_type": "code",
      "source": [
        "import tensorflow as tf\n",
        "from tensorflow import keras\n",
        "from kerastuner.tuners import BayesianOptimization\n",
        "\n",
        "def build_classification_model(hp):\n",
        "    inputs = tf.keras.Input(shape=(1024,))  # Update the input shape to match your dataset\n",
        "\n",
        "    x = inputs\n",
        "\n",
        "    # Add one or more dense layers with hyperparameter tuning\n",
        "    for i in range(hp.Int(\"dense_layers\", 1, 8, default=1)):\n",
        "        x = tf.keras.layers.Dense(\n",
        "            units=hp.Int('dense_units'+str(i), min_value=32, max_value=1024, step=18, default=32),\n",
        "            activation='relu',\n",
        "        )(x)\n",
        "        x = tf.keras.layers.Dropout(hp.Float('dropout_dense_' + str(i), 0.1, 0.8, step=0.1, default=0.3))(x)\n",
        "\n",
        "    # Output layer for classification with 7 classes\n",
        "    outputs = tf.keras.layers.Dense(7, activation=\"softmax\")(x)\n",
        "\n",
        "    model = tf.keras.Model(inputs, outputs)\n",
        "\n",
        "    model.compile(\n",
        "        optimizer=keras.optimizers.Adam(hp.Choice('learning_rate', values=[1e-1, 1e-2, 1e-3, 1e-4])),\n",
        "        loss='categorical_crossentropy',  # Use appropriate classification loss\n",
        "        metrics=['accuracy']  # Use accuracy for classification\n",
        "    )\n",
        "\n",
        "    return model"
      ],
      "metadata": {
        "id": "HMeHtlqXNoTu"
      },
      "execution_count": 18,
      "outputs": []
    },
    {
      "cell_type": "code",
      "source": [
        "tuner = BayesianOptimization(\n",
        "    build_classification_model,\n",
        "    objective='val_accuracy',\n",
        "    num_initial_points=5,\n",
        "    max_trials=1200,\n",
        "    directory='tuner_dir',\n",
        "    project_name='classification_model'\n",
        ")\n",
        "\n",
        "# hyperparameter tuning\n",
        "tuner.search(X_train_normalized, y_train_encoded, epochs=10, validation_split=0.2)\n",
        "\n",
        "# best hyperparameters\n",
        "best_hparams = tuner.get_best_hyperparameters(num_trials=1)[0]\n",
        "\n",
        "# Building model with the best hyperparameters\n",
        "best_model = build_classification_model(best_hparams)\n",
        "\n",
        "# Compilimg the model\n",
        "best_model.compile(\n",
        "    optimizer=keras.optimizers.Adam(best_hparams.get('learning_rate')),\n",
        "    loss='categorical_crossentropy',\n",
        "    metrics=['accuracy']\n",
        ")\n",
        "\n",
        "\n",
        "history = best_model.fit(X_train_normalized, y_train_encoded, epochs=50)\n",
        "\n",
        "train_accuracy = best_model.evaluate(X_train_normalized, y_train_encoded, verbose=0)[1]\n",
        "test_accuracy = best_model.evaluate(X_test_normalized, y_test_encoded, verbose=0)[1]\n",
        "\n",
        "print(\"Best Hyperparameters:\")\n",
        "print(best_hparams.get_config())\n",
        "print(\"Training Accuracy:\", train_accuracy)\n",
        "print(\"Testing Accuracy:\", test_accuracy)"
      ],
      "metadata": {
        "colab": {
          "base_uri": "https://localhost:8080/"
        },
        "id": "Bpyy-HTKNzLy",
        "outputId": "70385a45-f989-419d-df33-c22c62c5a700"
      },
      "execution_count": 20,
      "outputs": [
        {
          "output_type": "stream",
          "name": "stdout",
          "text": [
            "Trial 1200 Complete [00h 00m 12s]\n",
            "val_accuracy: 0.5714285969734192\n",
            "\n",
            "Best val_accuracy So Far: 0.605042040348053\n",
            "Total elapsed time: 08h 31m 49s\n",
            "Epoch 1/50\n",
            "19/19 [==============================] - 1s 8ms/step - loss: 8.4028 - accuracy: 0.4941\n",
            "Epoch 2/50\n",
            "19/19 [==============================] - 0s 8ms/step - loss: 14.4752 - accuracy: 0.5193\n",
            "Epoch 3/50\n",
            "19/19 [==============================] - 0s 8ms/step - loss: 9.1021 - accuracy: 0.5782\n",
            "Epoch 4/50\n",
            "19/19 [==============================] - 0s 8ms/step - loss: 6.5627 - accuracy: 0.5580\n",
            "Epoch 5/50\n",
            "19/19 [==============================] - 0s 8ms/step - loss: 5.0825 - accuracy: 0.6202\n",
            "Epoch 6/50\n",
            "19/19 [==============================] - 0s 8ms/step - loss: 15.9220 - accuracy: 0.6017\n",
            "Epoch 7/50\n",
            "19/19 [==============================] - 0s 8ms/step - loss: 8.5273 - accuracy: 0.6168\n",
            "Epoch 8/50\n",
            "19/19 [==============================] - 0s 8ms/step - loss: 13.1690 - accuracy: 0.6168\n",
            "Epoch 9/50\n",
            "19/19 [==============================] - 0s 8ms/step - loss: 14.5666 - accuracy: 0.5966\n",
            "Epoch 10/50\n",
            "19/19 [==============================] - 0s 8ms/step - loss: 5.6104 - accuracy: 0.6101\n",
            "Epoch 11/50\n",
            "19/19 [==============================] - 0s 8ms/step - loss: 30.8362 - accuracy: 0.6084\n",
            "Epoch 12/50\n",
            "19/19 [==============================] - 0s 8ms/step - loss: 12.2498 - accuracy: 0.5899\n",
            "Epoch 13/50\n",
            "19/19 [==============================] - 0s 8ms/step - loss: 5.5073 - accuracy: 0.5916\n",
            "Epoch 14/50\n",
            "19/19 [==============================] - 0s 8ms/step - loss: 8.7198 - accuracy: 0.6168\n",
            "Epoch 15/50\n",
            "19/19 [==============================] - 0s 8ms/step - loss: 8.0927 - accuracy: 0.6134\n",
            "Epoch 16/50\n",
            "19/19 [==============================] - 0s 10ms/step - loss: 4.8153 - accuracy: 0.6067\n",
            "Epoch 17/50\n",
            "19/19 [==============================] - 0s 8ms/step - loss: 2.8263 - accuracy: 0.6168\n",
            "Epoch 18/50\n",
            "19/19 [==============================] - 0s 8ms/step - loss: 5.0183 - accuracy: 0.6303\n",
            "Epoch 19/50\n",
            "19/19 [==============================] - 0s 8ms/step - loss: 10.5512 - accuracy: 0.6286\n",
            "Epoch 20/50\n",
            "19/19 [==============================] - 0s 8ms/step - loss: 2.3318 - accuracy: 0.6319\n",
            "Epoch 21/50\n",
            "19/19 [==============================] - 0s 8ms/step - loss: 1.7579 - accuracy: 0.6185\n",
            "Epoch 22/50\n",
            "19/19 [==============================] - 0s 9ms/step - loss: 9.7845 - accuracy: 0.6202\n",
            "Epoch 23/50\n",
            "19/19 [==============================] - 0s 8ms/step - loss: 1.4306 - accuracy: 0.6235\n",
            "Epoch 24/50\n",
            "19/19 [==============================] - 0s 8ms/step - loss: 1.4827 - accuracy: 0.6218\n",
            "Epoch 25/50\n",
            "19/19 [==============================] - 0s 8ms/step - loss: 1.2631 - accuracy: 0.6303\n",
            "Epoch 26/50\n",
            "19/19 [==============================] - 0s 11ms/step - loss: 1.5370 - accuracy: 0.6353\n",
            "Epoch 27/50\n",
            "19/19 [==============================] - 0s 11ms/step - loss: 3.3189 - accuracy: 0.6370\n",
            "Epoch 28/50\n",
            "19/19 [==============================] - 0s 12ms/step - loss: 2.1876 - accuracy: 0.6370\n",
            "Epoch 29/50\n",
            "19/19 [==============================] - 0s 12ms/step - loss: 1.4466 - accuracy: 0.6336\n",
            "Epoch 30/50\n",
            "19/19 [==============================] - 0s 12ms/step - loss: 1.3594 - accuracy: 0.6370\n",
            "Epoch 31/50\n",
            "19/19 [==============================] - 0s 12ms/step - loss: 1.2407 - accuracy: 0.6269\n",
            "Epoch 32/50\n",
            "19/19 [==============================] - 0s 13ms/step - loss: 1.1132 - accuracy: 0.6286\n",
            "Epoch 33/50\n",
            "19/19 [==============================] - 0s 11ms/step - loss: 1.1068 - accuracy: 0.6303\n",
            "Epoch 34/50\n",
            "19/19 [==============================] - 0s 11ms/step - loss: 1.1429 - accuracy: 0.6319\n",
            "Epoch 35/50\n",
            "19/19 [==============================] - 0s 11ms/step - loss: 1.0889 - accuracy: 0.6286\n",
            "Epoch 36/50\n",
            "19/19 [==============================] - 0s 12ms/step - loss: 1.1667 - accuracy: 0.6303\n",
            "Epoch 37/50\n",
            "19/19 [==============================] - 0s 12ms/step - loss: 1.0974 - accuracy: 0.6269\n",
            "Epoch 38/50\n",
            "19/19 [==============================] - 0s 11ms/step - loss: 1.1025 - accuracy: 0.6319\n",
            "Epoch 39/50\n",
            "19/19 [==============================] - 0s 11ms/step - loss: 1.0960 - accuracy: 0.6235\n",
            "Epoch 40/50\n",
            "19/19 [==============================] - 0s 11ms/step - loss: 1.0953 - accuracy: 0.6286\n",
            "Epoch 41/50\n",
            "19/19 [==============================] - 0s 10ms/step - loss: 1.0958 - accuracy: 0.6269\n",
            "Epoch 42/50\n",
            "19/19 [==============================] - 0s 9ms/step - loss: 1.0995 - accuracy: 0.6269\n",
            "Epoch 43/50\n",
            "19/19 [==============================] - 0s 8ms/step - loss: 1.1213 - accuracy: 0.6269\n",
            "Epoch 44/50\n",
            "19/19 [==============================] - 0s 8ms/step - loss: 1.0955 - accuracy: 0.6319\n",
            "Epoch 45/50\n",
            "19/19 [==============================] - 0s 8ms/step - loss: 1.1013 - accuracy: 0.6252\n",
            "Epoch 46/50\n",
            "19/19 [==============================] - 0s 8ms/step - loss: 1.1363 - accuracy: 0.6252\n",
            "Epoch 47/50\n",
            "19/19 [==============================] - 0s 8ms/step - loss: 1.1401 - accuracy: 0.6252\n",
            "Epoch 48/50\n",
            "19/19 [==============================] - 0s 8ms/step - loss: 1.9796 - accuracy: 0.6336\n",
            "Epoch 49/50\n",
            "19/19 [==============================] - 0s 8ms/step - loss: 1.1629 - accuracy: 0.6319\n",
            "Epoch 50/50\n",
            "19/19 [==============================] - 0s 8ms/step - loss: 1.1400 - accuracy: 0.6269\n",
            "Best Hyperparameters:\n",
            "{'space': [{'class_name': 'Int', 'config': {'name': 'dense_layers', 'default': 1, 'conditions': [], 'min_value': 1, 'max_value': 8, 'step': 1, 'sampling': 'linear'}}, {'class_name': 'Int', 'config': {'name': 'dense_units0', 'default': 32, 'conditions': [], 'min_value': 32, 'max_value': 1024, 'step': 18, 'sampling': 'linear'}}, {'class_name': 'Float', 'config': {'name': 'dropout_dense_0', 'default': 0.3, 'conditions': [], 'min_value': 0.1, 'max_value': 0.8, 'step': 0.1, 'sampling': 'linear'}}, {'class_name': 'Choice', 'config': {'name': 'learning_rate', 'default': 0.1, 'conditions': [], 'values': [0.1, 0.01, 0.001, 0.0001], 'ordered': True}}, {'class_name': 'Int', 'config': {'name': 'dense_units1', 'default': 32, 'conditions': [], 'min_value': 32, 'max_value': 1024, 'step': 18, 'sampling': 'linear'}}, {'class_name': 'Float', 'config': {'name': 'dropout_dense_1', 'default': 0.3, 'conditions': [], 'min_value': 0.1, 'max_value': 0.8, 'step': 0.1, 'sampling': 'linear'}}, {'class_name': 'Int', 'config': {'name': 'dense_units2', 'default': 32, 'conditions': [], 'min_value': 32, 'max_value': 1024, 'step': 18, 'sampling': 'linear'}}, {'class_name': 'Float', 'config': {'name': 'dropout_dense_2', 'default': 0.3, 'conditions': [], 'min_value': 0.1, 'max_value': 0.8, 'step': 0.1, 'sampling': 'linear'}}, {'class_name': 'Int', 'config': {'name': 'dense_units3', 'default': 32, 'conditions': [], 'min_value': 32, 'max_value': 1024, 'step': 18, 'sampling': 'linear'}}, {'class_name': 'Float', 'config': {'name': 'dropout_dense_3', 'default': 0.3, 'conditions': [], 'min_value': 0.1, 'max_value': 0.8, 'step': 0.1, 'sampling': 'linear'}}, {'class_name': 'Int', 'config': {'name': 'dense_units4', 'default': 32, 'conditions': [], 'min_value': 32, 'max_value': 1024, 'step': 18, 'sampling': 'linear'}}, {'class_name': 'Float', 'config': {'name': 'dropout_dense_4', 'default': 0.3, 'conditions': [], 'min_value': 0.1, 'max_value': 0.8, 'step': 0.1, 'sampling': 'linear'}}, {'class_name': 'Int', 'config': {'name': 'dense_units5', 'default': 32, 'conditions': [], 'min_value': 32, 'max_value': 1024, 'step': 18, 'sampling': 'linear'}}, {'class_name': 'Float', 'config': {'name': 'dropout_dense_5', 'default': 0.3, 'conditions': [], 'min_value': 0.1, 'max_value': 0.8, 'step': 0.1, 'sampling': 'linear'}}, {'class_name': 'Int', 'config': {'name': 'dense_units6', 'default': 32, 'conditions': [], 'min_value': 32, 'max_value': 1024, 'step': 18, 'sampling': 'linear'}}, {'class_name': 'Float', 'config': {'name': 'dropout_dense_6', 'default': 0.3, 'conditions': [], 'min_value': 0.1, 'max_value': 0.8, 'step': 0.1, 'sampling': 'linear'}}, {'class_name': 'Int', 'config': {'name': 'dense_units7', 'default': 32, 'conditions': [], 'min_value': 32, 'max_value': 1024, 'step': 18, 'sampling': 'linear'}}, {'class_name': 'Float', 'config': {'name': 'dropout_dense_7', 'default': 0.3, 'conditions': [], 'min_value': 0.1, 'max_value': 0.8, 'step': 0.1, 'sampling': 'linear'}}], 'values': {'dense_layers': 1, 'dense_units0': 410, 'dropout_dense_0': 0.5, 'learning_rate': 0.1, 'dense_units1': 896, 'dropout_dense_1': 0.5, 'dense_units2': 338, 'dropout_dense_2': 0.6, 'dense_units3': 572, 'dropout_dense_3': 0.4, 'dense_units4': 698, 'dropout_dense_4': 0.30000000000000004, 'dense_units5': 356, 'dropout_dense_5': 0.7000000000000001, 'dense_units6': 626, 'dropout_dense_6': 0.6, 'dense_units7': 374, 'dropout_dense_7': 0.7000000000000001}}\n",
            "Training Accuracy: 0.63193279504776\n",
            "Testing Accuracy: 0.5771812200546265\n"
          ]
        }
      ]
    },
    {
      "cell_type": "code",
      "execution_count": null,
      "metadata": {
        "colab": {
          "base_uri": "https://localhost:8080/"
        },
        "id": "EZVPiY0Zuy9G",
        "outputId": "4712bf50-d382-4221-ca98-5bd977bbd4f5"
      },
      "outputs": [
        {
          "data": {
            "text/plain": [
              "(596, 142)"
            ]
          },
          "execution_count": 56,
          "metadata": {},
          "output_type": "execute_result"
        }
      ],
      "source": [
        "df= pd.read_csv('Xrd_train.csv')\n",
        "df.shape"
      ]
    },
    {
      "cell_type": "code",
      "execution_count": null,
      "metadata": {
        "colab": {
          "base_uri": "https://localhost:8080/"
        },
        "id": "j-BdaviVvAk-",
        "outputId": "18541d47-0f2b-4f62-e2fc-9f5586abd1a8"
      },
      "outputs": [
        {
          "data": {
            "text/plain": [
              "0          trigonal\n",
              "1        tetragonal\n",
              "2      orthorhombic\n",
              "3      orthorhombic\n",
              "4             cubic\n",
              "           ...     \n",
              "591      monoclinic\n",
              "592        trigonal\n",
              "593    orthorhombic\n",
              "594        trigonal\n",
              "595      monoclinic\n",
              "Name: crystal_system, Length: 596, dtype: object"
            ]
          },
          "execution_count": 57,
          "metadata": {},
          "output_type": "execute_result"
        }
      ],
      "source": [
        "X_train=df.iloc[:,14:]\n",
        "y_train=df['crystal_system']\n",
        "\n",
        "y_train"
      ]
    },
    {
      "cell_type": "code",
      "execution_count": null,
      "metadata": {
        "colab": {
          "base_uri": "https://localhost:8080/"
        },
        "id": "Oly447vfwHrb",
        "outputId": "f5af9402-7bae-45a3-a6ca-5ea21924c38d"
      },
      "outputs": [
        {
          "data": {
            "text/plain": [
              "(596, 128)"
            ]
          },
          "execution_count": 58,
          "metadata": {},
          "output_type": "execute_result"
        }
      ],
      "source": [
        "X_train.shape"
      ]
    },
    {
      "cell_type": "code",
      "execution_count": null,
      "metadata": {
        "colab": {
          "base_uri": "https://localhost:8080/"
        },
        "id": "dCSiWJC7v7mw",
        "outputId": "ecd736a4-6ae6-450b-a7d5-17f8a9422e9b"
      },
      "outputs": [
        {
          "data": {
            "text/plain": [
              "0          cubic\n",
              "1          cubic\n",
              "2      triclinic\n",
              "3      triclinic\n",
              "4      triclinic\n",
              "         ...    \n",
              "144     trigonal\n",
              "145        cubic\n",
              "146     trigonal\n",
              "147    hexagonal\n",
              "148        cubic\n",
              "Name: crystal_system, Length: 149, dtype: object"
            ]
          },
          "execution_count": 59,
          "metadata": {},
          "output_type": "execute_result"
        }
      ],
      "source": [
        "df=pd.read_csv('Xrd_test.csv')\n",
        "X_test=df.iloc[:,14:]\n",
        "\n",
        "y_test=df['crystal_system']\n",
        "\n",
        "y_test"
      ]
    },
    {
      "cell_type": "code",
      "execution_count": null,
      "metadata": {
        "colab": {
          "base_uri": "https://localhost:8080/"
        },
        "id": "75A56-5WwEQb",
        "outputId": "03bdd8f3-beaa-436a-d71d-ff4f805890f7"
      },
      "outputs": [
        {
          "data": {
            "text/plain": [
              "(149, 128)"
            ]
          },
          "execution_count": 60,
          "metadata": {},
          "output_type": "execute_result"
        }
      ],
      "source": [
        "X_test.shape"
      ]
    },
    {
      "cell_type": "code",
      "execution_count": null,
      "metadata": {
        "id": "m-xOnD5BwfK9"
      },
      "outputs": [],
      "source": []
    },
    {
      "cell_type": "code",
      "execution_count": null,
      "metadata": {
        "colab": {
          "base_uri": "https://localhost:8080/"
        },
        "id": "xhzwnSMFwjYQ",
        "outputId": "1d6c567a-2aa6-4d07-faf7-94872cec1704"
      },
      "outputs": [
        {
          "name": "stdout",
          "output_type": "stream",
          "text": [
            "Reloading Tuner from tuner_dir/classification_model/tuner0.json\n",
            "Epoch 1/50\n",
            "19/19 [==============================] - 1s 4ms/step - loss: 2.0126 - accuracy: 0.5503\n",
            "Epoch 2/50\n",
            "19/19 [==============================] - 0s 4ms/step - loss: 1.4960 - accuracy: 0.5973\n",
            "Epoch 3/50\n",
            "19/19 [==============================] - 0s 4ms/step - loss: 1.3019 - accuracy: 0.6258\n",
            "Epoch 4/50\n",
            "19/19 [==============================] - 0s 4ms/step - loss: 1.2503 - accuracy: 0.6326\n",
            "Epoch 5/50\n",
            "19/19 [==============================] - 0s 4ms/step - loss: 1.3219 - accuracy: 0.6275\n",
            "Epoch 6/50\n",
            "19/19 [==============================] - 0s 4ms/step - loss: 1.0961 - accuracy: 0.6477\n",
            "Epoch 7/50\n",
            "19/19 [==============================] - 0s 4ms/step - loss: 1.1099 - accuracy: 0.6594\n",
            "Epoch 8/50\n",
            "19/19 [==============================] - 0s 4ms/step - loss: 1.1988 - accuracy: 0.6309\n",
            "Epoch 9/50\n",
            "19/19 [==============================] - 0s 4ms/step - loss: 1.2114 - accuracy: 0.6577\n",
            "Epoch 10/50\n",
            "19/19 [==============================] - 0s 4ms/step - loss: 1.1514 - accuracy: 0.6460\n",
            "Epoch 11/50\n",
            "19/19 [==============================] - 0s 4ms/step - loss: 1.2006 - accuracy: 0.6460\n",
            "Epoch 12/50\n",
            "19/19 [==============================] - 0s 4ms/step - loss: 1.1784 - accuracy: 0.6275\n",
            "Epoch 13/50\n",
            "19/19 [==============================] - 0s 4ms/step - loss: 1.1312 - accuracy: 0.6393\n",
            "Epoch 14/50\n",
            "19/19 [==============================] - 0s 5ms/step - loss: 1.1329 - accuracy: 0.6426\n",
            "Epoch 15/50\n",
            "19/19 [==============================] - 0s 4ms/step - loss: 1.1059 - accuracy: 0.6225\n",
            "Epoch 16/50\n",
            "19/19 [==============================] - 0s 4ms/step - loss: 1.0905 - accuracy: 0.6292\n",
            "Epoch 17/50\n",
            "19/19 [==============================] - 0s 5ms/step - loss: 1.1561 - accuracy: 0.6141\n",
            "Epoch 18/50\n",
            "19/19 [==============================] - 0s 4ms/step - loss: 1.0444 - accuracy: 0.6040\n",
            "Epoch 19/50\n",
            "19/19 [==============================] - 0s 4ms/step - loss: 1.0129 - accuracy: 0.6124\n",
            "Epoch 20/50\n",
            "19/19 [==============================] - 0s 4ms/step - loss: 0.9761 - accuracy: 0.6342\n",
            "Epoch 21/50\n",
            "19/19 [==============================] - 0s 4ms/step - loss: 1.0385 - accuracy: 0.6544\n",
            "Epoch 22/50\n",
            "19/19 [==============================] - 0s 4ms/step - loss: 1.1071 - accuracy: 0.6728\n",
            "Epoch 23/50\n",
            "19/19 [==============================] - 0s 4ms/step - loss: 0.9933 - accuracy: 0.6326\n",
            "Epoch 24/50\n",
            "19/19 [==============================] - 0s 4ms/step - loss: 1.0321 - accuracy: 0.6527\n",
            "Epoch 25/50\n",
            "19/19 [==============================] - 0s 4ms/step - loss: 1.0710 - accuracy: 0.6443\n",
            "Epoch 26/50\n",
            "19/19 [==============================] - 0s 4ms/step - loss: 1.0671 - accuracy: 0.6208\n",
            "Epoch 27/50\n",
            "19/19 [==============================] - 0s 4ms/step - loss: 1.0071 - accuracy: 0.5990\n",
            "Epoch 28/50\n",
            "19/19 [==============================] - 0s 4ms/step - loss: 1.1388 - accuracy: 0.6242\n",
            "Epoch 29/50\n",
            "19/19 [==============================] - 0s 4ms/step - loss: 0.9927 - accuracy: 0.6292\n",
            "Epoch 30/50\n",
            "19/19 [==============================] - 0s 4ms/step - loss: 1.0075 - accuracy: 0.5872\n",
            "Epoch 31/50\n",
            "19/19 [==============================] - 0s 4ms/step - loss: 1.0961 - accuracy: 0.6242\n",
            "Epoch 32/50\n",
            "19/19 [==============================] - 0s 4ms/step - loss: 1.0809 - accuracy: 0.6023\n",
            "Epoch 33/50\n",
            "19/19 [==============================] - 0s 4ms/step - loss: 1.0630 - accuracy: 0.6208\n",
            "Epoch 34/50\n",
            "19/19 [==============================] - 0s 4ms/step - loss: 1.0296 - accuracy: 0.6208\n",
            "Epoch 35/50\n",
            "19/19 [==============================] - 0s 4ms/step - loss: 0.9350 - accuracy: 0.6191\n",
            "Epoch 36/50\n",
            "19/19 [==============================] - 0s 4ms/step - loss: 0.9852 - accuracy: 0.6141\n",
            "Epoch 37/50\n",
            "19/19 [==============================] - 0s 4ms/step - loss: 1.1275 - accuracy: 0.5923\n",
            "Epoch 38/50\n",
            "19/19 [==============================] - 0s 5ms/step - loss: 1.0080 - accuracy: 0.6208\n",
            "Epoch 39/50\n",
            "19/19 [==============================] - 0s 4ms/step - loss: 0.9750 - accuracy: 0.6225\n",
            "Epoch 40/50\n",
            "19/19 [==============================] - 0s 4ms/step - loss: 0.9948 - accuracy: 0.6225\n",
            "Epoch 41/50\n",
            "19/19 [==============================] - 0s 4ms/step - loss: 1.0386 - accuracy: 0.5956\n",
            "Epoch 42/50\n",
            "19/19 [==============================] - 0s 4ms/step - loss: 1.0066 - accuracy: 0.5872\n",
            "Epoch 43/50\n",
            "19/19 [==============================] - 0s 4ms/step - loss: 0.9871 - accuracy: 0.6225\n",
            "Epoch 44/50\n",
            "19/19 [==============================] - 0s 4ms/step - loss: 0.9454 - accuracy: 0.6074\n",
            "Epoch 45/50\n",
            "19/19 [==============================] - 0s 4ms/step - loss: 1.2893 - accuracy: 0.6040\n",
            "Epoch 46/50\n",
            "19/19 [==============================] - 0s 4ms/step - loss: 1.8003 - accuracy: 0.6057\n",
            "Epoch 47/50\n",
            "19/19 [==============================] - 0s 4ms/step - loss: 1.0812 - accuracy: 0.6057\n",
            "Epoch 48/50\n",
            "19/19 [==============================] - 0s 4ms/step - loss: 1.1075 - accuracy: 0.6141\n",
            "Epoch 49/50\n",
            "19/19 [==============================] - 0s 4ms/step - loss: 1.0473 - accuracy: 0.6074\n",
            "Epoch 50/50\n",
            "19/19 [==============================] - 0s 5ms/step - loss: 0.9906 - accuracy: 0.6208\n",
            "Best Hyperparameters:\n",
            "{'space': [{'class_name': 'Int', 'config': {'name': 'dense_layers', 'default': 1, 'conditions': [], 'min_value': 1, 'max_value': 8, 'step': 1, 'sampling': 'linear'}}, {'class_name': 'Int', 'config': {'name': 'dense_units0', 'default': 32, 'conditions': [], 'min_value': 32, 'max_value': 1024, 'step': 32, 'sampling': 'linear'}}, {'class_name': 'Float', 'config': {'name': 'dropout_dense_0', 'default': 0.3, 'conditions': [], 'min_value': 0.1, 'max_value': 0.8, 'step': 0.1, 'sampling': 'linear'}}, {'class_name': 'Choice', 'config': {'name': 'learning_rate', 'default': 0.1, 'conditions': [], 'values': [0.1, 0.01, 0.001, 0.0001], 'ordered': True}}, {'class_name': 'Int', 'config': {'name': 'dense_units1', 'default': 32, 'conditions': [], 'min_value': 32, 'max_value': 1024, 'step': 32, 'sampling': 'linear'}}, {'class_name': 'Float', 'config': {'name': 'dropout_dense_1', 'default': 0.3, 'conditions': [], 'min_value': 0.1, 'max_value': 0.8, 'step': 0.1, 'sampling': 'linear'}}, {'class_name': 'Int', 'config': {'name': 'dense_units2', 'default': 32, 'conditions': [], 'min_value': 32, 'max_value': 1024, 'step': 32, 'sampling': 'linear'}}, {'class_name': 'Float', 'config': {'name': 'dropout_dense_2', 'default': 0.3, 'conditions': [], 'min_value': 0.1, 'max_value': 0.8, 'step': 0.1, 'sampling': 'linear'}}, {'class_name': 'Int', 'config': {'name': 'dense_units3', 'default': 32, 'conditions': [], 'min_value': 32, 'max_value': 1024, 'step': 32, 'sampling': 'linear'}}, {'class_name': 'Float', 'config': {'name': 'dropout_dense_3', 'default': 0.3, 'conditions': [], 'min_value': 0.1, 'max_value': 0.8, 'step': 0.1, 'sampling': 'linear'}}, {'class_name': 'Int', 'config': {'name': 'dense_units4', 'default': 32, 'conditions': [], 'min_value': 32, 'max_value': 1024, 'step': 32, 'sampling': 'linear'}}, {'class_name': 'Float', 'config': {'name': 'dropout_dense_4', 'default': 0.3, 'conditions': [], 'min_value': 0.1, 'max_value': 0.8, 'step': 0.1, 'sampling': 'linear'}}, {'class_name': 'Int', 'config': {'name': 'dense_units5', 'default': 32, 'conditions': [], 'min_value': 32, 'max_value': 1024, 'step': 32, 'sampling': 'linear'}}, {'class_name': 'Float', 'config': {'name': 'dropout_dense_5', 'default': 0.3, 'conditions': [], 'min_value': 0.1, 'max_value': 0.8, 'step': 0.1, 'sampling': 'linear'}}, {'class_name': 'Int', 'config': {'name': 'dense_units6', 'default': 32, 'conditions': [], 'min_value': 32, 'max_value': 1024, 'step': 32, 'sampling': 'linear'}}, {'class_name': 'Float', 'config': {'name': 'dropout_dense_6', 'default': 0.3, 'conditions': [], 'min_value': 0.1, 'max_value': 0.8, 'step': 0.1, 'sampling': 'linear'}}], 'values': {'dense_layers': 3, 'dense_units0': 96, 'dropout_dense_0': 0.6, 'learning_rate': 0.01, 'dense_units1': 288, 'dropout_dense_1': 0.5, 'dense_units2': 288, 'dropout_dense_2': 0.5, 'dense_units3': 320, 'dropout_dense_3': 0.6, 'dense_units4': 992, 'dropout_dense_4': 0.1, 'dense_units5': 608, 'dropout_dense_5': 0.1, 'dense_units6': 1024, 'dropout_dense_6': 0.2}}\n",
            "Training Accuracy: 0.6191275119781494\n",
            "Testing Accuracy: 0.5906040072441101\n"
          ]
        }
      ],
      "source": [
        "from sklearn.preprocessing import StandardScaler\n",
        "from sklearn.preprocessing import OneHotEncoder\n",
        "\n",
        "# Data Preprocessing\n",
        "# Create a scaler object\n",
        "scaler = StandardScaler()\n",
        "\n",
        "# Fit scaler on the training data\n",
        "scaler.fit(X_train)\n",
        "\n",
        "# Apply the scaler to both the training and test data\n",
        "X_train_normalized = scaler.transform(X_train)\n",
        "X_test_normalized = scaler.transform(X_test)\n",
        "\n",
        "# Convert pandas Series to NumPy array and reshape\n",
        "y_train_array = y_train.to_numpy().reshape(-1, 1)\n",
        "y_test_array = y_test.to_numpy().reshape(-1, 1)\n",
        "\n",
        "# Initialize the OneHotEncoder\n",
        "encoder = OneHotEncoder()\n",
        "\n",
        "# Apply one-hot encoding\n",
        "y_train_encoded = encoder.fit_transform(y_train_array).toarray()\n",
        "y_test_encoded = encoder.transform(y_test_array).toarray()\n",
        "\n",
        "import tensorflow as tf\n",
        "from tensorflow import keras\n",
        "from kerastuner.tuners import BayesianOptimization\n",
        "\n",
        "def build_classification_model(hp):\n",
        "    inputs = tf.keras.Input(shape=(128,))  # Update the input shape to match your dataset\n",
        "\n",
        "    x = inputs\n",
        "\n",
        "    # Add one or more dense layers with hyperparameter tuning\n",
        "    for i in range(hp.Int(\"dense_layers\", 1, 8, default=1)):\n",
        "        x = tf.keras.layers.Dense(\n",
        "            units=hp.Int('dense_units'+str(i), min_value=32, max_value=1024, step=32, default=32),\n",
        "            activation='relu',\n",
        "        )(x)\n",
        "        x = tf.keras.layers.Dropout(hp.Float('dropout_dense_' + str(i), 0.1, 0.8, step=0.1, default=0.3))(x)\n",
        "\n",
        "    # Output layer for classification with 7 classes\n",
        "    outputs = tf.keras.layers.Dense(7, activation=\"softmax\")(x)\n",
        "\n",
        "    model = tf.keras.Model(inputs, outputs)\n",
        "\n",
        "    model.compile(\n",
        "        optimizer=keras.optimizers.Adam(hp.Choice('learning_rate', values=[1e-1, 1e-2, 1e-3, 1e-4])),\n",
        "        loss='categorical_crossentropy',  # Use appropriate classification loss\n",
        "        metrics=['accuracy']  # Use accuracy for classification\n",
        "    )\n",
        "\n",
        "    return model\n",
        "\n",
        "# Define the BayesianOptimization tuner\n",
        "tuner = BayesianOptimization(\n",
        "    build_classification_model,\n",
        "    objective='val_accuracy',\n",
        "    num_initial_points=5,  # Number of random initializations\n",
        "    max_trials=10,  # Number of Bayesian optimization iterations\n",
        "    directory='tuner_dir',  # Directory to store results\n",
        "    project_name='classification_model'\n",
        ")\n",
        "\n",
        "# Perform hyperparameter tuning\n",
        "tuner.search(X_train_normalized, y_train_encoded, epochs=10, validation_split=0.2)\n",
        "\n",
        "# Get the best hyperparameters\n",
        "best_hparams = tuner.get_best_hyperparameters(num_trials=1)[0]\n",
        "\n",
        "# Build the model with the best hyperparameters\n",
        "best_model = build_classification_model(best_hparams)\n",
        "\n",
        "# Compile the model\n",
        "best_model.compile(\n",
        "    optimizer=keras.optimizers.Adam(best_hparams.get('learning_rate')),\n",
        "    loss='categorical_crossentropy',\n",
        "    metrics=['accuracy']\n",
        ")\n",
        "\n",
        "# Train the model on the entire training dataset\n",
        "history = best_model.fit(X_train_normalized, y_train_encoded, epochs=50)\n",
        "\n",
        "# Evaluate the model on the training and testing data\n",
        "train_accuracy = best_model.evaluate(X_train_normalized, y_train_encoded, verbose=0)[1]\n",
        "test_accuracy = best_model.evaluate(X_test_normalized, y_test_encoded, verbose=0)[1]\n",
        "\n",
        "# Print the results\n",
        "print(\"Best Hyperparameters:\")\n",
        "print(best_hparams.get_config())\n",
        "print(\"Training Accuracy:\", train_accuracy)\n",
        "print(\"Testing Accuracy:\", test_accuracy)"
      ]
    }
  ],
  "metadata": {
    "colab": {
      "provenance": [],
      "include_colab_link": true
    },
    "kernelspec": {
      "display_name": "Python 3",
      "name": "python3"
    },
    "language_info": {
      "name": "python"
    }
  },
  "nbformat": 4,
  "nbformat_minor": 0
}