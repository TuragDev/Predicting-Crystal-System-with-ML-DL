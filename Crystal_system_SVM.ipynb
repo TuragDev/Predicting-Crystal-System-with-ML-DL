{
  "nbformat": 4,
  "nbformat_minor": 0,
  "metadata": {
    "colab": {
      "provenance": [],
      "authorship_tag": "ABX9TyO3HV+8CMsK+bMUoGbWNvpd",
      "include_colab_link": true
    },
    "kernelspec": {
      "name": "python3",
      "display_name": "Python 3"
    },
    "language_info": {
      "name": "python"
    }
  },
  "cells": [
    {
      "cell_type": "markdown",
      "metadata": {
        "id": "view-in-github",
        "colab_type": "text"
      },
      "source": [
        "<a href=\"https://colab.research.google.com/github/TuragDev/Predicting-Crystal-System-with-ML-DL/blob/main/Crystal_system_SVM.ipynb\" target=\"_parent\"><img src=\"https://colab.research.google.com/assets/colab-badge.svg\" alt=\"Open In Colab\"/></a>"
      ]
    },
    {
      "cell_type": "code",
      "execution_count": null,
      "metadata": {
        "id": "pswgzCDsKWMa",
        "colab": {
          "base_uri": "https://localhost:8080/",
          "height": 316
        },
        "outputId": "3176f9e3-e642-410a-ada2-abc99b2233ee"
      },
      "outputs": [
        {
          "output_type": "display_data",
          "data": {
            "text/plain": [
              "<IPython.core.display.HTML object>"
            ],
            "text/html": [
              "\n",
              "     <input type=\"file\" id=\"files-ed0afe0c-e00e-4422-8f7d-c0fba88e0a6f\" name=\"files[]\" multiple disabled\n",
              "        style=\"border:none\" />\n",
              "     <output id=\"result-ed0afe0c-e00e-4422-8f7d-c0fba88e0a6f\">\n",
              "      Upload widget is only available when the cell has been executed in the\n",
              "      current browser session. Please rerun this cell to enable.\n",
              "      </output>\n",
              "      <script>// Copyright 2017 Google LLC\n",
              "//\n",
              "// Licensed under the Apache License, Version 2.0 (the \"License\");\n",
              "// you may not use this file except in compliance with the License.\n",
              "// You may obtain a copy of the License at\n",
              "//\n",
              "//      http://www.apache.org/licenses/LICENSE-2.0\n",
              "//\n",
              "// Unless required by applicable law or agreed to in writing, software\n",
              "// distributed under the License is distributed on an \"AS IS\" BASIS,\n",
              "// WITHOUT WARRANTIES OR CONDITIONS OF ANY KIND, either express or implied.\n",
              "// See the License for the specific language governing permissions and\n",
              "// limitations under the License.\n",
              "\n",
              "/**\n",
              " * @fileoverview Helpers for google.colab Python module.\n",
              " */\n",
              "(function(scope) {\n",
              "function span(text, styleAttributes = {}) {\n",
              "  const element = document.createElement('span');\n",
              "  element.textContent = text;\n",
              "  for (const key of Object.keys(styleAttributes)) {\n",
              "    element.style[key] = styleAttributes[key];\n",
              "  }\n",
              "  return element;\n",
              "}\n",
              "\n",
              "// Max number of bytes which will be uploaded at a time.\n",
              "const MAX_PAYLOAD_SIZE = 100 * 1024;\n",
              "\n",
              "function _uploadFiles(inputId, outputId) {\n",
              "  const steps = uploadFilesStep(inputId, outputId);\n",
              "  const outputElement = document.getElementById(outputId);\n",
              "  // Cache steps on the outputElement to make it available for the next call\n",
              "  // to uploadFilesContinue from Python.\n",
              "  outputElement.steps = steps;\n",
              "\n",
              "  return _uploadFilesContinue(outputId);\n",
              "}\n",
              "\n",
              "// This is roughly an async generator (not supported in the browser yet),\n",
              "// where there are multiple asynchronous steps and the Python side is going\n",
              "// to poll for completion of each step.\n",
              "// This uses a Promise to block the python side on completion of each step,\n",
              "// then passes the result of the previous step as the input to the next step.\n",
              "function _uploadFilesContinue(outputId) {\n",
              "  const outputElement = document.getElementById(outputId);\n",
              "  const steps = outputElement.steps;\n",
              "\n",
              "  const next = steps.next(outputElement.lastPromiseValue);\n",
              "  return Promise.resolve(next.value.promise).then((value) => {\n",
              "    // Cache the last promise value to make it available to the next\n",
              "    // step of the generator.\n",
              "    outputElement.lastPromiseValue = value;\n",
              "    return next.value.response;\n",
              "  });\n",
              "}\n",
              "\n",
              "/**\n",
              " * Generator function which is called between each async step of the upload\n",
              " * process.\n",
              " * @param {string} inputId Element ID of the input file picker element.\n",
              " * @param {string} outputId Element ID of the output display.\n",
              " * @return {!Iterable<!Object>} Iterable of next steps.\n",
              " */\n",
              "function* uploadFilesStep(inputId, outputId) {\n",
              "  const inputElement = document.getElementById(inputId);\n",
              "  inputElement.disabled = false;\n",
              "\n",
              "  const outputElement = document.getElementById(outputId);\n",
              "  outputElement.innerHTML = '';\n",
              "\n",
              "  const pickedPromise = new Promise((resolve) => {\n",
              "    inputElement.addEventListener('change', (e) => {\n",
              "      resolve(e.target.files);\n",
              "    });\n",
              "  });\n",
              "\n",
              "  const cancel = document.createElement('button');\n",
              "  inputElement.parentElement.appendChild(cancel);\n",
              "  cancel.textContent = 'Cancel upload';\n",
              "  const cancelPromise = new Promise((resolve) => {\n",
              "    cancel.onclick = () => {\n",
              "      resolve(null);\n",
              "    };\n",
              "  });\n",
              "\n",
              "  // Wait for the user to pick the files.\n",
              "  const files = yield {\n",
              "    promise: Promise.race([pickedPromise, cancelPromise]),\n",
              "    response: {\n",
              "      action: 'starting',\n",
              "    }\n",
              "  };\n",
              "\n",
              "  cancel.remove();\n",
              "\n",
              "  // Disable the input element since further picks are not allowed.\n",
              "  inputElement.disabled = true;\n",
              "\n",
              "  if (!files) {\n",
              "    return {\n",
              "      response: {\n",
              "        action: 'complete',\n",
              "      }\n",
              "    };\n",
              "  }\n",
              "\n",
              "  for (const file of files) {\n",
              "    const li = document.createElement('li');\n",
              "    li.append(span(file.name, {fontWeight: 'bold'}));\n",
              "    li.append(span(\n",
              "        `(${file.type || 'n/a'}) - ${file.size} bytes, ` +\n",
              "        `last modified: ${\n",
              "            file.lastModifiedDate ? file.lastModifiedDate.toLocaleDateString() :\n",
              "                                    'n/a'} - `));\n",
              "    const percent = span('0% done');\n",
              "    li.appendChild(percent);\n",
              "\n",
              "    outputElement.appendChild(li);\n",
              "\n",
              "    const fileDataPromise = new Promise((resolve) => {\n",
              "      const reader = new FileReader();\n",
              "      reader.onload = (e) => {\n",
              "        resolve(e.target.result);\n",
              "      };\n",
              "      reader.readAsArrayBuffer(file);\n",
              "    });\n",
              "    // Wait for the data to be ready.\n",
              "    let fileData = yield {\n",
              "      promise: fileDataPromise,\n",
              "      response: {\n",
              "        action: 'continue',\n",
              "      }\n",
              "    };\n",
              "\n",
              "    // Use a chunked sending to avoid message size limits. See b/62115660.\n",
              "    let position = 0;\n",
              "    do {\n",
              "      const length = Math.min(fileData.byteLength - position, MAX_PAYLOAD_SIZE);\n",
              "      const chunk = new Uint8Array(fileData, position, length);\n",
              "      position += length;\n",
              "\n",
              "      const base64 = btoa(String.fromCharCode.apply(null, chunk));\n",
              "      yield {\n",
              "        response: {\n",
              "          action: 'append',\n",
              "          file: file.name,\n",
              "          data: base64,\n",
              "        },\n",
              "      };\n",
              "\n",
              "      let percentDone = fileData.byteLength === 0 ?\n",
              "          100 :\n",
              "          Math.round((position / fileData.byteLength) * 100);\n",
              "      percent.textContent = `${percentDone}% done`;\n",
              "\n",
              "    } while (position < fileData.byteLength);\n",
              "  }\n",
              "\n",
              "  // All done.\n",
              "  yield {\n",
              "    response: {\n",
              "      action: 'complete',\n",
              "    }\n",
              "  };\n",
              "}\n",
              "\n",
              "scope.google = scope.google || {};\n",
              "scope.google.colab = scope.google.colab || {};\n",
              "scope.google.colab._files = {\n",
              "  _uploadFiles,\n",
              "  _uploadFilesContinue,\n",
              "};\n",
              "})(self);\n",
              "</script> "
            ]
          },
          "metadata": {}
        },
        {
          "output_type": "stream",
          "name": "stdout",
          "text": [
            "Saving magpie_testdataset.csv to magpie_testdataset.csv\n",
            "Saving magpie_traindataset.csv to magpie_traindataset.csv\n",
            "Saving Orbital_testdataset.csv to Orbital_testdataset.csv\n",
            "Saving Orbital_traindataset.csv to Orbital_traindataset.csv\n",
            "Saving Sine_testdataset.csv to Sine_testdataset.csv\n",
            "Saving Sine_traindataset.csv to Sine_traindataset.csv\n",
            "Saving Xrd_testdataset.csv to Xrd_testdataset.csv\n",
            "Saving Xrd_traindataset.csv to Xrd_traindataset.csv\n"
          ]
        }
      ],
      "source": [
        "from google.colab import files\n",
        "uploaded= files.upload()"
      ]
    },
    {
      "cell_type": "code",
      "execution_count": null,
      "metadata": {
        "id": "68261b12"
      },
      "outputs": [],
      "source": [
        "import joblib\n",
        "from sklearn.model_selection import train_test_split\n",
        "import numpy as np\n",
        "\n",
        "import pandas as pd\n",
        "\n",
        "from sklearn.model_selection import GridSearchCV, RepeatedKFold\n",
        "from sklearn.model_selection import train_test_split\n",
        "from sklearn.metrics import mean_squared_error as MSE\n",
        "from sklearn.preprocessing import StandardScaler\n",
        "from sklearn.metrics import mean_squared_error, r2_score\n",
        "\n",
        "from sklearn.model_selection import train_test_split\n",
        "\n",
        "import numpy as np\n",
        "\n",
        "import pickle\n",
        "import pandas as pd\n",
        "from sklearn.preprocessing import LabelEncoder\n",
        "\n",
        "import sys\n",
        "# In[3]:\n",
        "\n",
        "\n",
        "from sklearn import svm\n",
        "from sklearn.model_selection import GridSearchCV\n",
        "\n",
        "\n",
        "from numpy import mean\n",
        "from numpy import std\n",
        "from sklearn.datasets import make_classification\n",
        "from sklearn.model_selection import KFold\n",
        "from sklearn.model_selection import GridSearchCV\n",
        "from sklearn.ensemble import RandomForestClassifier\n",
        "from sklearn.metrics import accuracy_score\n",
        "import matplotlib.pyplot as plt\n",
        "from pandas import read_csv\n",
        "from sklearn.model_selection import cross_val_score\n",
        "from sklearn.svm import SVC\n",
        "from sklearn.model_selection import RepeatedStratifiedKFold\n",
        "from skopt import BayesSearchCV\n"
      ]
    },
    {
      "cell_type": "code",
      "source": [
        "!pip install scikit-optimize"
      ],
      "metadata": {
        "colab": {
          "base_uri": "https://localhost:8080/"
        },
        "id": "GdBqoU499GGX",
        "outputId": "b938476e-5218-46bc-937b-34588a1d0971"
      },
      "execution_count": null,
      "outputs": [
        {
          "output_type": "stream",
          "name": "stdout",
          "text": [
            "Collecting scikit-optimize\n",
            "  Downloading scikit_optimize-0.9.0-py2.py3-none-any.whl (100 kB)\n",
            "\u001b[?25l     \u001b[90m━━━━━━━━━━━━━━━━━━━━━━━━━━━━━━━━━━━━━━━━\u001b[0m \u001b[32m0.0/100.3 kB\u001b[0m \u001b[31m?\u001b[0m eta \u001b[36m-:--:--\u001b[0m\r\u001b[2K     \u001b[91m━━━━━━━━━━━━━━━━━━━━━━━━\u001b[0m\u001b[91m╸\u001b[0m\u001b[90m━━━━━━━━━━━━━━━\u001b[0m \u001b[32m61.4/100.3 kB\u001b[0m \u001b[31m1.5 MB/s\u001b[0m eta \u001b[36m0:00:01\u001b[0m\r\u001b[2K     \u001b[90m━━━━━━━━━━━━━━━━━━━━━━━━━━━━━━━━━━━━━━━\u001b[0m \u001b[32m100.3/100.3 kB\u001b[0m \u001b[31m1.7 MB/s\u001b[0m eta \u001b[36m0:00:00\u001b[0m\n",
            "\u001b[?25hRequirement already satisfied: joblib>=0.11 in /usr/local/lib/python3.10/dist-packages (from scikit-optimize) (1.3.2)\n",
            "Collecting pyaml>=16.9 (from scikit-optimize)\n",
            "  Downloading pyaml-23.9.6-py3-none-any.whl (22 kB)\n",
            "Requirement already satisfied: numpy>=1.13.3 in /usr/local/lib/python3.10/dist-packages (from scikit-optimize) (1.23.5)\n",
            "Requirement already satisfied: scipy>=0.19.1 in /usr/local/lib/python3.10/dist-packages (from scikit-optimize) (1.11.2)\n",
            "Requirement already satisfied: scikit-learn>=0.20.0 in /usr/local/lib/python3.10/dist-packages (from scikit-optimize) (1.2.2)\n",
            "Requirement already satisfied: PyYAML in /usr/local/lib/python3.10/dist-packages (from pyaml>=16.9->scikit-optimize) (6.0.1)\n",
            "Requirement already satisfied: threadpoolctl>=2.0.0 in /usr/local/lib/python3.10/dist-packages (from scikit-learn>=0.20.0->scikit-optimize) (3.2.0)\n",
            "Installing collected packages: pyaml, scikit-optimize\n",
            "Successfully installed pyaml-23.9.6 scikit-optimize-0.9.0\n"
          ]
        }
      ]
    },
    {
      "cell_type": "code",
      "source": [
        "df= pd.read_csv('magpie_traindataset.csv')\n",
        "df.shape"
      ],
      "metadata": {
        "colab": {
          "base_uri": "https://localhost:8080/"
        },
        "id": "8fAe7jNTVg9w",
        "outputId": "39ba9862-3dad-4bc6-d8f5-f92a45b73557"
      },
      "execution_count": null,
      "outputs": [
        {
          "output_type": "execute_result",
          "data": {
            "text/plain": [
              "(584, 134)"
            ]
          },
          "metadata": {},
          "execution_count": 5
        }
      ]
    },
    {
      "cell_type": "code",
      "source": [
        "X_train=df.iloc[:,1:132]\n",
        "y_train=df['crystal_system']\n",
        "\n",
        "y_train"
      ],
      "metadata": {
        "id": "Ur5GfB4wfuN2",
        "colab": {
          "base_uri": "https://localhost:8080/"
        },
        "outputId": "e9fca4ef-6fbf-4c23-cc8b-24061deaaff1"
      },
      "execution_count": null,
      "outputs": [
        {
          "output_type": "execute_result",
          "data": {
            "text/plain": [
              "0         triclinic\n",
              "1         triclinic\n",
              "2      orthorhombic\n",
              "3         triclinic\n",
              "4         triclinic\n",
              "           ...     \n",
              "141      monoclinic\n",
              "142       triclinic\n",
              "143       triclinic\n",
              "144      monoclinic\n",
              "145       triclinic\n",
              "Name: crystal_system, Length: 146, dtype: object"
            ]
          },
          "metadata": {},
          "execution_count": 18
        }
      ]
    },
    {
      "cell_type": "code",
      "source": [
        "df=pd.read_csv('magpie_testdataset.csv')\n",
        "X_test=df.iloc[:,1:132]\n",
        "\n",
        "y_test=df['crystal_system']\n",
        "\n",
        "y_test"
      ],
      "metadata": {
        "colab": {
          "base_uri": "https://localhost:8080/"
        },
        "id": "RYhbUiHPPUKB",
        "outputId": "ce98c274-e411-4bdc-912d-607ee5acd05b"
      },
      "execution_count": null,
      "outputs": [
        {
          "output_type": "execute_result",
          "data": {
            "text/plain": [
              "0         triclinic\n",
              "1         triclinic\n",
              "2      orthorhombic\n",
              "3         triclinic\n",
              "4         triclinic\n",
              "           ...     \n",
              "141      monoclinic\n",
              "142       triclinic\n",
              "143       triclinic\n",
              "144      monoclinic\n",
              "145       triclinic\n",
              "Name: crystal_system, Length: 146, dtype: object"
            ]
          },
          "metadata": {},
          "execution_count": 20
        }
      ]
    },
    {
      "cell_type": "code",
      "source": [
        "from sklearn.preprocessing import StandardScaler\n",
        "\n",
        "# create a scaler object\n",
        "scaler = StandardScaler()\n",
        "\n",
        "# fit scaler on the training data\n",
        "scaler.fit(X_train)\n",
        "\n",
        "# apply the scaler to both the training and test data\n",
        "X_train_normalized = scaler.transform(X_train)\n",
        "\n",
        "X_test_normalized = scaler.transform(X_test)"
      ],
      "metadata": {
        "id": "RUdr_5YSKLtf"
      },
      "execution_count": null,
      "outputs": []
    },
    {
      "cell_type": "markdown",
      "source": [
        "Bayes Search CV\n"
      ],
      "metadata": {
        "id": "s7jFYT24DTwL"
      }
    },
    {
      "cell_type": "code",
      "execution_count": null,
      "metadata": {
        "colab": {
          "base_uri": "https://localhost:8080/"
        },
        "id": "ed2d35f4",
        "outputId": "3ae8d61c-5170-4c95-cf22-c739f7e2d752"
      },
      "outputs": [
        {
          "output_type": "stream",
          "name": "stderr",
          "text": [
            "/usr/local/lib/python3.10/dist-packages/skopt/optimizer/optimizer.py:449: UserWarning: The objective has been evaluated at this point before.\n",
            "  warnings.warn(\"The objective has been evaluated \"\n"
          ]
        },
        {
          "output_type": "stream",
          "name": "stdout",
          "text": [
            "0.6397241379310344\n",
            "OrderedDict([('C', 93.56283330371318), ('gamma', 3.6648525096705323e-06), ('kernel', 'rbf')])\n"
          ]
        }
      ],
      "source": [
        "from sklearn.preprocessing import StandardScaler\n",
        "# create a scaler object\n",
        "scaler = StandardScaler()\n",
        "\n",
        "params = dict()\n",
        "params['C'] = (1e-6, 600.0, 'log-uniform')\n",
        "params['gamma'] = (1e-6, 100.0, 'log-uniform')\n",
        "params['kernel'] = ['rbf']\n",
        "# define evaluation\n",
        "cv = RepeatedKFold(n_splits=5, n_repeats=10, random_state=1)\n",
        "# define the search\n",
        "search = BayesSearchCV(estimator=svm.SVC(), search_spaces=params, n_jobs=-1, cv=cv)\n",
        "# perform the search\n",
        "search.fit(X_train_normalized, y_train)\n",
        "# report the best result\n",
        "print(search.best_score_)\n",
        "print(search.best_params_)"
      ]
    },
    {
      "cell_type": "code",
      "source": [
        "model = svm.SVC(C= 93.56283330371318,kernel='rbf',gamma=3.6648525096705323e-06)\n",
        "from sklearn.model_selection import KFold, cross_val_score\n",
        "\n",
        "# Use 10-fold cross validation (90% training, 10% test)\n",
        "\n",
        "cv = RepeatedKFold(n_splits=5, n_repeats=10, random_state=1)\n",
        "# compute cross validation scores for random forest model\n",
        "scores = cross_val_score(model,X_train_normalized, y_train, scoring= 'accuracy',\n",
        "                         cv=cv, n_jobs=-1)\n",
        "mean_accuracy = scores.mean()\n",
        "print(\"Mean Accuracy: \", mean_accuracy)\n"
      ],
      "metadata": {
        "colab": {
          "base_uri": "https://localhost:8080/"
        },
        "id": "Llnrg_jjFqxL",
        "outputId": "98b31650-d884-4275-fcf3-68cc4dc46633"
      },
      "execution_count": null,
      "outputs": [
        {
          "output_type": "stream",
          "name": "stdout",
          "text": [
            "Mean Accuracy:  0.6397241379310344\n"
          ]
        }
      ]
    },
    {
      "cell_type": "code",
      "source": [
        "model.fit(X_train_normalized, y_train)\n",
        "pred = model.predict(X_train_normalized)\n",
        "training_accuracy= accuracy_score(y_train,pred)\n",
        "print(\"Accuracy on Training data: \",training_accuracy)\n",
        "pred = model.predict(X_test_normalized)\n",
        "test_accuracy= accuracy_score(y_test,pred)\n",
        "print(\"Accuracy on Test data: \",test_accuracy)\n",
        "Magpie_Bayes_crystal = model.predict(X_test)\n",
        "Magpie_Bayes_crystal"
      ],
      "metadata": {
        "colab": {
          "base_uri": "https://localhost:8080/"
        },
        "id": "YzSWAW61Hb36",
        "outputId": "566a7c2b-2fa2-4d2e-df41-64eeb904d759"
      },
      "execution_count": null,
      "outputs": [
        {
          "output_type": "stream",
          "name": "stdout",
          "text": [
            "Accuracy on Training data:  0.6438356164383562\n",
            "Accuracy on Test data:  0.6438356164383562\n"
          ]
        },
        {
          "output_type": "stream",
          "name": "stderr",
          "text": [
            "/usr/local/lib/python3.10/dist-packages/sklearn/base.py:432: UserWarning: X has feature names, but SVC was fitted without feature names\n",
            "  warnings.warn(\n"
          ]
        },
        {
          "output_type": "execute_result",
          "data": {
            "text/plain": [
              "array(['cubic', 'cubic', 'cubic', 'cubic', 'cubic', 'cubic', 'cubic',\n",
              "       'cubic', 'cubic', 'cubic', 'cubic', 'cubic', 'cubic', 'cubic',\n",
              "       'cubic', 'cubic', 'cubic', 'cubic', 'cubic', 'cubic', 'cubic',\n",
              "       'cubic', 'cubic', 'cubic', 'cubic', 'cubic', 'cubic', 'cubic',\n",
              "       'cubic', 'cubic', 'cubic', 'cubic', 'cubic', 'cubic', 'cubic',\n",
              "       'cubic', 'cubic', 'cubic', 'cubic', 'cubic', 'cubic', 'cubic',\n",
              "       'cubic', 'cubic', 'cubic', 'cubic', 'cubic', 'cubic', 'cubic',\n",
              "       'cubic', 'cubic', 'cubic', 'cubic', 'cubic', 'cubic', 'cubic',\n",
              "       'cubic', 'cubic', 'cubic', 'cubic', 'cubic', 'cubic', 'cubic',\n",
              "       'cubic', 'cubic', 'cubic', 'cubic', 'cubic', 'cubic', 'cubic',\n",
              "       'cubic', 'cubic', 'cubic', 'cubic', 'cubic', 'cubic', 'cubic',\n",
              "       'cubic', 'cubic', 'cubic', 'cubic', 'cubic', 'cubic', 'cubic',\n",
              "       'cubic', 'cubic', 'cubic', 'cubic', 'cubic', 'cubic', 'cubic',\n",
              "       'cubic', 'cubic', 'cubic', 'cubic', 'cubic', 'cubic', 'cubic',\n",
              "       'cubic', 'cubic', 'cubic', 'cubic', 'cubic', 'cubic', 'cubic',\n",
              "       'cubic', 'cubic', 'cubic', 'cubic', 'cubic', 'cubic', 'cubic',\n",
              "       'cubic', 'cubic', 'cubic', 'cubic', 'cubic', 'cubic', 'cubic',\n",
              "       'cubic', 'cubic', 'cubic', 'cubic', 'cubic', 'cubic', 'cubic',\n",
              "       'cubic', 'cubic', 'cubic', 'cubic', 'cubic', 'cubic', 'cubic',\n",
              "       'cubic', 'cubic', 'cubic', 'cubic', 'cubic', 'cubic', 'cubic',\n",
              "       'cubic', 'cubic', 'cubic', 'cubic', 'cubic', 'cubic'], dtype=object)"
            ]
          },
          "metadata": {},
          "execution_count": 25
        }
      ]
    },
    {
      "cell_type": "markdown",
      "source": [
        "SCM descriptor"
      ],
      "metadata": {
        "id": "3Zs3jZOY9Xmw"
      }
    },
    {
      "cell_type": "code",
      "source": [
        "df= pd.read_csv('Sine_traindataset.csv')\n",
        "df.shape"
      ],
      "metadata": {
        "colab": {
          "base_uri": "https://localhost:8080/"
        },
        "id": "bjWKkRi09FSL",
        "outputId": "a84ad24a-1880-4507-a09c-6b1bc9f18d64"
      },
      "execution_count": null,
      "outputs": [
        {
          "output_type": "execute_result",
          "data": {
            "text/plain": [
              "(596, 166)"
            ]
          },
          "metadata": {},
          "execution_count": 78
        }
      ]
    },
    {
      "cell_type": "code",
      "source": [
        "X_train=df.iloc[:,14:]\n",
        "y_train=df['crystal_system']\n",
        "\n",
        "y_train"
      ],
      "metadata": {
        "colab": {
          "base_uri": "https://localhost:8080/"
        },
        "outputId": "dc5e6c4f-35e7-4f68-e859-6020b928c719",
        "id": "4qw2v_HOQSUO"
      },
      "execution_count": null,
      "outputs": [
        {
          "output_type": "execute_result",
          "data": {
            "text/plain": [
              "0      monoclinic\n",
              "1       triclinic\n",
              "2       triclinic\n",
              "3        trigonal\n",
              "4       triclinic\n",
              "          ...    \n",
              "591     triclinic\n",
              "592    monoclinic\n",
              "593     triclinic\n",
              "594     triclinic\n",
              "595    monoclinic\n",
              "Name: crystal_system, Length: 596, dtype: object"
            ]
          },
          "metadata": {},
          "execution_count": 79
        }
      ]
    },
    {
      "cell_type": "code",
      "source": [
        "print(X_train.shape)"
      ],
      "metadata": {
        "colab": {
          "base_uri": "https://localhost:8080/"
        },
        "id": "DoZCpba5v85H",
        "outputId": "74df60e0-fbd4-4f5d-eaa9-66fdf551f518"
      },
      "execution_count": null,
      "outputs": [
        {
          "output_type": "stream",
          "name": "stdout",
          "text": [
            "(596, 152)\n"
          ]
        }
      ]
    },
    {
      "cell_type": "code",
      "source": [
        "df=pd.read_csv('Sine_testdataset.csv')\n",
        "df.shape"
      ],
      "metadata": {
        "colab": {
          "base_uri": "https://localhost:8080/"
        },
        "outputId": "cf87bc44-4d49-4253-9eb6-4fc788933020",
        "id": "mlLeowiPQ2fv"
      },
      "execution_count": null,
      "outputs": [
        {
          "output_type": "execute_result",
          "data": {
            "text/plain": [
              "(149, 166)"
            ]
          },
          "metadata": {},
          "execution_count": 81
        }
      ]
    },
    {
      "cell_type": "code",
      "source": [
        "X_test=df.iloc[:,14:]\n",
        "\n",
        "y_test=df['crystal_system']"
      ],
      "metadata": {
        "id": "5HGuBR1Twa8R"
      },
      "execution_count": null,
      "outputs": []
    },
    {
      "cell_type": "code",
      "source": [
        "print(X_test.shape)"
      ],
      "metadata": {
        "colab": {
          "base_uri": "https://localhost:8080/"
        },
        "id": "nsNZC64Pw4HT",
        "outputId": "0e752160-6496-49d0-ee4f-412c06d9a87f"
      },
      "execution_count": null,
      "outputs": [
        {
          "output_type": "stream",
          "name": "stdout",
          "text": [
            "(149, 152)\n"
          ]
        }
      ]
    },
    {
      "cell_type": "code",
      "source": [
        "from sklearn.preprocessing import StandardScaler\n",
        "\n",
        "# create a scaler object\n",
        "scaler = StandardScaler()\n",
        "\n",
        "# fit scaler on the training data\n",
        "scaler.fit(X_train)\n",
        "\n",
        "# apply the scaler to both the training and test data\n",
        "X_train_normalized = scaler.transform(X_train)\n",
        "\n",
        "X_test_normalized = scaler.transform(X_test)"
      ],
      "metadata": {
        "id": "L922aSiJRLoo"
      },
      "execution_count": null,
      "outputs": []
    },
    {
      "cell_type": "markdown",
      "source": [
        "Bayes Search CV"
      ],
      "metadata": {
        "id": "f3hyt2r2DfI8"
      }
    },
    {
      "cell_type": "code",
      "execution_count": null,
      "metadata": {
        "colab": {
          "base_uri": "https://localhost:8080/"
        },
        "outputId": "616b32c6-17cd-4b28-9bda-b1e05c30db2a",
        "id": "TzgByB76RWNZ"
      },
      "outputs": [
        {
          "output_type": "stream",
          "name": "stdout",
          "text": [
            "0.7206204481792717\n",
            "OrderedDict([('C', 45.73246342162435), ('gamma', 0.06292415093614889), ('kernel', 'rbf')])\n"
          ]
        }
      ],
      "source": [
        "from sklearn.preprocessing import StandardScaler\n",
        "# create a scaler object\n",
        "scaler = StandardScaler()\n",
        "\n",
        "params = dict()\n",
        "params['C'] = (1e-6, 600.0, 'log-uniform')\n",
        "params['gamma'] = (1e-6, 100.0, 'log-uniform')\n",
        "params['kernel'] = ['rbf']\n",
        "# define evaluation\n",
        "cv = RepeatedKFold(n_splits=5, n_repeats=10, random_state=1)\n",
        "# define the search\n",
        "search = BayesSearchCV(estimator=svm.SVC(), search_spaces=params, n_jobs=-1, cv=cv)\n",
        "# perform the search\n",
        "search.fit(X_train_normalized, y_train)\n",
        "# report the best result\n",
        "print(search.best_score_)\n",
        "print(search.best_params_)"
      ]
    },
    {
      "cell_type": "code",
      "source": [
        "model = svm.SVC(C= 65.93531699036937,kernel='rbf',gamma=  0.050980852812310316)\n",
        "from sklearn.model_selection import KFold, cross_val_score\n",
        "\n",
        "# Use 10-fold cross validation (90% training, 10% test)\n",
        "\n",
        "cv = RepeatedKFold(n_splits=5, n_repeats=10, random_state=1)\n",
        "# compute cross validation scores for random forest model\n",
        "scores = cross_val_score(model,X_train_normalized, y_train, scoring= 'accuracy',\n",
        "                         cv=cv, n_jobs=-1)\n",
        "mean_accuracy = scores.mean()\n",
        "print(\"Mean Accuracy: \", mean_accuracy)\n"
      ],
      "metadata": {
        "colab": {
          "base_uri": "https://localhost:8080/"
        },
        "outputId": "907aa7de-21aa-45db-a525-f1145da82c85",
        "id": "y3diqzmKRhkc"
      },
      "execution_count": null,
      "outputs": [
        {
          "output_type": "stream",
          "name": "stdout",
          "text": [
            "Mean Accuracy:  0.7201134453781513\n"
          ]
        }
      ]
    },
    {
      "cell_type": "code",
      "source": [
        "model.fit(X_train_normalized, y_train)\n",
        "pred = model.predict(X_train_normalized)\n",
        "training_accuracy= accuracy_score(y_train,pred)\n",
        "print(\"Accuracy on Training data: \",training_accuracy)\n",
        "pred = model.predict(X_test_normalized)\n",
        "test_accuracy= accuracy_score(y_test,pred)\n",
        "print(\"Accuracy on Test data: \",test_accuracy)\n",
        "SCM_Bayes_crystal = model.predict(X_test)\n",
        "SCM_Bayes_crystal"
      ],
      "metadata": {
        "colab": {
          "base_uri": "https://localhost:8080/"
        },
        "outputId": "f747b6fe-c071-4ba6-9ef2-4bd858552331",
        "id": "OxMAi1c-Rseq"
      },
      "execution_count": null,
      "outputs": [
        {
          "output_type": "stream",
          "name": "stdout",
          "text": [
            "Accuracy on Training data:  0.837248322147651\n",
            "Accuracy on Test data:  0.7114093959731543\n"
          ]
        },
        {
          "output_type": "stream",
          "name": "stderr",
          "text": [
            "/usr/local/lib/python3.10/dist-packages/sklearn/base.py:432: UserWarning: X has feature names, but SVC was fitted without feature names\n",
            "  warnings.warn(\n"
          ]
        },
        {
          "output_type": "execute_result",
          "data": {
            "text/plain": [
              "array(['orthorhombic', 'orthorhombic', 'orthorhombic', 'orthorhombic',\n",
              "       'orthorhombic', 'orthorhombic', 'orthorhombic', 'orthorhombic',\n",
              "       'orthorhombic', 'orthorhombic', 'orthorhombic', 'orthorhombic',\n",
              "       'orthorhombic', 'orthorhombic', 'orthorhombic', 'orthorhombic',\n",
              "       'orthorhombic', 'orthorhombic', 'orthorhombic', 'orthorhombic',\n",
              "       'orthorhombic', 'orthorhombic', 'orthorhombic', 'triclinic',\n",
              "       'orthorhombic', 'orthorhombic', 'orthorhombic', 'orthorhombic',\n",
              "       'orthorhombic', 'orthorhombic', 'orthorhombic', 'orthorhombic',\n",
              "       'orthorhombic', 'orthorhombic', 'orthorhombic', 'orthorhombic',\n",
              "       'orthorhombic', 'orthorhombic', 'orthorhombic', 'orthorhombic',\n",
              "       'orthorhombic', 'orthorhombic', 'orthorhombic', 'orthorhombic',\n",
              "       'orthorhombic', 'orthorhombic', 'orthorhombic', 'orthorhombic',\n",
              "       'orthorhombic', 'orthorhombic', 'orthorhombic', 'orthorhombic',\n",
              "       'orthorhombic', 'orthorhombic', 'orthorhombic', 'orthorhombic',\n",
              "       'orthorhombic', 'orthorhombic', 'orthorhombic', 'orthorhombic',\n",
              "       'triclinic', 'orthorhombic', 'orthorhombic', 'orthorhombic',\n",
              "       'orthorhombic', 'orthorhombic', 'orthorhombic', 'orthorhombic',\n",
              "       'orthorhombic', 'orthorhombic', 'triclinic', 'orthorhombic',\n",
              "       'orthorhombic', 'orthorhombic', 'orthorhombic', 'orthorhombic',\n",
              "       'orthorhombic', 'orthorhombic', 'orthorhombic', 'orthorhombic',\n",
              "       'orthorhombic', 'orthorhombic', 'orthorhombic', 'orthorhombic',\n",
              "       'orthorhombic', 'orthorhombic', 'orthorhombic', 'orthorhombic',\n",
              "       'orthorhombic', 'orthorhombic', 'orthorhombic', 'orthorhombic',\n",
              "       'orthorhombic', 'orthorhombic', 'orthorhombic', 'orthorhombic',\n",
              "       'orthorhombic', 'orthorhombic', 'orthorhombic', 'orthorhombic',\n",
              "       'triclinic', 'orthorhombic', 'orthorhombic', 'orthorhombic',\n",
              "       'triclinic', 'orthorhombic', 'orthorhombic', 'orthorhombic',\n",
              "       'triclinic', 'orthorhombic', 'orthorhombic', 'orthorhombic',\n",
              "       'orthorhombic', 'orthorhombic', 'orthorhombic', 'orthorhombic',\n",
              "       'orthorhombic', 'triclinic', 'orthorhombic', 'orthorhombic',\n",
              "       'orthorhombic', 'orthorhombic', 'orthorhombic', 'orthorhombic',\n",
              "       'orthorhombic', 'orthorhombic', 'orthorhombic', 'orthorhombic',\n",
              "       'orthorhombic', 'orthorhombic', 'orthorhombic', 'orthorhombic',\n",
              "       'orthorhombic', 'orthorhombic', 'orthorhombic', 'orthorhombic',\n",
              "       'orthorhombic', 'triclinic', 'orthorhombic', 'orthorhombic',\n",
              "       'orthorhombic', 'orthorhombic', 'orthorhombic', 'orthorhombic',\n",
              "       'orthorhombic', 'orthorhombic', 'orthorhombic', 'orthorhombic',\n",
              "       'orthorhombic'], dtype=object)"
            ]
          },
          "metadata": {},
          "execution_count": 64
        }
      ]
    },
    {
      "cell_type": "markdown",
      "source": [
        "OFM Descriptor"
      ],
      "metadata": {
        "id": "zyw4zKdNHww-"
      }
    },
    {
      "cell_type": "code",
      "source": [
        "df= pd.read_csv('Orbital_traindataset.csv')\n",
        "df.shape"
      ],
      "metadata": {
        "colab": {
          "base_uri": "https://localhost:8080/"
        },
        "outputId": "c11a50a2-b64d-4fb2-e1f4-f02d2366c7a7",
        "id": "OrHmcSCESN3y"
      },
      "execution_count": null,
      "outputs": [
        {
          "output_type": "execute_result",
          "data": {
            "text/plain": [
              "(595, 1038)"
            ]
          },
          "metadata": {},
          "execution_count": 13
        }
      ]
    },
    {
      "cell_type": "code",
      "source": [
        "X_train=df.iloc[:,14:]\n",
        "y_train=df['crystal_system']\n",
        "\n",
        "y_train"
      ],
      "metadata": {
        "colab": {
          "base_uri": "https://localhost:8080/"
        },
        "outputId": "627b3859-022e-422d-82b4-534a11ccaeef",
        "id": "JDJn9yCiS5Kd"
      },
      "execution_count": null,
      "outputs": [
        {
          "output_type": "execute_result",
          "data": {
            "text/plain": [
              "0       triclinic\n",
              "1       triclinic\n",
              "2       triclinic\n",
              "3       triclinic\n",
              "4       triclinic\n",
              "          ...    \n",
              "590     triclinic\n",
              "591    monoclinic\n",
              "592     triclinic\n",
              "593     triclinic\n",
              "594    monoclinic\n",
              "Name: crystal_system, Length: 595, dtype: object"
            ]
          },
          "metadata": {},
          "execution_count": 14
        }
      ]
    },
    {
      "cell_type": "code",
      "source": [
        "df=pd.read_csv('Orbital_testdataset.csv')\n",
        "X_test=df.iloc[:,14:]\n",
        "\n",
        "y_test=df['crystal_system']\n",
        "\n",
        "y_test"
      ],
      "metadata": {
        "colab": {
          "base_uri": "https://localhost:8080/"
        },
        "outputId": "fa2ee52d-a9db-49b2-c39e-3a6d770e4466",
        "id": "OtQYVfARTHaJ"
      },
      "execution_count": null,
      "outputs": [
        {
          "output_type": "execute_result",
          "data": {
            "text/plain": [
              "0       triclinic\n",
              "1       triclinic\n",
              "2      tetragonal\n",
              "3       triclinic\n",
              "4      monoclinic\n",
              "          ...    \n",
              "144    monoclinic\n",
              "145    monoclinic\n",
              "146         cubic\n",
              "147    monoclinic\n",
              "148    monoclinic\n",
              "Name: crystal_system, Length: 149, dtype: object"
            ]
          },
          "metadata": {},
          "execution_count": 15
        }
      ]
    },
    {
      "cell_type": "code",
      "source": [
        "from sklearn.preprocessing import StandardScaler\n",
        "\n",
        "# create a scaler object\n",
        "scaler = StandardScaler()\n",
        "\n",
        "# fit scaler on the training data\n",
        "scaler.fit(X_train)\n",
        "\n",
        "# apply the scaler to both the training and test data\n",
        "X_train_normalized = scaler.transform(X_train)\n",
        "\n",
        "X_test_normalized = scaler.transform(X_test)"
      ],
      "metadata": {
        "id": "5owtU3UYTtfF"
      },
      "execution_count": null,
      "outputs": []
    },
    {
      "cell_type": "markdown",
      "source": [
        "Bayes Search CV"
      ],
      "metadata": {
        "id": "iOSWK6ryM5YP"
      }
    },
    {
      "cell_type": "code",
      "execution_count": null,
      "metadata": {
        "colab": {
          "base_uri": "https://localhost:8080/"
        },
        "outputId": "22a71300-9509-44cc-da10-9a74c6197cca",
        "id": "wV-TJFHOT4CU"
      },
      "outputs": [
        {
          "output_type": "stream",
          "name": "stdout",
          "text": [
            "0.6835294117647059\n",
            "OrderedDict([('C', 600.0), ('gamma', 0.04009235851268407), ('kernel', 'rbf')])\n"
          ]
        }
      ],
      "source": [
        "from sklearn.preprocessing import StandardScaler\n",
        "# create a scaler object\n",
        "scaler = StandardScaler()\n",
        "\n",
        "params = dict()\n",
        "params['C'] = (1e-6, 600.0, 'log-uniform')\n",
        "params['gamma'] = (1e-6, 100.0, 'log-uniform')\n",
        "params['kernel'] = ['rbf']\n",
        "# define evaluation\n",
        "cv = RepeatedKFold(n_splits=5, n_repeats=10, random_state=1)\n",
        "# define the search\n",
        "search = BayesSearchCV(estimator=svm.SVC(), search_spaces=params, n_jobs=-1, cv=cv)\n",
        "# perform the search\n",
        "search.fit(X_train_normalized, y_train)\n",
        "# report the best result\n",
        "print(search.best_score_)\n",
        "print(search.best_params_)"
      ]
    },
    {
      "cell_type": "code",
      "source": [
        "model = svm.SVC(C=  600.0,kernel='rbf',gamma= 0.04009235851268407)\n",
        "from sklearn.model_selection import KFold, cross_val_score\n",
        "\n",
        "# Use 10-fold cross validation (90% training, 10% test)\n",
        "\n",
        "cv = RepeatedKFold(n_splits=5, n_repeats=10, random_state=1)\n",
        "# compute cross validation scores for random forest model\n",
        "scores = cross_val_score(model,X_train_normalized, y_train, scoring= 'accuracy',\n",
        "                         cv=cv, n_jobs=-1)\n",
        "mean_accuracy = scores.mean()\n",
        "print(\"Mean Accuracy: \", mean_accuracy)\n"
      ],
      "metadata": {
        "colab": {
          "base_uri": "https://localhost:8080/"
        },
        "outputId": "32f8f8ff-81a5-4856-a3eb-29e56e4c434f",
        "id": "RDfmLfx7T_ET"
      },
      "execution_count": null,
      "outputs": [
        {
          "output_type": "stream",
          "name": "stdout",
          "text": [
            "Mean Accuracy:  0.6835294117647059\n"
          ]
        }
      ]
    },
    {
      "cell_type": "code",
      "source": [
        "model.fit(X_train_normalized, y_train)\n",
        "pred = model.predict(X_train_normalized)\n",
        "training_accuracy= accuracy_score(y_train,pred)\n",
        "print(\"Accuracy on Training data: \",training_accuracy)\n",
        "pred = model.predict(X_test_normalized)\n",
        "test_accuracy= accuracy_score(y_test,pred)\n",
        "print(\"Accuracy on Test data: \",test_accuracy)\n",
        "SCM_Bayes_crystal = model.predict(X_test)\n",
        "SCM_Bayes_crystal"
      ],
      "metadata": {
        "colab": {
          "base_uri": "https://localhost:8080/"
        },
        "outputId": "c102a478-e8ef-426e-8a43-74984c4f20b1",
        "id": "3JIIAjgaUYVr"
      },
      "execution_count": null,
      "outputs": [
        {
          "output_type": "stream",
          "name": "stdout",
          "text": [
            "Accuracy on Training data:  0.7579831932773109\n",
            "Accuracy on Test data:  0.6442953020134228\n"
          ]
        },
        {
          "output_type": "stream",
          "name": "stderr",
          "text": [
            "/usr/local/lib/python3.10/dist-packages/sklearn/base.py:432: UserWarning: X has feature names, but SVC was fitted without feature names\n",
            "  warnings.warn(\n"
          ]
        },
        {
          "output_type": "execute_result",
          "data": {
            "text/plain": [
              "array(['monoclinic', 'triclinic', 'triclinic', 'triclinic', 'monoclinic',\n",
              "       'triclinic', 'triclinic', 'monoclinic', 'monoclinic', 'monoclinic',\n",
              "       'triclinic', 'monoclinic', 'monoclinic', 'monoclinic', 'triclinic',\n",
              "       'monoclinic', 'monoclinic', 'triclinic', 'monoclinic',\n",
              "       'monoclinic', 'triclinic', 'triclinic', 'triclinic', 'triclinic',\n",
              "       'monoclinic', 'monoclinic', 'monoclinic', 'monoclinic',\n",
              "       'monoclinic', 'monoclinic', 'monoclinic', 'triclinic',\n",
              "       'monoclinic', 'monoclinic', 'triclinic', 'monoclinic',\n",
              "       'monoclinic', 'monoclinic', 'monoclinic', 'monoclinic',\n",
              "       'monoclinic', 'monoclinic', 'monoclinic', 'triclinic',\n",
              "       'monoclinic', 'triclinic', 'monoclinic', 'triclinic', 'triclinic',\n",
              "       'monoclinic', 'triclinic', 'triclinic', 'triclinic', 'monoclinic',\n",
              "       'triclinic', 'monoclinic', 'monoclinic', 'triclinic', 'monoclinic',\n",
              "       'monoclinic', 'triclinic', 'monoclinic', 'monoclinic',\n",
              "       'monoclinic', 'monoclinic', 'monoclinic', 'monoclinic',\n",
              "       'monoclinic', 'triclinic', 'monoclinic', 'monoclinic',\n",
              "       'monoclinic', 'monoclinic', 'triclinic', 'triclinic', 'triclinic',\n",
              "       'triclinic', 'triclinic', 'monoclinic', 'monoclinic', 'triclinic',\n",
              "       'monoclinic', 'monoclinic', 'monoclinic', 'monoclinic',\n",
              "       'monoclinic', 'monoclinic', 'monoclinic', 'monoclinic',\n",
              "       'triclinic', 'triclinic', 'monoclinic', 'monoclinic', 'monoclinic',\n",
              "       'monoclinic', 'triclinic', 'monoclinic', 'triclinic', 'monoclinic',\n",
              "       'monoclinic', 'monoclinic', 'monoclinic', 'monoclinic',\n",
              "       'triclinic', 'triclinic', 'monoclinic', 'monoclinic', 'monoclinic',\n",
              "       'monoclinic', 'monoclinic', 'monoclinic', 'monoclinic',\n",
              "       'monoclinic', 'monoclinic', 'triclinic', 'triclinic', 'monoclinic',\n",
              "       'monoclinic', 'triclinic', 'monoclinic', 'monoclinic',\n",
              "       'monoclinic', 'monoclinic', 'monoclinic', 'monoclinic',\n",
              "       'triclinic', 'triclinic', 'monoclinic', 'monoclinic', 'monoclinic',\n",
              "       'monoclinic', 'monoclinic', 'monoclinic', 'monoclinic',\n",
              "       'monoclinic', 'monoclinic', 'monoclinic', 'monoclinic',\n",
              "       'triclinic', 'monoclinic', 'triclinic', 'monoclinic', 'triclinic',\n",
              "       'monoclinic', 'monoclinic', 'triclinic', 'triclinic', 'triclinic',\n",
              "       'monoclinic'], dtype=object)"
            ]
          },
          "metadata": {},
          "execution_count": 19
        }
      ]
    },
    {
      "cell_type": "markdown",
      "source": [
        "Xrd Descriptor"
      ],
      "metadata": {
        "id": "WdbVNB2FUfuy"
      }
    },
    {
      "cell_type": "code",
      "source": [
        "df= pd.read_csv('Xrd_traindataset.csv')\n",
        "df.shape"
      ],
      "metadata": {
        "colab": {
          "base_uri": "https://localhost:8080/"
        },
        "outputId": "b5f0fee2-818b-4db2-917e-8eebb4c13762",
        "id": "Z4CtK0rYUqSk"
      },
      "execution_count": null,
      "outputs": [
        {
          "output_type": "execute_result",
          "data": {
            "text/plain": [
              "(596, 142)"
            ]
          },
          "metadata": {},
          "execution_count": 20
        }
      ]
    },
    {
      "cell_type": "code",
      "source": [
        "X_train=df.iloc[:,14:]\n",
        "y_train=df['crystal_system']\n",
        "\n",
        "y_train"
      ],
      "metadata": {
        "colab": {
          "base_uri": "https://localhost:8080/"
        },
        "outputId": "9d5e19b7-f18b-4475-a4af-d3f82fd2f54a",
        "id": "vQ8q0F4HU3e1"
      },
      "execution_count": null,
      "outputs": [
        {
          "output_type": "execute_result",
          "data": {
            "text/plain": [
              "0      monoclinic\n",
              "1       triclinic\n",
              "2       triclinic\n",
              "3           cubic\n",
              "4       triclinic\n",
              "          ...    \n",
              "591     triclinic\n",
              "592    monoclinic\n",
              "593     triclinic\n",
              "594     triclinic\n",
              "595    monoclinic\n",
              "Name: crystal_system, Length: 596, dtype: object"
            ]
          },
          "metadata": {},
          "execution_count": 21
        }
      ]
    },
    {
      "cell_type": "code",
      "source": [
        "df=pd.read_csv('Xrd_testdataset.csv')\n",
        "X_test=df.iloc[:,14:]\n",
        "\n",
        "y_test=df['crystal_system']\n",
        "\n",
        "y_test"
      ],
      "metadata": {
        "colab": {
          "base_uri": "https://localhost:8080/"
        },
        "outputId": "cc7fd684-23b4-442b-e684-18eed9cfc9cc",
        "id": "MejmdjlXU-Dd"
      },
      "execution_count": null,
      "outputs": [
        {
          "output_type": "execute_result",
          "data": {
            "text/plain": [
              "0      monoclinic\n",
              "1       triclinic\n",
              "2       triclinic\n",
              "3       triclinic\n",
              "4      monoclinic\n",
              "          ...    \n",
              "144         cubic\n",
              "145     triclinic\n",
              "146    monoclinic\n",
              "147    monoclinic\n",
              "148    monoclinic\n",
              "Name: crystal_system, Length: 149, dtype: object"
            ]
          },
          "metadata": {},
          "execution_count": 22
        }
      ]
    },
    {
      "cell_type": "code",
      "source": [
        "from sklearn.preprocessing import StandardScaler\n",
        "\n",
        "# create a scaler object\n",
        "scaler = StandardScaler()\n",
        "\n",
        "# fit scaler on the training data\n",
        "scaler.fit(X_train)\n",
        "\n",
        "# apply the scaler to both the training and test data\n",
        "X_train_normalized = scaler.transform(X_train)\n",
        "\n",
        "X_test_normalized = scaler.transform(X_test)"
      ],
      "metadata": {
        "id": "xnOPphW-VLjF"
      },
      "execution_count": null,
      "outputs": []
    },
    {
      "cell_type": "code",
      "execution_count": null,
      "metadata": {
        "colab": {
          "base_uri": "https://localhost:8080/"
        },
        "id": "hKlmkZfZVg2T",
        "outputId": "a614731d-47e6-486f-bcfd-2baddc016e57"
      },
      "outputs": [
        {
          "output_type": "stream",
          "name": "stdout",
          "text": [
            "0.7399061624649862\n",
            "OrderedDict([('C', 4.640491757575544), ('gamma', 0.0024243356041544657), ('kernel', 'rbf')])\n"
          ]
        }
      ],
      "source": [
        "from sklearn.preprocessing import StandardScaler\n",
        "# create a scaler object\n",
        "scaler = StandardScaler()\n",
        "\n",
        "params = dict()\n",
        "params['C'] = (1e-6, 600.0, 'log-uniform')\n",
        "params['gamma'] = (1e-6, 100.0, 'log-uniform')\n",
        "params['kernel'] = ['rbf']\n",
        "# define evaluation\n",
        "cv = RepeatedKFold(n_splits=5, n_repeats=10, random_state=1)\n",
        "# define the search\n",
        "search = BayesSearchCV(estimator=svm.SVC(), search_spaces=params, n_jobs=-1, cv=cv)\n",
        "# perform the search\n",
        "search.fit(X_train_normalized, y_train)\n",
        "# report the best result\n",
        "print(search.best_score_)\n",
        "print(search.best_params_)"
      ]
    },
    {
      "cell_type": "markdown",
      "source": [
        "Bayes Search"
      ],
      "metadata": {
        "id": "Cp4KOh2EV_pk"
      }
    },
    {
      "cell_type": "code",
      "source": [
        "model = svm.SVC(C=  4.640491757575544,kernel='rbf',gamma= 0.0024243356041544657)\n",
        "from sklearn.model_selection import KFold, cross_val_score\n",
        "\n",
        "# Use 10-fold cross validation (90% training, 10% test)\n",
        "\n",
        "cv = RepeatedKFold(n_splits=5, n_repeats=10, random_state=1)\n",
        "# compute cross validation scores for random forest model\n",
        "scores = cross_val_score(model,X_train_normalized, y_train, scoring= 'accuracy',\n",
        "                         cv=cv, n_jobs=-1)\n",
        "mean_accuracy = scores.mean()\n",
        "print(\"Mean Accuracy: \", mean_accuracy)"
      ],
      "metadata": {
        "colab": {
          "base_uri": "https://localhost:8080/"
        },
        "id": "kt4knTopVyIk",
        "outputId": "d6170c07-8564-40f2-fb0a-c1b8e57963c7"
      },
      "execution_count": null,
      "outputs": [
        {
          "output_type": "stream",
          "name": "stdout",
          "text": [
            "Mean Accuracy:  0.7399061624649862\n"
          ]
        }
      ]
    },
    {
      "cell_type": "code",
      "source": [
        "model.fit(X_train_normalized, y_train)\n",
        "pred = model.predict(X_train_normalized)\n",
        "training_accuracy= accuracy_score(y_train,pred)\n",
        "print(\"Accuracy on Training data: \",training_accuracy)\n",
        "pred = model.predict(X_test_normalized)\n",
        "test_accuracy= accuracy_score(y_test,pred)\n",
        "print(\"Accuracy on Test data: \",test_accuracy)\n",
        "SCM_Bayes_crystal = model.predict(X_test)\n",
        "SCM_Bayes_crystal"
      ],
      "metadata": {
        "colab": {
          "base_uri": "https://localhost:8080/"
        },
        "outputId": "21f22c89-f023-4f6d-c450-6e0367b26473",
        "id": "UD1BLDOwV7VV"
      },
      "execution_count": null,
      "outputs": [
        {
          "output_type": "stream",
          "name": "stdout",
          "text": [
            "Accuracy on Training data:  0.9026845637583892\n",
            "Accuracy on Test data:  0.697986577181208\n"
          ]
        },
        {
          "output_type": "stream",
          "name": "stderr",
          "text": [
            "/usr/local/lib/python3.10/dist-packages/sklearn/base.py:432: UserWarning: X has feature names, but SVC was fitted without feature names\n",
            "  warnings.warn(\n"
          ]
        },
        {
          "output_type": "execute_result",
          "data": {
            "text/plain": [
              "array(['triclinic', 'triclinic', 'triclinic', 'triclinic', 'triclinic',\n",
              "       'triclinic', 'triclinic', 'triclinic', 'triclinic', 'triclinic',\n",
              "       'triclinic', 'triclinic', 'triclinic', 'triclinic', 'triclinic',\n",
              "       'triclinic', 'triclinic', 'triclinic', 'triclinic', 'triclinic',\n",
              "       'triclinic', 'triclinic', 'triclinic', 'triclinic', 'triclinic',\n",
              "       'triclinic', 'triclinic', 'triclinic', 'triclinic', 'triclinic',\n",
              "       'triclinic', 'triclinic', 'triclinic', 'triclinic', 'triclinic',\n",
              "       'triclinic', 'triclinic', 'triclinic', 'triclinic', 'triclinic',\n",
              "       'triclinic', 'triclinic', 'triclinic', 'triclinic', 'triclinic',\n",
              "       'triclinic', 'triclinic', 'triclinic', 'triclinic', 'triclinic',\n",
              "       'triclinic', 'triclinic', 'triclinic', 'triclinic', 'triclinic',\n",
              "       'triclinic', 'triclinic', 'triclinic', 'triclinic', 'triclinic',\n",
              "       'triclinic', 'triclinic', 'triclinic', 'triclinic', 'triclinic',\n",
              "       'triclinic', 'triclinic', 'triclinic', 'triclinic', 'triclinic',\n",
              "       'triclinic', 'triclinic', 'triclinic', 'triclinic', 'triclinic',\n",
              "       'triclinic', 'triclinic', 'triclinic', 'triclinic', 'triclinic',\n",
              "       'triclinic', 'triclinic', 'triclinic', 'triclinic', 'triclinic',\n",
              "       'triclinic', 'triclinic', 'triclinic', 'triclinic', 'triclinic',\n",
              "       'triclinic', 'triclinic', 'triclinic', 'triclinic', 'triclinic',\n",
              "       'triclinic', 'triclinic', 'triclinic', 'triclinic', 'triclinic',\n",
              "       'triclinic', 'triclinic', 'triclinic', 'triclinic', 'triclinic',\n",
              "       'triclinic', 'triclinic', 'triclinic', 'triclinic', 'triclinic',\n",
              "       'triclinic', 'triclinic', 'triclinic', 'triclinic', 'triclinic',\n",
              "       'triclinic', 'triclinic', 'triclinic', 'triclinic', 'triclinic',\n",
              "       'triclinic', 'triclinic', 'triclinic', 'triclinic', 'triclinic',\n",
              "       'triclinic', 'triclinic', 'triclinic', 'triclinic', 'triclinic',\n",
              "       'triclinic', 'triclinic', 'triclinic', 'triclinic', 'triclinic',\n",
              "       'triclinic', 'triclinic', 'triclinic', 'triclinic', 'triclinic',\n",
              "       'triclinic', 'triclinic', 'triclinic', 'triclinic', 'triclinic',\n",
              "       'triclinic', 'triclinic', 'triclinic', 'triclinic'], dtype=object)"
            ]
          },
          "metadata": {},
          "execution_count": 26
        }
      ]
    },
    {
      "cell_type": "markdown",
      "source": [],
      "metadata": {
        "id": "kPcy_QzRHU6c"
      }
    }
  ]
}