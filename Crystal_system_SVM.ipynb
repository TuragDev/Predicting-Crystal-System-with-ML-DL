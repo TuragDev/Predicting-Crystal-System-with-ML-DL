{
  "nbformat": 4,
  "nbformat_minor": 0,
  "metadata": {
    "colab": {
      "provenance": [],
      "authorship_tag": "ABX9TyMC0Y6syq66GFg3o58jmZha",
      "include_colab_link": true
    },
    "kernelspec": {
      "name": "python3",
      "display_name": "Python 3"
    },
    "language_info": {
      "name": "python"
    }
  },
  "cells": [
    {
      "cell_type": "markdown",
      "metadata": {
        "id": "view-in-github",
        "colab_type": "text"
      },
      "source": [
        "<a href=\"https://colab.research.google.com/github/TuragDev/ML-Python-Codes/blob/main/Crystal_system_SVM.ipynb\" target=\"_parent\"><img src=\"https://colab.research.google.com/assets/colab-badge.svg\" alt=\"Open In Colab\"/></a>"
      ]
    },
    {
      "cell_type": "code",
      "execution_count": null,
      "metadata": {
        "id": "pswgzCDsKWMa",
        "colab": {
          "base_uri": "https://localhost:8080/",
          "height": 142
        },
        "outputId": "fd0d511b-664b-404e-8124-dd5bca81b01a"
      },
      "outputs": [
        {
          "output_type": "display_data",
          "data": {
            "text/plain": [
              "<IPython.core.display.HTML object>"
            ],
            "text/html": [
              "\n",
              "     <input type=\"file\" id=\"files-57a6112d-c59f-49d7-94f2-b8b555501bed\" name=\"files[]\" multiple disabled\n",
              "        style=\"border:none\" />\n",
              "     <output id=\"result-57a6112d-c59f-49d7-94f2-b8b555501bed\">\n",
              "      Upload widget is only available when the cell has been executed in the\n",
              "      current browser session. Please rerun this cell to enable.\n",
              "      </output>\n",
              "      <script>// Copyright 2017 Google LLC\n",
              "//\n",
              "// Licensed under the Apache License, Version 2.0 (the \"License\");\n",
              "// you may not use this file except in compliance with the License.\n",
              "// You may obtain a copy of the License at\n",
              "//\n",
              "//      http://www.apache.org/licenses/LICENSE-2.0\n",
              "//\n",
              "// Unless required by applicable law or agreed to in writing, software\n",
              "// distributed under the License is distributed on an \"AS IS\" BASIS,\n",
              "// WITHOUT WARRANTIES OR CONDITIONS OF ANY KIND, either express or implied.\n",
              "// See the License for the specific language governing permissions and\n",
              "// limitations under the License.\n",
              "\n",
              "/**\n",
              " * @fileoverview Helpers for google.colab Python module.\n",
              " */\n",
              "(function(scope) {\n",
              "function span(text, styleAttributes = {}) {\n",
              "  const element = document.createElement('span');\n",
              "  element.textContent = text;\n",
              "  for (const key of Object.keys(styleAttributes)) {\n",
              "    element.style[key] = styleAttributes[key];\n",
              "  }\n",
              "  return element;\n",
              "}\n",
              "\n",
              "// Max number of bytes which will be uploaded at a time.\n",
              "const MAX_PAYLOAD_SIZE = 100 * 1024;\n",
              "\n",
              "function _uploadFiles(inputId, outputId) {\n",
              "  const steps = uploadFilesStep(inputId, outputId);\n",
              "  const outputElement = document.getElementById(outputId);\n",
              "  // Cache steps on the outputElement to make it available for the next call\n",
              "  // to uploadFilesContinue from Python.\n",
              "  outputElement.steps = steps;\n",
              "\n",
              "  return _uploadFilesContinue(outputId);\n",
              "}\n",
              "\n",
              "// This is roughly an async generator (not supported in the browser yet),\n",
              "// where there are multiple asynchronous steps and the Python side is going\n",
              "// to poll for completion of each step.\n",
              "// This uses a Promise to block the python side on completion of each step,\n",
              "// then passes the result of the previous step as the input to the next step.\n",
              "function _uploadFilesContinue(outputId) {\n",
              "  const outputElement = document.getElementById(outputId);\n",
              "  const steps = outputElement.steps;\n",
              "\n",
              "  const next = steps.next(outputElement.lastPromiseValue);\n",
              "  return Promise.resolve(next.value.promise).then((value) => {\n",
              "    // Cache the last promise value to make it available to the next\n",
              "    // step of the generator.\n",
              "    outputElement.lastPromiseValue = value;\n",
              "    return next.value.response;\n",
              "  });\n",
              "}\n",
              "\n",
              "/**\n",
              " * Generator function which is called between each async step of the upload\n",
              " * process.\n",
              " * @param {string} inputId Element ID of the input file picker element.\n",
              " * @param {string} outputId Element ID of the output display.\n",
              " * @return {!Iterable<!Object>} Iterable of next steps.\n",
              " */\n",
              "function* uploadFilesStep(inputId, outputId) {\n",
              "  const inputElement = document.getElementById(inputId);\n",
              "  inputElement.disabled = false;\n",
              "\n",
              "  const outputElement = document.getElementById(outputId);\n",
              "  outputElement.innerHTML = '';\n",
              "\n",
              "  const pickedPromise = new Promise((resolve) => {\n",
              "    inputElement.addEventListener('change', (e) => {\n",
              "      resolve(e.target.files);\n",
              "    });\n",
              "  });\n",
              "\n",
              "  const cancel = document.createElement('button');\n",
              "  inputElement.parentElement.appendChild(cancel);\n",
              "  cancel.textContent = 'Cancel upload';\n",
              "  const cancelPromise = new Promise((resolve) => {\n",
              "    cancel.onclick = () => {\n",
              "      resolve(null);\n",
              "    };\n",
              "  });\n",
              "\n",
              "  // Wait for the user to pick the files.\n",
              "  const files = yield {\n",
              "    promise: Promise.race([pickedPromise, cancelPromise]),\n",
              "    response: {\n",
              "      action: 'starting',\n",
              "    }\n",
              "  };\n",
              "\n",
              "  cancel.remove();\n",
              "\n",
              "  // Disable the input element since further picks are not allowed.\n",
              "  inputElement.disabled = true;\n",
              "\n",
              "  if (!files) {\n",
              "    return {\n",
              "      response: {\n",
              "        action: 'complete',\n",
              "      }\n",
              "    };\n",
              "  }\n",
              "\n",
              "  for (const file of files) {\n",
              "    const li = document.createElement('li');\n",
              "    li.append(span(file.name, {fontWeight: 'bold'}));\n",
              "    li.append(span(\n",
              "        `(${file.type || 'n/a'}) - ${file.size} bytes, ` +\n",
              "        `last modified: ${\n",
              "            file.lastModifiedDate ? file.lastModifiedDate.toLocaleDateString() :\n",
              "                                    'n/a'} - `));\n",
              "    const percent = span('0% done');\n",
              "    li.appendChild(percent);\n",
              "\n",
              "    outputElement.appendChild(li);\n",
              "\n",
              "    const fileDataPromise = new Promise((resolve) => {\n",
              "      const reader = new FileReader();\n",
              "      reader.onload = (e) => {\n",
              "        resolve(e.target.result);\n",
              "      };\n",
              "      reader.readAsArrayBuffer(file);\n",
              "    });\n",
              "    // Wait for the data to be ready.\n",
              "    let fileData = yield {\n",
              "      promise: fileDataPromise,\n",
              "      response: {\n",
              "        action: 'continue',\n",
              "      }\n",
              "    };\n",
              "\n",
              "    // Use a chunked sending to avoid message size limits. See b/62115660.\n",
              "    let position = 0;\n",
              "    do {\n",
              "      const length = Math.min(fileData.byteLength - position, MAX_PAYLOAD_SIZE);\n",
              "      const chunk = new Uint8Array(fileData, position, length);\n",
              "      position += length;\n",
              "\n",
              "      const base64 = btoa(String.fromCharCode.apply(null, chunk));\n",
              "      yield {\n",
              "        response: {\n",
              "          action: 'append',\n",
              "          file: file.name,\n",
              "          data: base64,\n",
              "        },\n",
              "      };\n",
              "\n",
              "      let percentDone = fileData.byteLength === 0 ?\n",
              "          100 :\n",
              "          Math.round((position / fileData.byteLength) * 100);\n",
              "      percent.textContent = `${percentDone}% done`;\n",
              "\n",
              "    } while (position < fileData.byteLength);\n",
              "  }\n",
              "\n",
              "  // All done.\n",
              "  yield {\n",
              "    response: {\n",
              "      action: 'complete',\n",
              "    }\n",
              "  };\n",
              "}\n",
              "\n",
              "scope.google = scope.google || {};\n",
              "scope.google.colab = scope.google.colab || {};\n",
              "scope.google.colab._files = {\n",
              "  _uploadFiles,\n",
              "  _uploadFilesContinue,\n",
              "};\n",
              "})(self);\n",
              "</script> "
            ]
          },
          "metadata": {}
        },
        {
          "output_type": "stream",
          "name": "stdout",
          "text": [
            "Saving Orbital_mp_dataset.csv to Orbital_mp_dataset (1).csv\n",
            "Saving Sine_mp_dataset.csv to Sine_mp_dataset (1).csv\n",
            "Saving Xrd_mp_dataset.csv to Xrd_mp_dataset (1).csv\n"
          ]
        }
      ],
      "source": [
        "from google.colab import files\n",
        "uploaded= files.upload()"
      ]
    },
    {
      "cell_type": "code",
      "execution_count": null,
      "metadata": {
        "id": "68261b12"
      },
      "outputs": [],
      "source": [
        "import joblib\n",
        "from sklearn.model_selection import train_test_split\n",
        "import numpy as np\n",
        "\n",
        "import pandas as pd\n",
        "\n",
        "from sklearn.model_selection import GridSearchCV, RepeatedKFold\n",
        "from sklearn.model_selection import train_test_split\n",
        "from sklearn.metrics import mean_squared_error as MSE\n",
        "from sklearn.preprocessing import StandardScaler\n",
        "from sklearn.metrics import mean_squared_error, r2_score\n",
        "\n",
        "from sklearn.model_selection import train_test_split\n",
        "\n",
        "import numpy as np\n",
        "\n",
        "import pickle\n",
        "import pandas as pd\n",
        "from sklearn.preprocessing import LabelEncoder\n",
        "\n",
        "import sys\n",
        "# In[3]:\n",
        "\n",
        "\n",
        "from sklearn import svm\n",
        "from sklearn.model_selection import GridSearchCV\n",
        "\n",
        "\n",
        "from numpy import mean\n",
        "from numpy import std\n",
        "from sklearn.datasets import make_classification\n",
        "from sklearn.model_selection import KFold\n",
        "from sklearn.model_selection import GridSearchCV\n",
        "from sklearn.ensemble import RandomForestClassifier\n",
        "from sklearn.metrics import accuracy_score\n",
        "import matplotlib.pyplot as plt\n",
        "from pandas import read_csv\n",
        "from sklearn.model_selection import cross_val_score\n",
        "from sklearn.svm import SVC\n",
        "from sklearn.model_selection import RepeatedStratifiedKFold\n",
        "from skopt import BayesSearchCV\n"
      ]
    },
    {
      "cell_type": "code",
      "source": [
        "!pip install scikit-optimize"
      ],
      "metadata": {
        "colab": {
          "base_uri": "https://localhost:8080/"
        },
        "id": "GdBqoU499GGX",
        "outputId": "0fda20de-5c4a-4601-c76a-819e688c423a"
      },
      "execution_count": null,
      "outputs": [
        {
          "output_type": "stream",
          "name": "stdout",
          "text": [
            "Requirement already satisfied: scikit-optimize in /usr/local/lib/python3.10/dist-packages (0.9.0)\n",
            "Requirement already satisfied: joblib>=0.11 in /usr/local/lib/python3.10/dist-packages (from scikit-optimize) (1.3.2)\n",
            "Requirement already satisfied: pyaml>=16.9 in /usr/local/lib/python3.10/dist-packages (from scikit-optimize) (23.7.0)\n",
            "Requirement already satisfied: numpy>=1.13.3 in /usr/local/lib/python3.10/dist-packages (from scikit-optimize) (1.23.5)\n",
            "Requirement already satisfied: scipy>=0.19.1 in /usr/local/lib/python3.10/dist-packages (from scikit-optimize) (1.10.1)\n",
            "Requirement already satisfied: scikit-learn>=0.20.0 in /usr/local/lib/python3.10/dist-packages (from scikit-optimize) (1.2.2)\n",
            "Requirement already satisfied: PyYAML in /usr/local/lib/python3.10/dist-packages (from pyaml>=16.9->scikit-optimize) (6.0.1)\n",
            "Requirement already satisfied: threadpoolctl>=2.0.0 in /usr/local/lib/python3.10/dist-packages (from scikit-learn>=0.20.0->scikit-optimize) (3.2.0)\n"
          ]
        }
      ]
    },
    {
      "cell_type": "code",
      "source": [
        "df= pd.read_csv('Xrd_mp_dataset.csv')\n",
        "df.shape"
      ],
      "metadata": {
        "colab": {
          "base_uri": "https://localhost:8080/"
        },
        "id": "8fAe7jNTVg9w",
        "outputId": "e9d28f61-5912-497c-dbc2-17aa13903e97"
      },
      "execution_count": null,
      "outputs": [
        {
          "output_type": "execute_result",
          "data": {
            "text/plain": [
              "(745, 142)"
            ]
          },
          "metadata": {},
          "execution_count": 31
        }
      ]
    },
    {
      "cell_type": "code",
      "source": [
        "X=df.iloc[:,14:]\n",
        "Y=df['crystal_system']"
      ],
      "metadata": {
        "id": "Ur5GfB4wfuN2"
      },
      "execution_count": null,
      "outputs": []
    },
    {
      "cell_type": "code",
      "source": [
        "from sklearn.preprocessing import StandardScaler\n",
        "\n",
        "# create a scaler object\n",
        "scaler = StandardScaler()\n",
        "\n",
        "# fit scaler on the training data\n",
        "scaler.fit(X)\n",
        "\n",
        "# apply the scaler to both the training and test data\n",
        "X_train_normalized = scaler.transform(X)"
      ],
      "metadata": {
        "id": "RUdr_5YSKLtf"
      },
      "execution_count": null,
      "outputs": []
    },
    {
      "cell_type": "code",
      "source": [
        "X_train, X_test, y_train, y_test = train_test_split(X_train_normalized,Y, test_size=0.2, random_state=108)\n",
        "X_test"
      ],
      "metadata": {
        "colab": {
          "base_uri": "https://localhost:8080/"
        },
        "id": "9niDch_pKfNE",
        "outputId": "4fae65cf-c004-42dd-eebd-8746cbeabf3f"
      },
      "execution_count": null,
      "outputs": [
        {
          "output_type": "execute_result",
          "data": {
            "text/plain": [
              "array([[-0.12231738, -0.14571307, -0.17262871, ...,  0.26541593,\n",
              "         0.92856957,  1.8189561 ],\n",
              "       [-0.12231738, -0.14571307, -0.17262871, ..., -0.03318145,\n",
              "        -0.21669191, -0.18628931],\n",
              "       [-0.12231738, -0.14571307, -0.17262871, ..., -0.19598917,\n",
              "        -0.03405088,  0.06440104],\n",
              "       ...,\n",
              "       [-0.12231738, -0.14571307, -0.17262871, ...,  0.14136408,\n",
              "         0.05084579, -0.10464634],\n",
              "       [-0.12231738, -0.14571307, -0.17262871, ..., -0.7065819 ,\n",
              "        -0.58572263, -0.41252187],\n",
              "       [-0.12231738, -0.14571307, -0.17262871, ...,  0.86698242,\n",
              "         0.80009504,  0.23749861]])"
            ]
          },
          "metadata": {},
          "execution_count": 35
        }
      ]
    },
    {
      "cell_type": "markdown",
      "source": [
        "Bayes Search CV\n"
      ],
      "metadata": {
        "id": "s7jFYT24DTwL"
      }
    },
    {
      "cell_type": "code",
      "execution_count": null,
      "metadata": {
        "colab": {
          "base_uri": "https://localhost:8080/"
        },
        "id": "ed2d35f4",
        "outputId": "459802e0-4062-44a0-af3a-3fb7107bfb93"
      },
      "outputs": [
        {
          "output_type": "stream",
          "name": "stdout",
          "text": [
            "0.7518403361344538\n",
            "OrderedDict([('C', 2.8207185839267797), ('gamma', 0.004398500344800694), ('kernel', 'rbf')])\n"
          ]
        }
      ],
      "source": [
        "from sklearn.preprocessing import StandardScaler\n",
        "# create a scaler object\n",
        "scaler = StandardScaler()\n",
        "\n",
        "params = dict()\n",
        "params['C'] = (1e-6, 600.0, 'log-uniform')\n",
        "params['gamma'] = (1e-6, 100.0, 'log-uniform')\n",
        "params['kernel'] = ['rbf']\n",
        "# define evaluation\n",
        "cv = RepeatedKFold(n_splits=5, n_repeats=10, random_state=1)\n",
        "# define the search\n",
        "search = BayesSearchCV(estimator=svm.SVC(), search_spaces=params, n_jobs=-1, cv=cv)\n",
        "# perform the search\n",
        "search.fit(X_train, y_train)\n",
        "# report the best result\n",
        "print(search.best_score_)\n",
        "print(search.best_params_)"
      ]
    },
    {
      "cell_type": "code",
      "source": [
        "model = svm.SVC(C= 22.8207185839267797,kernel='rbf',gamma=0.004398500344800694)\n",
        "from sklearn.model_selection import KFold, cross_val_score\n",
        "\n",
        "# Use 10-fold cross validation (90% training, 10% test)\n",
        "\n",
        "cv = RepeatedKFold(n_splits=5, n_repeats=10, random_state=1)\n",
        "# compute cross validation scores for random forest model\n",
        "scores = cross_val_score(model,X_train, y_train, scoring= 'accuracy',\n",
        "                         cv=cv, n_jobs=-1)\n",
        "mean_accuracy = scores.mean()\n",
        "print(\"Mean Accuracy: \", mean_accuracy)\n"
      ],
      "metadata": {
        "colab": {
          "base_uri": "https://localhost:8080/"
        },
        "id": "Llnrg_jjFqxL",
        "outputId": "7bd44871-4496-4885-dcc9-34e1cf3137dd"
      },
      "execution_count": null,
      "outputs": [
        {
          "output_type": "stream",
          "name": "stdout",
          "text": [
            "Mean Accuracy:  0.737093837535014\n"
          ]
        }
      ]
    },
    {
      "cell_type": "code",
      "source": [
        "model.fit(X_train, y_train)\n",
        "pred = model.predict(X_train)\n",
        "training_accuracy= accuracy_score(y_train,pred)\n",
        "print(\"Accuracy on Training data: \",training_accuracy)\n",
        "pred = model.predict(X_test)\n",
        "test_accuracy= accuracy_score(y_test,pred)\n",
        "print(\"Accuracy on Test data: \",test_accuracy)\n",
        "xrd_Bayes_crystal = model.predict(X_test)\n",
        "xrd_Bayes_crystal"
      ],
      "metadata": {
        "colab": {
          "base_uri": "https://localhost:8080/"
        },
        "id": "YzSWAW61Hb36",
        "outputId": "dbca7202-5e85-4a51-ec72-797a898a8948"
      },
      "execution_count": null,
      "outputs": [
        {
          "output_type": "stream",
          "name": "stdout",
          "text": [
            "Accuracy on Training data:  0.9932885906040269\n",
            "Accuracy on Test data:  0.6442953020134228\n"
          ]
        },
        {
          "output_type": "execute_result",
          "data": {
            "text/plain": [
              "array(['trigonal', 'triclinic', 'cubic', 'triclinic', 'triclinic',\n",
              "       'triclinic', 'triclinic', 'triclinic', 'triclinic', 'triclinic',\n",
              "       'cubic', 'monoclinic', 'triclinic', 'triclinic', 'triclinic',\n",
              "       'triclinic', 'cubic', 'triclinic', 'triclinic', 'triclinic',\n",
              "       'triclinic', 'triclinic', 'triclinic', 'monoclinic', 'triclinic',\n",
              "       'triclinic', 'triclinic', 'triclinic', 'monoclinic', 'monoclinic',\n",
              "       'cubic', 'triclinic', 'triclinic', 'monoclinic', 'triclinic',\n",
              "       'triclinic', 'triclinic', 'triclinic', 'monoclinic', 'triclinic',\n",
              "       'triclinic', 'monoclinic', 'triclinic', 'triclinic', 'triclinic',\n",
              "       'triclinic', 'triclinic', 'triclinic', 'cubic', 'triclinic',\n",
              "       'orthorhombic', 'triclinic', 'cubic', 'triclinic', 'cubic',\n",
              "       'triclinic', 'triclinic', 'triclinic', 'monoclinic',\n",
              "       'orthorhombic', 'monoclinic', 'triclinic', 'monoclinic', 'cubic',\n",
              "       'monoclinic', 'triclinic', 'monoclinic', 'monoclinic', 'triclinic',\n",
              "       'triclinic', 'monoclinic', 'monoclinic', 'triclinic', 'monoclinic',\n",
              "       'cubic', 'triclinic', 'monoclinic', 'triclinic', 'triclinic',\n",
              "       'monoclinic', 'monoclinic', 'cubic', 'triclinic', 'triclinic',\n",
              "       'triclinic', 'triclinic', 'monoclinic', 'orthorhombic',\n",
              "       'monoclinic', 'triclinic', 'triclinic', 'triclinic', 'triclinic',\n",
              "       'monoclinic', 'cubic', 'triclinic', 'triclinic', 'cubic',\n",
              "       'monoclinic', 'triclinic', 'triclinic', 'triclinic', 'triclinic',\n",
              "       'triclinic', 'monoclinic', 'triclinic', 'triclinic', 'triclinic',\n",
              "       'monoclinic', 'monoclinic', 'triclinic', 'triclinic', 'monoclinic',\n",
              "       'orthorhombic', 'triclinic', 'triclinic', 'monoclinic',\n",
              "       'monoclinic', 'monoclinic', 'triclinic', 'triclinic', 'monoclinic',\n",
              "       'monoclinic', 'monoclinic', 'monoclinic', 'monoclinic',\n",
              "       'triclinic', 'triclinic', 'triclinic', 'triclinic', 'triclinic',\n",
              "       'monoclinic', 'orthorhombic', 'triclinic', 'triclinic',\n",
              "       'triclinic', 'triclinic', 'triclinic', 'triclinic', 'cubic',\n",
              "       'triclinic', 'cubic', 'monoclinic', 'triclinic', 'cubic',\n",
              "       'triclinic', 'triclinic', 'monoclinic', 'cubic'], dtype=object)"
            ]
          },
          "metadata": {},
          "execution_count": 41
        }
      ]
    },
    {
      "cell_type": "markdown",
      "source": [
        "SCM descriptor"
      ],
      "metadata": {
        "id": "3Zs3jZOY9Xmw"
      }
    },
    {
      "cell_type": "code",
      "source": [
        "df= pd.read_csv('Sine_mp_dataset.csv')\n",
        "df.shape"
      ],
      "metadata": {
        "colab": {
          "base_uri": "https://localhost:8080/"
        },
        "id": "bjWKkRi09FSL",
        "outputId": "835ae3fb-ef58-4f91-9432-242d9f8668aa"
      },
      "execution_count": null,
      "outputs": [
        {
          "output_type": "execute_result",
          "data": {
            "text/plain": [
              "(745, 294)"
            ]
          },
          "metadata": {},
          "execution_count": 12
        }
      ]
    },
    {
      "cell_type": "code",
      "source": [
        "X=df.iloc[:,14:]\n",
        "Y=df['crystal_system']\n",
        "Y"
      ],
      "metadata": {
        "colab": {
          "base_uri": "https://localhost:8080/"
        },
        "id": "Ce6PBXprZxx2",
        "outputId": "c87f9145-500a-41ef-8a7d-1c5b9672c9b6"
      },
      "execution_count": null,
      "outputs": [
        {
          "output_type": "execute_result",
          "data": {
            "text/plain": [
              "0          trigonal\n",
              "1        tetragonal\n",
              "2             cubic\n",
              "3      orthorhombic\n",
              "4      orthorhombic\n",
              "           ...     \n",
              "740        trigonal\n",
              "741       hexagonal\n",
              "742        trigonal\n",
              "743           cubic\n",
              "744      monoclinic\n",
              "Name: crystal_system, Length: 745, dtype: object"
            ]
          },
          "metadata": {},
          "execution_count": 42
        }
      ]
    },
    {
      "cell_type": "code",
      "source": [
        "from sklearn.preprocessing import StandardScaler\n",
        "\n",
        "# create a scaler object\n",
        "scaler = StandardScaler()\n",
        "\n",
        "# fit scaler on the training data\n",
        "scaler.fit(X)\n",
        "\n",
        "# apply the scaler to both the training and test data\n",
        "X_train_normalized = scaler.transform(X)"
      ],
      "metadata": {
        "id": "u6At5zwxVof8"
      },
      "execution_count": 65,
      "outputs": []
    },
    {
      "cell_type": "code",
      "source": [
        "X_train, X_test, y_train, y_test = train_test_split(X,Y, test_size=0.2, random_state=108)"
      ],
      "metadata": {
        "id": "T69e6mUJb850"
      },
      "execution_count": 66,
      "outputs": []
    },
    {
      "cell_type": "markdown",
      "source": [
        "Bayes Search CV"
      ],
      "metadata": {
        "id": "f3hyt2r2DfI8"
      }
    },
    {
      "cell_type": "code",
      "execution_count": 67,
      "metadata": {
        "colab": {
          "base_uri": "https://localhost:8080/"
        },
        "outputId": "e64ebde6-3551-4b4e-d881-9160b4408b3d",
        "id": "YHO0xeS6WXuT"
      },
      "outputs": [
        {
          "output_type": "stream",
          "name": "stdout",
          "text": [
            "0.6734453781512606\n",
            "OrderedDict([('C', 38.66583639372268), ('gamma', 11.790646496087286), ('kernel', 'rbf')])\n"
          ]
        }
      ],
      "source": [
        "from sklearn.preprocessing import StandardScaler\n",
        "# create a scaler object\n",
        "scaler = StandardScaler()\n",
        "\n",
        "params = dict()\n",
        "params['C'] = (1e-6, 600.0, 'log-uniform')\n",
        "params['gamma'] = (1e-6, 100.0, 'log-uniform')\n",
        "params['kernel'] = ['rbf']\n",
        "# define evaluation\n",
        "cv = RepeatedKFold(n_splits=5, n_repeats=10, random_state=1)\n",
        "# define the search\n",
        "search = BayesSearchCV(estimator=svm.SVC(), search_spaces=params, n_jobs=-1, cv=cv)\n",
        "# perform the search\n",
        "search.fit(X_train, y_train)\n",
        "# report the best result\n",
        "print(search.best_score_)\n",
        "print(search.best_params_)"
      ]
    },
    {
      "cell_type": "code",
      "source": [
        "model = svm.SVC(C=38.66583639372268 ,kernel='rbf',gamma=11.790646496087286)\n",
        "from sklearn.model_selection import KFold, cross_val_score\n",
        "\n",
        "# Use 10-fold cross validation (90% training, 10% test)\n",
        "\n",
        "cv = RepeatedKFold(n_splits=5, n_repeats=10, random_state=1)\n",
        "# compute cross validation scores for random forest model\n",
        "scores = cross_val_score(model,X_train, y_train, scoring= 'accuracy',\n",
        "                         cv=cv, n_jobs=-1)\n",
        "mean_accuracy = scores.mean()\n",
        "print(\"Mean Accuracy: \", mean_accuracy)\n"
      ],
      "metadata": {
        "colab": {
          "base_uri": "https://localhost:8080/"
        },
        "outputId": "625d38e4-d3e1-42eb-f11b-3ca74e6c55f9",
        "id": "6iOM_0VBGEla"
      },
      "execution_count": 70,
      "outputs": [
        {
          "output_type": "stream",
          "name": "stdout",
          "text": [
            "Mean Accuracy:  0.6734453781512606\n"
          ]
        }
      ]
    },
    {
      "cell_type": "code",
      "source": [
        "model.fit(X_train, y_train)\n",
        "pred = model.predict(X_train)\n",
        "training_accuracy= accuracy_score(y_train,pred)\n",
        "print(\"Accuracy on Training data: \",training_accuracy)\n",
        "pred = model.predict(X_test)\n",
        "test_accuracy= accuracy_score(y_test,pred)\n",
        "print(\"Accuracy on Test data: \",test_accuracy)\n",
        "Sine_mp_Bayes_crystal = model.predict(X_test)\n",
        "Sine_mp_Bayes_crystal"
      ],
      "metadata": {
        "colab": {
          "base_uri": "https://localhost:8080/"
        },
        "outputId": "6ad8ba24-1e4e-419a-d11d-89ad31f3f8a9",
        "id": "Sw9EUdKMGcJP"
      },
      "execution_count": 71,
      "outputs": [
        {
          "output_type": "stream",
          "name": "stdout",
          "text": [
            "Accuracy on Training data:  0.7915966386554621\n",
            "Accuracy on Test data:  0.6778523489932886\n"
          ]
        },
        {
          "output_type": "execute_result",
          "data": {
            "text/plain": [
              "array(['trigonal', 'triclinic', 'monoclinic', 'triclinic', 'triclinic',\n",
              "       'triclinic', 'triclinic', 'monoclinic', 'monoclinic', 'triclinic',\n",
              "       'monoclinic', 'triclinic', 'triclinic', 'triclinic', 'triclinic',\n",
              "       'triclinic', 'triclinic', 'triclinic', 'monoclinic', 'triclinic',\n",
              "       'triclinic', 'triclinic', 'triclinic', 'triclinic', 'triclinic',\n",
              "       'triclinic', 'cubic', 'monoclinic', 'triclinic', 'monoclinic',\n",
              "       'triclinic', 'cubic', 'triclinic', 'monoclinic', 'monoclinic',\n",
              "       'triclinic', 'triclinic', 'triclinic', 'triclinic', 'triclinic',\n",
              "       'cubic', 'triclinic', 'triclinic', 'triclinic', 'triclinic',\n",
              "       'triclinic', 'triclinic', 'triclinic', 'cubic', 'triclinic',\n",
              "       'triclinic', 'triclinic', 'triclinic', 'triclinic', 'trigonal',\n",
              "       'triclinic', 'monoclinic', 'triclinic', 'triclinic', 'cubic',\n",
              "       'monoclinic', 'triclinic', 'triclinic', 'triclinic', 'monoclinic',\n",
              "       'triclinic', 'triclinic', 'triclinic', 'orthorhombic', 'triclinic',\n",
              "       'triclinic', 'monoclinic', 'triclinic', 'triclinic', 'triclinic',\n",
              "       'triclinic', 'triclinic', 'triclinic', 'triclinic', 'triclinic',\n",
              "       'monoclinic', 'cubic', 'triclinic', 'monoclinic', 'triclinic',\n",
              "       'monoclinic', 'triclinic', 'monoclinic', 'monoclinic',\n",
              "       'monoclinic', 'triclinic', 'triclinic', 'triclinic', 'triclinic',\n",
              "       'triclinic', 'monoclinic', 'triclinic', 'triclinic', 'triclinic',\n",
              "       'triclinic', 'triclinic', 'triclinic', 'orthorhombic',\n",
              "       'monoclinic', 'triclinic', 'triclinic', 'triclinic', 'triclinic',\n",
              "       'triclinic', 'monoclinic', 'triclinic', 'monoclinic', 'triclinic',\n",
              "       'triclinic', 'triclinic', 'monoclinic', 'hexagonal', 'triclinic',\n",
              "       'trigonal', 'triclinic', 'monoclinic', 'monoclinic', 'triclinic',\n",
              "       'triclinic', 'triclinic', 'triclinic', 'triclinic', 'triclinic',\n",
              "       'triclinic', 'triclinic', 'monoclinic', 'triclinic', 'triclinic',\n",
              "       'triclinic', 'monoclinic', 'orthorhombic', 'triclinic',\n",
              "       'triclinic', 'monoclinic', 'monoclinic', 'monoclinic', 'triclinic',\n",
              "       'triclinic', 'triclinic', 'triclinic', 'cubic', 'triclinic',\n",
              "       'cubic', 'monoclinic'], dtype=object)"
            ]
          },
          "metadata": {},
          "execution_count": 71
        }
      ]
    },
    {
      "cell_type": "markdown",
      "source": [
        "OFM Descriptor"
      ],
      "metadata": {
        "id": "zyw4zKdNHww-"
      }
    },
    {
      "cell_type": "code",
      "source": [
        "df= pd.read_csv('Orbital_mp_dataset.csv')\n",
        "df.shape"
      ],
      "metadata": {
        "colab": {
          "base_uri": "https://localhost:8080/"
        },
        "id": "2JKuZQuXH7h6",
        "outputId": "e6e4600a-8340-4439-87d8-ee46d9ab62c7"
      },
      "execution_count": null,
      "outputs": [
        {
          "output_type": "execute_result",
          "data": {
            "text/plain": [
              "(744, 1038)"
            ]
          },
          "metadata": {},
          "execution_count": 49
        }
      ]
    },
    {
      "cell_type": "code",
      "source": [
        "X=df.iloc[:,14:]\n",
        "Y=df['crystal_system']"
      ],
      "metadata": {
        "id": "FEjxwqIah653"
      },
      "execution_count": null,
      "outputs": []
    },
    {
      "cell_type": "code",
      "source": [
        "from sklearn.preprocessing import StandardScaler\n",
        "\n",
        "# create a scaler object\n",
        "scaler = StandardScaler()\n",
        "\n",
        "# fit scaler on the training data\n",
        "scaler.fit(X)\n",
        "\n",
        "# apply the scaler to both the training and test data\n",
        "X_train_normalized = scaler.transform(X)"
      ],
      "metadata": {
        "id": "dJ4zyMiTZP-b"
      },
      "execution_count": 59,
      "outputs": []
    },
    {
      "cell_type": "code",
      "source": [
        "X_train, X_test, y_train, y_test = train_test_split(X,Y, test_size=0.2, random_state=108)"
      ],
      "metadata": {
        "id": "MwI_klDDh5xF"
      },
      "execution_count": 60,
      "outputs": []
    },
    {
      "cell_type": "markdown",
      "source": [
        "Bayes Search CV"
      ],
      "metadata": {
        "id": "iOSWK6ryM5YP"
      }
    },
    {
      "cell_type": "code",
      "execution_count": 61,
      "metadata": {
        "colab": {
          "base_uri": "https://localhost:8080/"
        },
        "outputId": "9df443ae-920f-43b2-95de-87cae1305a58",
        "id": "kIQjHvQTZ0lK"
      },
      "outputs": [
        {
          "output_type": "stream",
          "name": "stdout",
          "text": [
            "0.6727731092436976\n",
            "OrderedDict([('C', 61.64207751260311), ('gamma', 8.936547193654794), ('kernel', 'rbf')])\n"
          ]
        }
      ],
      "source": [
        "from sklearn.preprocessing import StandardScaler\n",
        "# create a scaler object\n",
        "scaler = StandardScaler()\n",
        "\n",
        "params = dict()\n",
        "params['C'] = (1e-6, 600.0, 'log-uniform')\n",
        "params['gamma'] = (1e-6, 100.0, 'log-uniform')\n",
        "params['kernel'] = ['rbf']\n",
        "# define evaluation\n",
        "cv = RepeatedKFold(n_splits=5, n_repeats=10, random_state=1)\n",
        "# define the search\n",
        "search = BayesSearchCV(estimator=svm.SVC(), search_spaces=params, n_jobs=-1, cv=cv)\n",
        "# perform the search\n",
        "search.fit(X_train, y_train)\n",
        "# report the best result\n",
        "print(search.best_score_)\n",
        "print(search.best_params_)"
      ]
    },
    {
      "cell_type": "code",
      "source": [
        "model = svm.SVC(C= 61.6420775126031134,kernel='rbf',gamma= 8.936547193654794)\n",
        "from sklearn.model_selection import KFold, cross_val_score\n",
        "\n",
        "# Use 10-fold cross validation (90% training, 10% test)\n",
        "\n",
        "cv = RepeatedKFold(n_splits=5, n_repeats=10, random_state=1)\n",
        "# compute cross validation scores for random forest model\n",
        "scores = cross_val_score(model,X_train, y_train, scoring= 'accuracy',\n",
        "                         cv=cv, n_jobs=-1)\n",
        "mean_accuracy = scores.mean()\n",
        "print(\"Mean Accuracy: \", mean_accuracy)\n"
      ],
      "metadata": {
        "colab": {
          "base_uri": "https://localhost:8080/"
        },
        "outputId": "ccc61127-9d0f-421e-b4fa-ce735d8bfe23",
        "id": "L-LnAm1UPVzx"
      },
      "execution_count": 62,
      "outputs": [
        {
          "output_type": "stream",
          "name": "stdout",
          "text": [
            "Mean Accuracy:  0.6727731092436976\n"
          ]
        }
      ]
    },
    {
      "cell_type": "code",
      "source": [
        "model.fit(X_train, y_train)\n",
        "pred = model.predict(X_train)\n",
        "training_accuracy= accuracy_score(y_train,pred)\n",
        "print(\"Accuracy on Training data: \",training_accuracy)\n",
        "pred = model.predict(X_test)\n",
        "test_accuracy= accuracy_score(y_test,pred)\n",
        "print(\"Accuracy on Test data: \",test_accuracy)\n",
        "OFM_Bayes_crystal = model.predict(X_test)\n",
        "OFM_Bayes_crystal"
      ],
      "metadata": {
        "colab": {
          "base_uri": "https://localhost:8080/"
        },
        "id": "caEWr6M3Pbj6",
        "outputId": "084295a2-18bd-43e9-de96-6d55321b1efc"
      },
      "execution_count": 64,
      "outputs": [
        {
          "output_type": "stream",
          "name": "stdout",
          "text": [
            "Accuracy on Training data:  0.788235294117647\n",
            "Accuracy on Test data:  0.6644295302013423\n"
          ]
        },
        {
          "output_type": "execute_result",
          "data": {
            "text/plain": [
              "array(['trigonal', 'triclinic', 'monoclinic', 'triclinic', 'triclinic',\n",
              "       'triclinic', 'triclinic', 'monoclinic', 'monoclinic', 'triclinic',\n",
              "       'monoclinic', 'triclinic', 'triclinic', 'triclinic', 'triclinic',\n",
              "       'triclinic', 'triclinic', 'triclinic', 'monoclinic', 'triclinic',\n",
              "       'triclinic', 'triclinic', 'triclinic', 'triclinic', 'triclinic',\n",
              "       'triclinic', 'cubic', 'monoclinic', 'triclinic', 'monoclinic',\n",
              "       'triclinic', 'cubic', 'triclinic', 'monoclinic', 'monoclinic',\n",
              "       'triclinic', 'triclinic', 'triclinic', 'triclinic', 'triclinic',\n",
              "       'cubic', 'triclinic', 'triclinic', 'triclinic', 'triclinic',\n",
              "       'triclinic', 'triclinic', 'triclinic', 'cubic', 'monoclinic',\n",
              "       'triclinic', 'triclinic', 'triclinic', 'triclinic', 'monoclinic',\n",
              "       'triclinic', 'monoclinic', 'triclinic', 'triclinic', 'cubic',\n",
              "       'monoclinic', 'triclinic', 'triclinic', 'triclinic', 'monoclinic',\n",
              "       'triclinic', 'triclinic', 'triclinic', 'orthorhombic', 'triclinic',\n",
              "       'triclinic', 'monoclinic', 'triclinic', 'triclinic',\n",
              "       'orthorhombic', 'triclinic', 'triclinic', 'triclinic', 'triclinic',\n",
              "       'triclinic', 'monoclinic', 'cubic', 'triclinic', 'monoclinic',\n",
              "       'triclinic', 'monoclinic', 'triclinic', 'monoclinic', 'monoclinic',\n",
              "       'monoclinic', 'triclinic', 'triclinic', 'triclinic', 'triclinic',\n",
              "       'triclinic', 'monoclinic', 'triclinic', 'triclinic', 'triclinic',\n",
              "       'triclinic', 'triclinic', 'triclinic', 'orthorhombic',\n",
              "       'monoclinic', 'triclinic', 'triclinic', 'triclinic', 'triclinic',\n",
              "       'triclinic', 'monoclinic', 'triclinic', 'monoclinic', 'triclinic',\n",
              "       'triclinic', 'triclinic', 'monoclinic', 'hexagonal', 'triclinic',\n",
              "       'trigonal', 'triclinic', 'monoclinic', 'monoclinic', 'triclinic',\n",
              "       'triclinic', 'triclinic', 'triclinic', 'triclinic', 'triclinic',\n",
              "       'triclinic', 'triclinic', 'monoclinic', 'triclinic', 'triclinic',\n",
              "       'triclinic', 'monoclinic', 'orthorhombic', 'triclinic',\n",
              "       'triclinic', 'monoclinic', 'monoclinic', 'monoclinic', 'triclinic',\n",
              "       'triclinic', 'triclinic', 'triclinic', 'cubic', 'triclinic',\n",
              "       'cubic', 'monoclinic'], dtype=object)"
            ]
          },
          "metadata": {},
          "execution_count": 64
        }
      ]
    },
    {
      "cell_type": "markdown",
      "source": [],
      "metadata": {
        "id": "kPcy_QzRHU6c"
      }
    }
  ]
}