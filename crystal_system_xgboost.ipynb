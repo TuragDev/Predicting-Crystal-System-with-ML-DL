{
  "cells": [
    {
      "cell_type": "markdown",
      "metadata": {
        "id": "view-in-github",
        "colab_type": "text"
      },
      "source": [
        "<a href=\"https://colab.research.google.com/github/TuragDev/Predicting-Crystal-System-with-ML-DL/blob/main/crystal_system_xgboost.ipynb\" target=\"_parent\"><img src=\"https://colab.research.google.com/assets/colab-badge.svg\" alt=\"Open In Colab\"/></a>"
      ]
    },
    {
      "cell_type": "code",
      "execution_count": null,
      "metadata": {
        "colab": {
          "base_uri": "https://localhost:8080/"
        },
        "id": "WN9hQyOkNNaR",
        "outputId": "ce8f96df-e2ee-4c89-d578-f4a6532e927e"
      },
      "outputs": [
        {
          "output_type": "stream",
          "name": "stdout",
          "text": [
            "Collecting scikit-optimize\n",
            "  Downloading scikit_optimize-0.9.0-py2.py3-none-any.whl (100 kB)\n",
            "\u001b[?25l     \u001b[90m━━━━━━━━━━━━━━━━━━━━━━━━━━━━━━━━━━━━━━━━\u001b[0m \u001b[32m0.0/100.3 kB\u001b[0m \u001b[31m?\u001b[0m eta \u001b[36m-:--:--\u001b[0m\r\u001b[2K     \u001b[91m━━━━━━━━━━━━━━━━━━━━━━━━━━━━━━━━━━━━\u001b[0m\u001b[91m╸\u001b[0m\u001b[90m━━━\u001b[0m \u001b[32m92.2/100.3 kB\u001b[0m \u001b[31m3.1 MB/s\u001b[0m eta \u001b[36m0:00:01\u001b[0m\r\u001b[2K     \u001b[90m━━━━━━━━━━━━━━━━━━━━━━━━━━━━━━━━━━━━━━━\u001b[0m \u001b[32m100.3/100.3 kB\u001b[0m \u001b[31m2.6 MB/s\u001b[0m eta \u001b[36m0:00:00\u001b[0m\n",
            "\u001b[?25hRequirement already satisfied: joblib>=0.11 in /usr/local/lib/python3.10/dist-packages (from scikit-optimize) (1.3.2)\n",
            "Collecting pyaml>=16.9 (from scikit-optimize)\n",
            "  Downloading pyaml-23.9.6-py3-none-any.whl (22 kB)\n",
            "Requirement already satisfied: numpy>=1.13.3 in /usr/local/lib/python3.10/dist-packages (from scikit-optimize) (1.23.5)\n",
            "Requirement already satisfied: scipy>=0.19.1 in /usr/local/lib/python3.10/dist-packages (from scikit-optimize) (1.11.2)\n",
            "Requirement already satisfied: scikit-learn>=0.20.0 in /usr/local/lib/python3.10/dist-packages (from scikit-optimize) (1.2.2)\n",
            "Requirement already satisfied: PyYAML in /usr/local/lib/python3.10/dist-packages (from pyaml>=16.9->scikit-optimize) (6.0.1)\n",
            "Requirement already satisfied: threadpoolctl>=2.0.0 in /usr/local/lib/python3.10/dist-packages (from scikit-learn>=0.20.0->scikit-optimize) (3.2.0)\n",
            "Installing collected packages: pyaml, scikit-optimize\n",
            "Successfully installed pyaml-23.9.6 scikit-optimize-0.9.0\n"
          ]
        }
      ],
      "source": [
        "!pip install scikit-optimize"
      ]
    },
    {
      "cell_type": "code",
      "execution_count": null,
      "metadata": {
        "colab": {
          "base_uri": "https://localhost:8080/"
        },
        "id": "MXChfFI1GilV",
        "outputId": "5c118cc2-02b0-4dde-ed2a-b284c16b403d"
      },
      "outputs": [
        {
          "output_type": "stream",
          "name": "stdout",
          "text": [
            "Requirement already satisfied: xgboost in /usr/local/lib/python3.10/dist-packages (1.7.6)\n",
            "Requirement already satisfied: numpy in /usr/local/lib/python3.10/dist-packages (from xgboost) (1.23.5)\n",
            "Requirement already satisfied: scipy in /usr/local/lib/python3.10/dist-packages (from xgboost) (1.11.2)\n"
          ]
        }
      ],
      "source": [
        "!pip install xgboost"
      ]
    },
    {
      "cell_type": "code",
      "execution_count": null,
      "metadata": {
        "colab": {
          "base_uri": "https://localhost:8080/",
          "height": 323
        },
        "id": "6sqqCzpNSp1W",
        "outputId": "3e7eaece-9aa6-4261-d1af-ac9be584aaee"
      },
      "outputs": [
        {
          "output_type": "display_data",
          "data": {
            "text/plain": [
              "<IPython.core.display.HTML object>"
            ],
            "text/html": [
              "\n",
              "     <input type=\"file\" id=\"files-e5daea6e-3356-428f-8dba-f033df5877dc\" name=\"files[]\" multiple disabled\n",
              "        style=\"border:none\" />\n",
              "     <output id=\"result-e5daea6e-3356-428f-8dba-f033df5877dc\">\n",
              "      Upload widget is only available when the cell has been executed in the\n",
              "      current browser session. Please rerun this cell to enable.\n",
              "      </output>\n",
              "      <script>// Copyright 2017 Google LLC\n",
              "//\n",
              "// Licensed under the Apache License, Version 2.0 (the \"License\");\n",
              "// you may not use this file except in compliance with the License.\n",
              "// You may obtain a copy of the License at\n",
              "//\n",
              "//      http://www.apache.org/licenses/LICENSE-2.0\n",
              "//\n",
              "// Unless required by applicable law or agreed to in writing, software\n",
              "// distributed under the License is distributed on an \"AS IS\" BASIS,\n",
              "// WITHOUT WARRANTIES OR CONDITIONS OF ANY KIND, either express or implied.\n",
              "// See the License for the specific language governing permissions and\n",
              "// limitations under the License.\n",
              "\n",
              "/**\n",
              " * @fileoverview Helpers for google.colab Python module.\n",
              " */\n",
              "(function(scope) {\n",
              "function span(text, styleAttributes = {}) {\n",
              "  const element = document.createElement('span');\n",
              "  element.textContent = text;\n",
              "  for (const key of Object.keys(styleAttributes)) {\n",
              "    element.style[key] = styleAttributes[key];\n",
              "  }\n",
              "  return element;\n",
              "}\n",
              "\n",
              "// Max number of bytes which will be uploaded at a time.\n",
              "const MAX_PAYLOAD_SIZE = 100 * 1024;\n",
              "\n",
              "function _uploadFiles(inputId, outputId) {\n",
              "  const steps = uploadFilesStep(inputId, outputId);\n",
              "  const outputElement = document.getElementById(outputId);\n",
              "  // Cache steps on the outputElement to make it available for the next call\n",
              "  // to uploadFilesContinue from Python.\n",
              "  outputElement.steps = steps;\n",
              "\n",
              "  return _uploadFilesContinue(outputId);\n",
              "}\n",
              "\n",
              "// This is roughly an async generator (not supported in the browser yet),\n",
              "// where there are multiple asynchronous steps and the Python side is going\n",
              "// to poll for completion of each step.\n",
              "// This uses a Promise to block the python side on completion of each step,\n",
              "// then passes the result of the previous step as the input to the next step.\n",
              "function _uploadFilesContinue(outputId) {\n",
              "  const outputElement = document.getElementById(outputId);\n",
              "  const steps = outputElement.steps;\n",
              "\n",
              "  const next = steps.next(outputElement.lastPromiseValue);\n",
              "  return Promise.resolve(next.value.promise).then((value) => {\n",
              "    // Cache the last promise value to make it available to the next\n",
              "    // step of the generator.\n",
              "    outputElement.lastPromiseValue = value;\n",
              "    return next.value.response;\n",
              "  });\n",
              "}\n",
              "\n",
              "/**\n",
              " * Generator function which is called between each async step of the upload\n",
              " * process.\n",
              " * @param {string} inputId Element ID of the input file picker element.\n",
              " * @param {string} outputId Element ID of the output display.\n",
              " * @return {!Iterable<!Object>} Iterable of next steps.\n",
              " */\n",
              "function* uploadFilesStep(inputId, outputId) {\n",
              "  const inputElement = document.getElementById(inputId);\n",
              "  inputElement.disabled = false;\n",
              "\n",
              "  const outputElement = document.getElementById(outputId);\n",
              "  outputElement.innerHTML = '';\n",
              "\n",
              "  const pickedPromise = new Promise((resolve) => {\n",
              "    inputElement.addEventListener('change', (e) => {\n",
              "      resolve(e.target.files);\n",
              "    });\n",
              "  });\n",
              "\n",
              "  const cancel = document.createElement('button');\n",
              "  inputElement.parentElement.appendChild(cancel);\n",
              "  cancel.textContent = 'Cancel upload';\n",
              "  const cancelPromise = new Promise((resolve) => {\n",
              "    cancel.onclick = () => {\n",
              "      resolve(null);\n",
              "    };\n",
              "  });\n",
              "\n",
              "  // Wait for the user to pick the files.\n",
              "  const files = yield {\n",
              "    promise: Promise.race([pickedPromise, cancelPromise]),\n",
              "    response: {\n",
              "      action: 'starting',\n",
              "    }\n",
              "  };\n",
              "\n",
              "  cancel.remove();\n",
              "\n",
              "  // Disable the input element since further picks are not allowed.\n",
              "  inputElement.disabled = true;\n",
              "\n",
              "  if (!files) {\n",
              "    return {\n",
              "      response: {\n",
              "        action: 'complete',\n",
              "      }\n",
              "    };\n",
              "  }\n",
              "\n",
              "  for (const file of files) {\n",
              "    const li = document.createElement('li');\n",
              "    li.append(span(file.name, {fontWeight: 'bold'}));\n",
              "    li.append(span(\n",
              "        `(${file.type || 'n/a'}) - ${file.size} bytes, ` +\n",
              "        `last modified: ${\n",
              "            file.lastModifiedDate ? file.lastModifiedDate.toLocaleDateString() :\n",
              "                                    'n/a'} - `));\n",
              "    const percent = span('0% done');\n",
              "    li.appendChild(percent);\n",
              "\n",
              "    outputElement.appendChild(li);\n",
              "\n",
              "    const fileDataPromise = new Promise((resolve) => {\n",
              "      const reader = new FileReader();\n",
              "      reader.onload = (e) => {\n",
              "        resolve(e.target.result);\n",
              "      };\n",
              "      reader.readAsArrayBuffer(file);\n",
              "    });\n",
              "    // Wait for the data to be ready.\n",
              "    let fileData = yield {\n",
              "      promise: fileDataPromise,\n",
              "      response: {\n",
              "        action: 'continue',\n",
              "      }\n",
              "    };\n",
              "\n",
              "    // Use a chunked sending to avoid message size limits. See b/62115660.\n",
              "    let position = 0;\n",
              "    do {\n",
              "      const length = Math.min(fileData.byteLength - position, MAX_PAYLOAD_SIZE);\n",
              "      const chunk = new Uint8Array(fileData, position, length);\n",
              "      position += length;\n",
              "\n",
              "      const base64 = btoa(String.fromCharCode.apply(null, chunk));\n",
              "      yield {\n",
              "        response: {\n",
              "          action: 'append',\n",
              "          file: file.name,\n",
              "          data: base64,\n",
              "        },\n",
              "      };\n",
              "\n",
              "      let percentDone = fileData.byteLength === 0 ?\n",
              "          100 :\n",
              "          Math.round((position / fileData.byteLength) * 100);\n",
              "      percent.textContent = `${percentDone}% done`;\n",
              "\n",
              "    } while (position < fileData.byteLength);\n",
              "  }\n",
              "\n",
              "  // All done.\n",
              "  yield {\n",
              "    response: {\n",
              "      action: 'complete',\n",
              "    }\n",
              "  };\n",
              "}\n",
              "\n",
              "scope.google = scope.google || {};\n",
              "scope.google.colab = scope.google.colab || {};\n",
              "scope.google.colab._files = {\n",
              "  _uploadFiles,\n",
              "  _uploadFilesContinue,\n",
              "};\n",
              "})(self);\n",
              "</script> "
            ]
          },
          "metadata": {}
        },
        {
          "output_type": "stream",
          "name": "stdout",
          "text": [
            "Saving magpie_testdataset.csv to magpie_testdataset.csv\n",
            "Saving magpie_traindataset.csv to magpie_traindataset.csv\n",
            "Saving Orbital_testdataset.csv to Orbital_testdataset.csv\n",
            "Saving Orbital_traindataset.csv to Orbital_traindataset.csv\n",
            "Saving Sine_testdataset.csv to Sine_testdataset.csv\n",
            "Saving Sine_traindataset.csv to Sine_traindataset.csv\n",
            "Saving Xrd_testdataset.csv to Xrd_testdataset.csv\n",
            "Saving Xrd_traindataset.csv to Xrd_traindataset.csv\n"
          ]
        }
      ],
      "source": [
        "from google.colab import files\n",
        "uploaded= files.upload()"
      ]
    },
    {
      "cell_type": "code",
      "execution_count": null,
      "metadata": {
        "id": "vHuFHFb0TPDt"
      },
      "outputs": [],
      "source": [
        "import joblib\n",
        "from sklearn.model_selection import train_test_split\n",
        "import numpy as np\n",
        "\n",
        "import pandas as pd\n",
        "\n",
        "from sklearn.model_selection import GridSearchCV, RepeatedKFold\n",
        "from sklearn.model_selection import train_test_split\n",
        "from sklearn.metrics import mean_squared_error as MSE\n",
        "from sklearn.preprocessing import StandardScaler\n",
        "from sklearn.metrics import mean_squared_error, r2_score\n",
        "\n",
        "from sklearn.model_selection import train_test_split\n",
        "\n",
        "import numpy as np\n",
        "\n",
        "import pickle\n",
        "import pandas as pd\n",
        "from sklearn.preprocessing import LabelEncoder\n",
        "\n",
        "import sys\n",
        "# In[3]:\n",
        "\n",
        "\n",
        "from sklearn import svm\n",
        "from sklearn.model_selection import GridSearchCV\n",
        "from sklearn.model_selection import RandomizedSearchCV\n",
        "from numpy import mean\n",
        "from numpy import std\n",
        "from sklearn.datasets import make_classification\n",
        "from sklearn.model_selection import KFold\n",
        "from sklearn.model_selection import GridSearchCV\n",
        "from sklearn.ensemble import RandomForestClassifier\n",
        "from sklearn.tree import DecisionTreeClassifier\n",
        "from xgboost import XGBClassifier\n",
        "from sklearn.metrics import accuracy_score\n",
        "import matplotlib.pyplot as plt\n",
        "from pandas import read_csv\n",
        "from sklearn.model_selection import cross_val_score\n",
        "from sklearn.svm import SVC\n",
        "from sklearn.model_selection import RepeatedStratifiedKFold\n",
        "from skopt import BayesSearchCV\n"
      ]
    },
    {
      "cell_type": "markdown",
      "source": [
        "Magpie Descriptor"
      ],
      "metadata": {
        "id": "lN8VVbFoMJZT"
      }
    },
    {
      "cell_type": "code",
      "source": [
        "df= pd.read_csv('magpie_traindataset.csv')\n",
        "df.shape"
      ],
      "metadata": {
        "colab": {
          "base_uri": "https://localhost:8080/"
        },
        "id": "8fAe7jNTVg9w",
        "outputId": "4ceec5fa-822f-4317-9d97-351c3b4edc06"
      },
      "execution_count": null,
      "outputs": [
        {
          "output_type": "execute_result",
          "data": {
            "text/plain": [
              "(584, 134)"
            ]
          },
          "metadata": {},
          "execution_count": 16
        }
      ]
    },
    {
      "cell_type": "code",
      "source": [
        "X_train=df.iloc[:,1:132]\n",
        "y_train=df['crystal_system']\n",
        "\n",
        "y_train"
      ],
      "metadata": {
        "id": "Ur5GfB4wfuN2",
        "colab": {
          "base_uri": "https://localhost:8080/"
        },
        "outputId": "c4e29015-d6b9-40e9-e2df-926eb79ba3dd"
      },
      "execution_count": null,
      "outputs": [
        {
          "output_type": "execute_result",
          "data": {
            "text/plain": [
              "0         triclinic\n",
              "1         triclinic\n",
              "2      orthorhombic\n",
              "3         triclinic\n",
              "4         triclinic\n",
              "           ...     \n",
              "579       triclinic\n",
              "580      monoclinic\n",
              "581       triclinic\n",
              "582       triclinic\n",
              "583      monoclinic\n",
              "Name: crystal_system, Length: 584, dtype: object"
            ]
          },
          "metadata": {},
          "execution_count": 17
        }
      ]
    },
    {
      "cell_type": "code",
      "source": [
        "df=pd.read_csv('magpie_testdataset.csv')\n",
        "X_test=df.iloc[:,1:132]\n",
        "\n",
        "y_test=df['crystal_system']\n",
        "\n",
        "y_test"
      ],
      "metadata": {
        "colab": {
          "base_uri": "https://localhost:8080/"
        },
        "id": "RYhbUiHPPUKB",
        "outputId": "1aae67fb-fd5b-45b7-88f6-64db80805fc8"
      },
      "execution_count": null,
      "outputs": [
        {
          "output_type": "execute_result",
          "data": {
            "text/plain": [
              "0         triclinic\n",
              "1         triclinic\n",
              "2      orthorhombic\n",
              "3         triclinic\n",
              "4         triclinic\n",
              "           ...     \n",
              "141      monoclinic\n",
              "142       triclinic\n",
              "143       triclinic\n",
              "144      monoclinic\n",
              "145       triclinic\n",
              "Name: crystal_system, Length: 146, dtype: object"
            ]
          },
          "metadata": {},
          "execution_count": 18
        }
      ]
    },
    {
      "cell_type": "code",
      "source": [
        "from sklearn.preprocessing import StandardScaler\n",
        "\n",
        "# create a scaler object\n",
        "scaler = StandardScaler()\n",
        "\n",
        "# fit scaler on the training data\n",
        "scaler.fit(X_train)\n",
        "\n",
        "# apply the scaler to both the training and test data\n",
        "X_train_normalized = scaler.transform(X_train)\n",
        "\n",
        "X_test_normalized = scaler.transform(X_test)"
      ],
      "metadata": {
        "id": "RUdr_5YSKLtf"
      },
      "execution_count": null,
      "outputs": []
    },
    {
      "cell_type": "code",
      "execution_count": null,
      "metadata": {
        "id": "Ojtd5uYggW8F"
      },
      "outputs": [],
      "source": [
        "label_encoder = LabelEncoder()\n",
        "\n",
        "# Fit and transform label encoder on target values\n",
        "y_train_encoded = label_encoder.fit_transform(y_train)\n",
        "y_test_encoded = label_encoder.fit_transform(y_test)"
      ]
    },
    {
      "cell_type": "code",
      "source": [
        "import xgboost\n",
        "from hyperopt import fmin, tpe, hp\n",
        "from xgboost import XGBClassifier\n",
        "from sklearn.model_selection import KFold, cross_val_score\n",
        "param_space = {\n",
        "    'max_depth': hp.quniform('max_depth', 3, 10, 1),\n",
        "    'gamma': hp.uniform('gamma', 0, 5),\n",
        "    'reg_alpha': hp.uniform('reg_alpha', 0, 5),\n",
        "    'reg_lambda': hp.uniform('reg_lambda', 0, 5),\n",
        "    'learning_rate': hp.loguniform('learning_rate', 0.01, 3),\n",
        "    'n_estimators': hp.quniform('n_estimators', 10, 500, 1),\n",
        "    'colsample_bytree': hp.uniform('colsample_bytree', 0.6, 1.0),\n",
        "    'subsample': hp.uniform('subsample', 0.6, 1.0),\n",
        "    'min_child_weight': hp.quniform('min_child_weight', 1, 10, 1)\n",
        "}"
      ],
      "metadata": {
        "id": "7mUbG2KmiErW"
      },
      "execution_count": null,
      "outputs": []
    },
    {
      "cell_type": "code",
      "source": [
        "def objective(params):\n",
        "    model = XGBClassifier(\n",
        "        max_depth=int(params['max_depth']),\n",
        "        gamma=params['gamma'],\n",
        "        reg_alpha=params['reg_alpha'],\n",
        "        reg_lambda=params['reg_lambda'],\n",
        "        learning_rate=params['learning_rate'],\n",
        "        n_estimators=int(params['n_estimators']),\n",
        "        min_child_weight=int(params['min_child_weight'])\n",
        "    )\n",
        "    model.fit(X_train_normalized, y_train_encoded)\n",
        "    y_pred = model.predict(X_test_normalized)\n",
        "    accuracy = accuracy_score(y_test_encoded, y_pred)\n",
        "    return -accuracy  # Minimize negative accuracy\n"
      ],
      "metadata": {
        "id": "5A134yB-iIuZ"
      },
      "execution_count": null,
      "outputs": []
    },
    {
      "cell_type": "code",
      "source": [
        "best = fmin(\n",
        "    fn=objective,\n",
        "    space=param_space,\n",
        "    algo=tpe.suggest,\n",
        "    max_evals=50  # Number of optimization iterations\n",
        ")"
      ],
      "metadata": {
        "colab": {
          "base_uri": "https://localhost:8080/"
        },
        "id": "zB2N6BfgiXIx",
        "outputId": "98bc5290-83c3-4db0-d89e-6c620aca2303"
      },
      "execution_count": null,
      "outputs": [
        {
          "output_type": "stream",
          "name": "stdout",
          "text": [
            "100%|██████████| 50/50 [03:04<00:00,  3.70s/trial, best loss: -0.684931506849315]\n"
          ]
        }
      ]
    },
    {
      "cell_type": "code",
      "source": [
        "print(\"Best Hyperparameters:\", best)"
      ],
      "metadata": {
        "colab": {
          "base_uri": "https://localhost:8080/"
        },
        "id": "3E_G6pgzinWQ",
        "outputId": "25a473ef-93f2-4a62-a658-5c41b268e6d2"
      },
      "execution_count": null,
      "outputs": [
        {
          "output_type": "stream",
          "name": "stdout",
          "text": [
            "Best Hyperparameters: {'colsample_bytree': 0.78410034442625, 'gamma': 3.120794514948667, 'learning_rate': 1.478490730409349, 'max_depth': 5.0, 'min_child_weight': 4.0, 'n_estimators': 290.0, 'reg_alpha': 2.083835144238994, 'reg_lambda': 2.7486578374783077, 'subsample': 0.6911229636778327}\n"
          ]
        }
      ]
    },
    {
      "cell_type": "code",
      "source": [
        "import xgboost\n",
        "from xgboost import XGBClassifier\n",
        "from sklearn.model_selection import KFold, cross_val_score\n",
        "\n",
        "# Define the best hyperparameters\n",
        "best_hyperparameters = {\n",
        "    'n_estimators': 290,\n",
        "    'learning_rate': 1.478490730409349,\n",
        "    'gamma': 3.120794514948667,\n",
        "    'max_depth': 5,\n",
        "    'min_child_weight': 4,\n",
        "    'colsample_bytree':  0.78410034442625,\n",
        "    'subsample': 0.6911229636778327,\n",
        "    'reg_alpha': 2.083835144238994,\n",
        "    'reg_lambda': 2.7486578374783077\n",
        "}"
      ],
      "metadata": {
        "id": "T6E1wMkqis2S"
      },
      "execution_count": null,
      "outputs": []
    },
    {
      "cell_type": "code",
      "source": [
        "model = XGBClassifier(**best_hyperparameters)\n",
        "\n",
        "# Perform k-fold cross-validation\n",
        "cv = RepeatedKFold(n_splits=5, n_repeats=10, random_state=1)\n",
        "scores = cross_val_score(model, X_train_normalized, y_train_encoded, scoring='accuracy', cv=cv, n_jobs=-1)\n",
        "mean_accuracy = scores.mean()\n",
        "print(\"Mean Accuracy:\", mean_accuracy)\n",
        "model.fit(X_train_normalized, y_train_encoded)\n",
        "pred = model.predict(X_train_normalized)\n",
        "training_accuracy= accuracy_score(y_train_encoded,pred)\n",
        "print(\"Accuracy on Training data: \",training_accuracy)\n",
        "pred = model.predict(X_test_normalized)\n",
        "test_accuracy= accuracy_score(y_test_encoded,pred)\n",
        "print(\"Accuracy on Test data: \",test_accuracy)\n",
        "Magpie_Bayes_crystal = label_encoder.inverse_transform(pred)\n",
        "Magpie_Bayes_crystal"
      ],
      "metadata": {
        "colab": {
          "base_uri": "https://localhost:8080/"
        },
        "id": "_MElkB0_izkO",
        "outputId": "966e3360-7b96-4191-d7bb-12fa9ad12139"
      },
      "execution_count": null,
      "outputs": [
        {
          "output_type": "stream",
          "name": "stdout",
          "text": [
            "Mean Accuracy: 0.6185322723253758\n",
            "Accuracy on Training data:  0.6421232876712328\n",
            "Accuracy on Test data:  0.678082191780822\n"
          ]
        },
        {
          "output_type": "execute_result",
          "data": {
            "text/plain": [
              "array(['triclinic', 'triclinic', 'triclinic', 'triclinic', 'monoclinic',\n",
              "       'triclinic', 'monoclinic', 'monoclinic', 'monoclinic', 'triclinic',\n",
              "       'triclinic', 'triclinic', 'monoclinic', 'triclinic', 'triclinic',\n",
              "       'monoclinic', 'triclinic', 'triclinic', 'triclinic', 'monoclinic',\n",
              "       'triclinic', 'triclinic', 'triclinic', 'triclinic', 'triclinic',\n",
              "       'triclinic', 'triclinic', 'triclinic', 'triclinic', 'triclinic',\n",
              "       'triclinic', 'triclinic', 'triclinic', 'monoclinic', 'triclinic',\n",
              "       'triclinic', 'triclinic', 'monoclinic', 'cubic', 'triclinic',\n",
              "       'triclinic', 'triclinic', 'triclinic', 'triclinic', 'triclinic',\n",
              "       'triclinic', 'triclinic', 'triclinic', 'triclinic', 'triclinic',\n",
              "       'triclinic', 'monoclinic', 'triclinic', 'triclinic', 'triclinic',\n",
              "       'triclinic', 'triclinic', 'triclinic', 'triclinic', 'triclinic',\n",
              "       'orthorhombic', 'triclinic', 'triclinic', 'triclinic', 'triclinic',\n",
              "       'triclinic', 'monoclinic', 'triclinic', 'monoclinic', 'triclinic',\n",
              "       'triclinic', 'triclinic', 'triclinic', 'monoclinic', 'triclinic',\n",
              "       'triclinic', 'triclinic', 'triclinic', 'triclinic', 'triclinic',\n",
              "       'monoclinic', 'triclinic', 'triclinic', 'triclinic', 'triclinic',\n",
              "       'triclinic', 'triclinic', 'monoclinic', 'triclinic', 'triclinic',\n",
              "       'triclinic', 'triclinic', 'triclinic', 'triclinic', 'triclinic',\n",
              "       'triclinic', 'triclinic', 'monoclinic', 'triclinic', 'monoclinic',\n",
              "       'monoclinic', 'triclinic', 'triclinic', 'triclinic',\n",
              "       'orthorhombic', 'triclinic', 'triclinic', 'triclinic',\n",
              "       'orthorhombic', 'triclinic', 'triclinic', 'triclinic', 'triclinic',\n",
              "       'triclinic', 'monoclinic', 'triclinic', 'triclinic', 'triclinic',\n",
              "       'monoclinic', 'cubic', 'triclinic', 'triclinic', 'monoclinic',\n",
              "       'triclinic', 'orthorhombic', 'triclinic', 'triclinic', 'triclinic',\n",
              "       'triclinic', 'triclinic', 'triclinic', 'triclinic', 'monoclinic',\n",
              "       'monoclinic', 'triclinic', 'triclinic', 'monoclinic', 'triclinic',\n",
              "       'monoclinic', 'triclinic', 'triclinic', 'triclinic', 'triclinic',\n",
              "       'triclinic', 'monoclinic', 'triclinic'], dtype=object)"
            ]
          },
          "metadata": {},
          "execution_count": 27
        }
      ]
    },
    {
      "cell_type": "markdown",
      "source": [
        "Sine descriptor"
      ],
      "metadata": {
        "id": "Op2J8HKWMYrv"
      }
    },
    {
      "cell_type": "code",
      "source": [
        "df= pd.read_csv('Sine_traindataset.csv')\n",
        "X_train=df.iloc[:,14:]\n",
        "y_train=df['crystal_system']"
      ],
      "metadata": {
        "id": "bH6LZSe6wgZx"
      },
      "execution_count": null,
      "outputs": []
    },
    {
      "cell_type": "code",
      "source": [
        "df=pd.read_csv('Sine_testdataset.csv')\n",
        "X_test=df.iloc[:,14:]\n",
        "\n",
        "y_test=df['crystal_system']"
      ],
      "metadata": {
        "id": "U4bHNO4Ow1ds"
      },
      "execution_count": null,
      "outputs": []
    },
    {
      "cell_type": "code",
      "source": [
        "scaler = StandardScaler()\n",
        "\n",
        "# fit scaler on the training data\n",
        "scaler.fit(X_train)\n",
        "\n",
        "# apply the scaler to both the training and test data\n",
        "X_train_normalized = scaler.transform(X_train)\n",
        "\n",
        "X_test_normalized = scaler.transform(X_test)\n",
        "label_encoder = LabelEncoder()\n",
        "\n",
        "# Fit and transform label encoder on target values\n",
        "y_train_encoded = label_encoder.fit_transform(y_train)\n",
        "y_test_encoded = label_encoder.fit_transform(y_test)"
      ],
      "metadata": {
        "id": "vyxNLXzSw-Lw"
      },
      "execution_count": null,
      "outputs": []
    },
    {
      "cell_type": "code",
      "source": [
        "import xgboost\n",
        "from hyperopt import fmin, tpe, hp\n",
        "from xgboost import XGBClassifier\n",
        "from sklearn.model_selection import KFold, cross_val_score"
      ],
      "metadata": {
        "id": "5sb7sLBISDp4"
      },
      "execution_count": null,
      "outputs": []
    },
    {
      "cell_type": "code",
      "source": [
        "# Define the search space for hyperparameters\n",
        "param_space = {\n",
        "    'max_depth': hp.quniform('max_depth', 3, 10, 1),\n",
        "    'gamma': hp.uniform('gamma', 0, 5),\n",
        "    'reg_alpha': hp.uniform('reg_alpha', 0, 5),\n",
        "    'reg_lambda': hp.uniform('reg_lambda', 0, 5),\n",
        "    'learning_rate': hp.loguniform('learning_rate', 0.01, 3),\n",
        "    'n_estimators': hp.quniform('n_estimators', 10, 500, 1),\n",
        "    'colsample_bytree': hp.uniform('colsample_bytree', 0.6, 1.0),\n",
        "    'subsample': hp.uniform('subsample', 0.6, 1.0),\n",
        "    'min_child_weight': hp.quniform('min_child_weight', 1, 10, 1)\n",
        "}\n",
        "\n",
        "# Define the objective function to minimize (negative accuracy)\n",
        "def objective(params):\n",
        "    model = XGBClassifier(\n",
        "        max_depth=int(params['max_depth']),\n",
        "        gamma=params['gamma'],\n",
        "        reg_alpha=params['reg_alpha'],\n",
        "        reg_lambda=params['reg_lambda'],\n",
        "        learning_rate=params['learning_rate'],\n",
        "        n_estimators=int(params['n_estimators']),\n",
        "        min_child_weight=int(params['min_child_weight'])\n",
        "    )\n",
        "    model.fit(X_train_normalized, y_train_encoded)\n",
        "    y_pred = model.predict(X_test_normalized)\n",
        "    accuracy = accuracy_score(y_test_encoded, y_pred)\n",
        "    return -accuracy  # Minimize negative accuracy\n",
        "\n",
        "# Perform Bayesian optimization\n",
        "best = fmin(\n",
        "    fn=objective,\n",
        "    space=param_space,\n",
        "    algo=tpe.suggest,\n",
        "    max_evals=50  # Number of optimization iterations\n",
        ")\n",
        "\n",
        "print(\"Best Hyperparameters:\", best)"
      ],
      "metadata": {
        "colab": {
          "base_uri": "https://localhost:8080/"
        },
        "outputId": "00c00cc2-ba63-41d2-a12a-88cf1cbce4ac",
        "id": "-_GvKmhMSWB2"
      },
      "execution_count": null,
      "outputs": [
        {
          "output_type": "stream",
          "name": "stdout",
          "text": [
            "100%|██████████| 50/50 [01:21<00:00,  1.62s/trial, best loss: -0.28187919463087246]\n",
            "Best Hyperparameters: {'colsample_bytree': 0.9450208688534998, 'gamma': 4.224227358373126, 'learning_rate': 13.517959034917455, 'max_depth': 6.0, 'min_child_weight': 7.0, 'n_estimators': 12.0, 'reg_alpha': 3.1602816817120565, 'reg_lambda': 2.171173585105933, 'subsample': 0.6246441675497391}\n"
          ]
        }
      ]
    },
    {
      "cell_type": "code",
      "execution_count": null,
      "metadata": {
        "colab": {
          "base_uri": "https://localhost:8080/"
        },
        "outputId": "7fc5770d-2ff5-4e70-844d-0b8ed9fc63c5",
        "id": "EjzWyiZpQALm"
      },
      "outputs": [
        {
          "output_type": "stream",
          "name": "stdout",
          "text": [
            "Mean Accuracy: 0.4855784313725491\n"
          ]
        }
      ],
      "source": [
        "import xgboost\n",
        "from xgboost import XGBClassifier\n",
        "from sklearn.model_selection import KFold, cross_val_score\n",
        "\n",
        "# Define the best hyperparameters\n",
        "best_hyperparameters = {\n",
        "    'n_estimators': 17,\n",
        "    'learning_rate': 13.517959034917455,\n",
        "    'gamma':  4.224227358373126,\n",
        "    'max_depth': 6,\n",
        "    'min_child_weight': 7,\n",
        "    'colsample_bytree': 0.9450208688534998,\n",
        "    'subsample': 0.6246441675497391,\n",
        "    'reg_alpha': 3.1602816817120565,\n",
        "    'reg_lambda': 2.171173585105933\n",
        "}\n",
        "\n",
        "# Create an XGBoost classifier with the best hyperparameters\n",
        "model = XGBClassifier(**best_hyperparameters)\n",
        "\n",
        "# Perform k-fold cross-validation\n",
        "cv = RepeatedKFold(n_splits=5, n_repeats=10, random_state=1)\n",
        "scores = cross_val_score(model, X_train_normalized, y_train_encoded, scoring='accuracy', cv=cv, n_jobs=-1)\n",
        "mean_accuracy = scores.mean()\n",
        "print(\"Mean Accuracy:\", mean_accuracy)"
      ]
    },
    {
      "cell_type": "code",
      "source": [
        "model.fit(X_train_normalized, y_train_encoded)\n",
        "pred = model.predict(X_train_normalized)\n",
        "training_accuracy= accuracy_score(y_train_encoded,pred)\n",
        "print(\"Accuracy on Training data: \",training_accuracy)\n",
        "pred = model.predict(X_test_normalized)\n",
        "test_accuracy= accuracy_score(y_test_encoded,pred)\n",
        "print(\"Accuracy on Test data: \",test_accuracy)\n",
        "Sine_Bayes_crystal = label_encoder.inverse_transform(pred)\n",
        "Sine_Bayes_crystal"
      ],
      "metadata": {
        "colab": {
          "base_uri": "https://localhost:8080/"
        },
        "outputId": "1594b27e-b0db-4865-be8f-4d0028ced1b3",
        "id": "lZXT2HFVW0Lt"
      },
      "execution_count": null,
      "outputs": [
        {
          "output_type": "stream",
          "name": "stdout",
          "text": [
            "Accuracy on Training data:  0.6845637583892618\n",
            "Accuracy on Test data:  0.1476510067114094\n"
          ]
        },
        {
          "output_type": "execute_result",
          "data": {
            "text/plain": [
              "array(['trigonal', 'trigonal', 'trigonal', 'trigonal', 'monoclinic',\n",
              "       'trigonal', 'monoclinic', 'trigonal', 'trigonal', 'trigonal',\n",
              "       'trigonal', 'trigonal', 'trigonal', 'trigonal', 'trigonal',\n",
              "       'monoclinic', 'trigonal', 'trigonal', 'trigonal', 'monoclinic',\n",
              "       'trigonal', 'trigonal', 'trigonal', 'monoclinic', 'trigonal',\n",
              "       'monoclinic', 'trigonal', 'trigonal', 'trigonal', 'trigonal',\n",
              "       'monoclinic', 'trigonal', 'trigonal', 'monoclinic', 'trigonal',\n",
              "       'trigonal', 'monoclinic', 'trigonal', 'trigonal', 'monoclinic',\n",
              "       'trigonal', 'trigonal', 'monoclinic', 'monoclinic', 'trigonal',\n",
              "       'trigonal', 'trigonal', 'trigonal', 'monoclinic', 'trigonal',\n",
              "       'monoclinic', 'trigonal', 'monoclinic', 'monoclinic', 'trigonal',\n",
              "       'trigonal', 'monoclinic', 'trigonal', 'trigonal', 'monoclinic',\n",
              "       'monoclinic', 'trigonal', 'trigonal', 'trigonal', 'trigonal',\n",
              "       'monoclinic', 'monoclinic', 'trigonal', 'trigonal', 'trigonal',\n",
              "       'monoclinic', 'trigonal', 'trigonal', 'trigonal', 'monoclinic',\n",
              "       'monoclinic', 'trigonal', 'monoclinic', 'trigonal', 'trigonal',\n",
              "       'trigonal', 'trigonal', 'trigonal', 'trigonal', 'monoclinic',\n",
              "       'monoclinic', 'trigonal', 'monoclinic', 'trigonal', 'trigonal',\n",
              "       'trigonal', 'monoclinic', 'monoclinic', 'trigonal', 'trigonal',\n",
              "       'trigonal', 'trigonal', 'trigonal', 'trigonal', 'trigonal',\n",
              "       'monoclinic', 'trigonal', 'trigonal', 'monoclinic', 'monoclinic',\n",
              "       'trigonal', 'monoclinic', 'monoclinic', 'monoclinic', 'trigonal',\n",
              "       'trigonal', 'trigonal', 'monoclinic', 'trigonal', 'trigonal',\n",
              "       'trigonal', 'trigonal', 'monoclinic', 'trigonal', 'trigonal',\n",
              "       'trigonal', 'trigonal', 'trigonal', 'monoclinic', 'trigonal',\n",
              "       'monoclinic', 'trigonal', 'trigonal', 'trigonal', 'trigonal',\n",
              "       'monoclinic', 'trigonal', 'trigonal', 'trigonal', 'trigonal',\n",
              "       'trigonal', 'monoclinic', 'monoclinic', 'trigonal', 'trigonal',\n",
              "       'monoclinic', 'trigonal', 'trigonal', 'trigonal', 'monoclinic',\n",
              "       'trigonal', 'trigonal', 'trigonal', 'trigonal'], dtype=object)"
            ]
          },
          "metadata": {},
          "execution_count": 14
        }
      ]
    },
    {
      "cell_type": "markdown",
      "source": [
        "OFM Descriptor"
      ],
      "metadata": {
        "id": "2C6qoY_GXH5l"
      }
    },
    {
      "cell_type": "code",
      "source": [
        "df= pd.read_csv('Orbital_traindataset.csv')\n",
        "X_train=df.iloc[:,14:]\n",
        "y_train=df['crystal_system']"
      ],
      "metadata": {
        "id": "Nfxo8AwK5jPh"
      },
      "execution_count": 6,
      "outputs": []
    },
    {
      "cell_type": "code",
      "source": [
        "df=pd.read_csv('Orbital_testdataset.csv')\n",
        "X_test=df.iloc[:,14:]\n",
        "\n",
        "y_test=df['crystal_system']"
      ],
      "metadata": {
        "id": "GIqIi7twHdG0"
      },
      "execution_count": 8,
      "outputs": []
    },
    {
      "cell_type": "code",
      "source": [
        "from sklearn.preprocessing import StandardScaler\n",
        "\n",
        "# create a scaler object\n",
        "scaler = StandardScaler()\n",
        "\n",
        "# fit scaler on the training data\n",
        "scaler.fit(X_train)\n",
        "\n",
        "# apply the scaler to both the training and test data\n",
        "X_train_normalized = scaler.transform(X_train)\n",
        "\n",
        "X_test_normalized = scaler.transform(X_test)"
      ],
      "metadata": {
        "id": "nnQStgSDHpry"
      },
      "execution_count": 9,
      "outputs": []
    },
    {
      "cell_type": "code",
      "source": [
        "label_encoder = LabelEncoder()\n",
        "\n",
        "# Fit and transform label encoder on target values\n",
        "y_train_encoded = label_encoder.fit_transform(y_train)\n",
        "y_test_encoded = label_encoder.fit_transform(y_test)"
      ],
      "metadata": {
        "id": "QokQXadcH0rG"
      },
      "execution_count": 10,
      "outputs": []
    },
    {
      "cell_type": "code",
      "source": [
        "import xgboost\n",
        "from hyperopt import fmin, tpe, hp\n",
        "from xgboost import XGBClassifier\n",
        "from sklearn.model_selection import KFold, cross_val_score\n",
        "param_space = {\n",
        "    'max_depth': hp.quniform('max_depth', 3, 10, 1),\n",
        "    'gamma': hp.uniform('gamma', 0, 5),\n",
        "    'reg_alpha': hp.uniform('reg_alpha', 0, 5),\n",
        "    'reg_lambda': hp.uniform('reg_lambda', 0, 5),\n",
        "    'learning_rate': hp.loguniform('learning_rate', 0.01, 3),\n",
        "    'n_estimators': hp.quniform('n_estimators', 10, 500, 1),\n",
        "    'colsample_bytree': hp.uniform('colsample_bytree', 0.6, 1.0),\n",
        "    'subsample': hp.uniform('subsample', 0.6, 1.0),\n",
        "    'min_child_weight': hp.quniform('min_child_weight', 1, 10, 1)\n",
        "}"
      ],
      "metadata": {
        "id": "MV_8X8ypIBDP"
      },
      "execution_count": 11,
      "outputs": []
    },
    {
      "cell_type": "code",
      "source": [
        "def objective(params):\n",
        "    model = XGBClassifier(\n",
        "        max_depth=int(params['max_depth']),\n",
        "        gamma=params['gamma'],\n",
        "        reg_alpha=params['reg_alpha'],\n",
        "        reg_lambda=params['reg_lambda'],\n",
        "        learning_rate=params['learning_rate'],\n",
        "        n_estimators=int(params['n_estimators']),\n",
        "        min_child_weight=int(params['min_child_weight'])\n",
        "    )\n",
        "    model.fit(X_train_normalized, y_train_encoded)\n",
        "    y_pred = model.predict(X_test_normalized)\n",
        "    accuracy = accuracy_score(y_test_encoded, y_pred)\n",
        "    return -accuracy  # Minimize negative accuracy\n",
        "\n",
        "# Perform Bayesian optimization\n",
        "best = fmin(\n",
        "    fn=objective,\n",
        "    space=param_space,\n",
        "    algo=tpe.suggest,\n",
        "    max_evals=50  # Number of optimization iterations\n",
        ")\n",
        "\n",
        "print(\"Best Hyperparameters:\", best)"
      ],
      "metadata": {
        "colab": {
          "base_uri": "https://localhost:8080/"
        },
        "id": "iuAJQu-0IJj_",
        "outputId": "31d45dc6-b938-4e31-af76-5d716e23bb81"
      },
      "execution_count": 12,
      "outputs": [
        {
          "output_type": "stream",
          "name": "stdout",
          "text": [
            "100%|██████████| 50/50 [10:27<00:00, 12.55s/trial, best loss: -0.6711409395973155]\n",
            "Best Hyperparameters: {'colsample_bytree': 0.9692421016481573, 'gamma': 1.5242388920532575, 'learning_rate': 1.4157421779156725, 'max_depth': 3.0, 'min_child_weight': 4.0, 'n_estimators': 356.0, 'reg_alpha': 0.03379904545550308, 'reg_lambda': 3.119057643751944, 'subsample': 0.6578039493835993}\n"
          ]
        }
      ]
    },
    {
      "cell_type": "code",
      "source": [
        "import xgboost\n",
        "from xgboost import XGBClassifier\n",
        "from sklearn.model_selection import KFold, cross_val_score\n",
        "\n",
        "# Define the best hyperparameters\n",
        "best_hyperparameters = {\n",
        "    'n_estimators': 356,\n",
        "    'learning_rate': 1.4157421779156725,\n",
        "    'gamma':  1.5242388920532575,\n",
        "    'max_depth': 3,\n",
        "    'min_child_weight': 4,\n",
        "    'colsample_bytree':  0.9692421016481573,\n",
        "    'subsample':0.6578039493835993,\n",
        "    'reg_alpha': 0.03379904545550308,\n",
        "    'reg_lambda':3.119057643751944\n",
        "}\n",
        "\n"
      ],
      "metadata": {
        "id": "GO3aDXNeIWDL"
      },
      "execution_count": 13,
      "outputs": []
    },
    {
      "cell_type": "code",
      "source": [
        "model = XGBClassifier(**best_hyperparameters)\n",
        "\n",
        "# Perform k-fold cross-validation\n",
        "cv = RepeatedKFold(n_splits=5, n_repeats=10, random_state=1)\n",
        "scores = cross_val_score(model, X_train_normalized, y_train_encoded, scoring='accuracy', cv=cv, n_jobs=-1)\n",
        "mean_accuracy = scores.mean()\n",
        "print(\"Mean Accuracy:\", mean_accuracy)\n",
        "model.fit(X_train_normalized, y_train_encoded)\n",
        "pred = model.predict(X_train_normalized)\n",
        "training_accuracy= accuracy_score(y_train_encoded,pred)\n",
        "print(\"Accuracy on Training data: \",training_accuracy)\n",
        "pred = model.predict(X_test_normalized)\n",
        "test_accuracy= accuracy_score(y_test_encoded,pred)\n",
        "print(\"Accuracy on Test data: \",test_accuracy)\n",
        "Orbital_Bayes_crystal = label_encoder.inverse_transform(pred)\n",
        "Orbital_Bayes_crystal"
      ],
      "metadata": {
        "colab": {
          "base_uri": "https://localhost:8080/"
        },
        "id": "Eap6Hwn_IbvF",
        "outputId": "8208fa40-97d5-4a53-9277-219c3a93782e"
      },
      "execution_count": 14,
      "outputs": [
        {
          "output_type": "stream",
          "name": "stdout",
          "text": [
            "Mean Accuracy: 0.6226890756302522\n",
            "Accuracy on Training data:  0.8941176470588236\n",
            "Accuracy on Test data:  0.6308724832214765\n"
          ]
        },
        {
          "output_type": "execute_result",
          "data": {
            "text/plain": [
              "array(['triclinic', 'monoclinic', 'cubic', 'triclinic', 'triclinic',\n",
              "       'triclinic', 'triclinic', 'triclinic', 'triclinic', 'triclinic',\n",
              "       'triclinic', 'triclinic', 'triclinic', 'monoclinic', 'monoclinic',\n",
              "       'monoclinic', 'triclinic', 'triclinic', 'triclinic', 'triclinic',\n",
              "       'triclinic', 'triclinic', 'cubic', 'triclinic', 'triclinic',\n",
              "       'triclinic', 'triclinic', 'monoclinic', 'triclinic', 'triclinic',\n",
              "       'triclinic', 'triclinic', 'monoclinic', 'monoclinic', 'monoclinic',\n",
              "       'triclinic', 'triclinic', 'triclinic', 'monoclinic', 'triclinic',\n",
              "       'triclinic', 'triclinic', 'triclinic', 'triclinic', 'monoclinic',\n",
              "       'triclinic', 'triclinic', 'triclinic', 'cubic', 'triclinic',\n",
              "       'triclinic', 'monoclinic', 'tetragonal', 'triclinic', 'triclinic',\n",
              "       'monoclinic', 'orthorhombic', 'triclinic', 'monoclinic',\n",
              "       'monoclinic', 'cubic', 'triclinic', 'triclinic', 'monoclinic',\n",
              "       'monoclinic', 'triclinic', 'monoclinic', 'triclinic', 'triclinic',\n",
              "       'triclinic', 'monoclinic', 'monoclinic', 'triclinic', 'triclinic',\n",
              "       'triclinic', 'triclinic', 'triclinic', 'monoclinic', 'triclinic',\n",
              "       'triclinic', 'triclinic', 'monoclinic', 'triclinic', 'triclinic',\n",
              "       'triclinic', 'monoclinic', 'triclinic', 'triclinic', 'triclinic',\n",
              "       'orthorhombic', 'triclinic', 'triclinic', 'triclinic', 'triclinic',\n",
              "       'triclinic', 'triclinic', 'triclinic', 'cubic', 'triclinic',\n",
              "       'triclinic', 'triclinic', 'triclinic', 'triclinic', 'triclinic',\n",
              "       'triclinic', 'triclinic', 'monoclinic', 'monoclinic', 'triclinic',\n",
              "       'triclinic', 'triclinic', 'triclinic', 'triclinic', 'triclinic',\n",
              "       'triclinic', 'triclinic', 'triclinic', 'cubic', 'triclinic',\n",
              "       'triclinic', 'triclinic', 'triclinic', 'triclinic', 'triclinic',\n",
              "       'triclinic', 'cubic', 'orthorhombic', 'triclinic', 'triclinic',\n",
              "       'monoclinic', 'triclinic', 'triclinic', 'triclinic', 'monoclinic',\n",
              "       'triclinic', 'triclinic', 'triclinic', 'triclinic', 'trigonal',\n",
              "       'monoclinic', 'triclinic', 'triclinic', 'triclinic', 'triclinic',\n",
              "       'triclinic', 'triclinic', 'cubic', 'triclinic', 'triclinic'],\n",
              "      dtype=object)"
            ]
          },
          "metadata": {},
          "execution_count": 14
        }
      ]
    },
    {
      "cell_type": "markdown",
      "source": [
        "Xrd"
      ],
      "metadata": {
        "id": "ZI0yP41ZI8OD"
      }
    },
    {
      "cell_type": "code",
      "source": [
        "df= pd.read_csv('Xrd_traindataset.csv')\n",
        "X_train=df.iloc[:,14:]\n",
        "y_train=df['crystal_system']"
      ],
      "metadata": {
        "id": "qZdRiCdiI-yV"
      },
      "execution_count": 15,
      "outputs": []
    },
    {
      "cell_type": "code",
      "source": [
        "df=pd.read_csv('Xrd_testdataset.csv')\n",
        "X_test=df.iloc[:,14:]\n",
        "\n",
        "y_test=df['crystal_system']"
      ],
      "metadata": {
        "id": "eX9Rz1Y1JFyi"
      },
      "execution_count": 18,
      "outputs": []
    },
    {
      "cell_type": "code",
      "source": [
        "scaler = StandardScaler()\n",
        "\n",
        "# fit scaler on the training data\n",
        "scaler.fit(X_train)\n",
        "\n",
        "# apply the scaler to both the training and test data\n",
        "X_train_normalized = scaler.transform(X_train)\n",
        "\n",
        "X_test_normalized = scaler.transform(X_test)\n",
        "label_encoder = LabelEncoder()\n",
        "\n",
        "# Fit and transform label encoder on target values\n",
        "y_train_encoded = label_encoder.fit_transform(y_train)\n",
        "y_test_encoded = label_encoder.fit_transform(y_test)"
      ],
      "metadata": {
        "id": "gXCzEYPaJJ5z"
      },
      "execution_count": 19,
      "outputs": []
    },
    {
      "cell_type": "code",
      "source": [
        "import xgboost\n",
        "from hyperopt import fmin, tpe, hp\n",
        "from xgboost import XGBClassifier\n",
        "from sklearn.model_selection import KFold, cross_val_score\n",
        "param_space = {\n",
        "    'max_depth': hp.quniform('max_depth', 3, 10, 1),\n",
        "    'gamma': hp.uniform('gamma', 0, 5),\n",
        "    'reg_alpha': hp.uniform('reg_alpha', 0, 5),\n",
        "    'reg_lambda': hp.uniform('reg_lambda', 0, 5),\n",
        "    'learning_rate': hp.loguniform('learning_rate', 0.01, 3),\n",
        "    'n_estimators': hp.quniform('n_estimators', 10, 500, 1),\n",
        "    'colsample_bytree': hp.uniform('colsample_bytree', 0.6, 1.0),\n",
        "    'subsample': hp.uniform('subsample', 0.6, 1.0),\n",
        "    'min_child_weight': hp.quniform('min_child_weight', 1, 10, 1)\n",
        "}"
      ],
      "metadata": {
        "id": "Buk28McqJZM8"
      },
      "execution_count": 20,
      "outputs": []
    },
    {
      "cell_type": "code",
      "source": [
        "def objective(params):\n",
        "    model = XGBClassifier(\n",
        "        max_depth=int(params['max_depth']),\n",
        "        gamma=params['gamma'],\n",
        "        reg_alpha=params['reg_alpha'],\n",
        "        reg_lambda=params['reg_lambda'],\n",
        "        learning_rate=params['learning_rate'],\n",
        "        n_estimators=int(params['n_estimators']),\n",
        "        min_child_weight=int(params['min_child_weight'])\n",
        "    )\n",
        "    model.fit(X_train_normalized, y_train_encoded)\n",
        "    y_pred = model.predict(X_test_normalized)\n",
        "    accuracy = accuracy_score(y_test_encoded, y_pred)\n",
        "    return -accuracy  # Minimize negative accuracy\n",
        "\n",
        "# Perform Bayesian optimization\n",
        "best = fmin(\n",
        "    fn=objective,\n",
        "    space=param_space,\n",
        "    algo=tpe.suggest,\n",
        "    max_evals=50  # Number of optimization iterations\n",
        ")\n",
        "\n",
        "print(\"Best Hyperparameters:\", best)"
      ],
      "metadata": {
        "colab": {
          "base_uri": "https://localhost:8080/"
        },
        "id": "J-AZ9s1aJgrS",
        "outputId": "af2ba49a-c6b8-4e33-929c-9a9a42b60ac1"
      },
      "execution_count": 21,
      "outputs": [
        {
          "output_type": "stream",
          "name": "stdout",
          "text": [
            "100%|██████████| 50/50 [03:07<00:00,  3.76s/trial, best loss: -0.6845637583892618]\n",
            "Best Hyperparameters: {'colsample_bytree': 0.7520939618416126, 'gamma': 0.8677428116703306, 'learning_rate': 1.2504114238629624, 'max_depth': 4.0, 'min_child_weight': 4.0, 'n_estimators': 127.0, 'reg_alpha': 0.6080585062080629, 'reg_lambda': 3.6095428943920727, 'subsample': 0.9711079568490482}\n"
          ]
        }
      ]
    },
    {
      "cell_type": "code",
      "source": [
        "import xgboost\n",
        "from xgboost import XGBClassifier\n",
        "from sklearn.model_selection import KFold, cross_val_score\n",
        "\n",
        "# Define the best hyperparameters\n",
        "best_hyperparameters = {\n",
        "    'n_estimators': 127,\n",
        "    'learning_rate': 1.2504114238629624,\n",
        "    'gamma':  0.8677428116703306,\n",
        "    'max_depth': 4,\n",
        "    'min_child_weight': 4,\n",
        "    'colsample_bytree':  0.7520939618416126,\n",
        "    'subsample': 0.9711079568490482,\n",
        "    'reg_alpha': 0.6080585062080629,\n",
        "    'reg_lambda': 3.6095428943920727\n",
        "}\n"
      ],
      "metadata": {
        "id": "cqvipEB9JnTQ"
      },
      "execution_count": 22,
      "outputs": []
    },
    {
      "cell_type": "code",
      "source": [
        "model = XGBClassifier(**best_hyperparameters)\n",
        "\n",
        "# Perform k-fold cross-validation\n",
        "cv = RepeatedKFold(n_splits=5, n_repeats=10, random_state=1)\n",
        "scores = cross_val_score(model, X_train_normalized, y_train_encoded, scoring='accuracy', cv=cv, n_jobs=-1)\n",
        "mean_accuracy = scores.mean()\n",
        "print(\"Mean Accuracy:\", mean_accuracy)\n",
        "model.fit(X_train_normalized, y_train_encoded)\n",
        "pred = model.predict(X_train_normalized)\n",
        "training_accuracy= accuracy_score(y_train_encoded,pred)\n",
        "print(\"Accuracy on Training data: \",training_accuracy)\n",
        "pred = model.predict(X_test_normalized)\n",
        "test_accuracy= accuracy_score(y_test_encoded,pred)\n",
        "print(\"Accuracy on Test data: \",test_accuracy)\n",
        "Xrd_Bayes_crystal = label_encoder.inverse_transform(pred)\n",
        "Xrd_Bayes_crystal"
      ],
      "metadata": {
        "colab": {
          "base_uri": "https://localhost:8080/"
        },
        "id": "mtgtXGXQJuSn",
        "outputId": "054eb04c-9df4-4d70-e4b6-c694e8a6a4dc"
      },
      "execution_count": 23,
      "outputs": [
        {
          "output_type": "stream",
          "name": "stdout",
          "text": [
            "Mean Accuracy: 0.7001512605042016\n",
            "Accuracy on Training data:  0.988255033557047\n",
            "Accuracy on Test data:  0.6711409395973155\n"
          ]
        },
        {
          "output_type": "execute_result",
          "data": {
            "text/plain": [
              "array(['monoclinic', 'triclinic', 'triclinic', 'monoclinic', 'monoclinic',\n",
              "       'triclinic', 'triclinic', 'triclinic', 'triclinic', 'triclinic',\n",
              "       'triclinic', 'triclinic', 'triclinic', 'monoclinic', 'triclinic',\n",
              "       'monoclinic', 'triclinic', 'triclinic', 'triclinic',\n",
              "       'orthorhombic', 'triclinic', 'orthorhombic', 'triclinic',\n",
              "       'triclinic', 'monoclinic', 'triclinic', 'triclinic', 'triclinic',\n",
              "       'triclinic', 'triclinic', 'orthorhombic', 'triclinic', 'triclinic',\n",
              "       'monoclinic', 'monoclinic', 'triclinic', 'triclinic', 'triclinic',\n",
              "       'triclinic', 'triclinic', 'triclinic', 'triclinic', 'monoclinic',\n",
              "       'monoclinic', 'triclinic', 'triclinic', 'triclinic', 'triclinic',\n",
              "       'monoclinic', 'triclinic', 'triclinic', 'triclinic', 'triclinic',\n",
              "       'triclinic', 'triclinic', 'triclinic', 'monoclinic', 'triclinic',\n",
              "       'triclinic', 'monoclinic', 'hexagonal', 'monoclinic', 'triclinic',\n",
              "       'triclinic', 'triclinic', 'triclinic', 'triclinic', 'triclinic',\n",
              "       'triclinic', 'monoclinic', 'triclinic', 'cubic', 'triclinic',\n",
              "       'triclinic', 'trigonal', 'monoclinic', 'triclinic', 'triclinic',\n",
              "       'triclinic', 'monoclinic', 'triclinic', 'monoclinic', 'triclinic',\n",
              "       'triclinic', 'triclinic', 'hexagonal', 'triclinic', 'monoclinic',\n",
              "       'triclinic', 'triclinic', 'triclinic', 'cubic', 'monoclinic',\n",
              "       'triclinic', 'triclinic', 'triclinic', 'triclinic', 'triclinic',\n",
              "       'triclinic', 'monoclinic', 'hexagonal', 'triclinic', 'triclinic',\n",
              "       'triclinic', 'hexagonal', 'triclinic', 'triclinic', 'monoclinic',\n",
              "       'triclinic', 'monoclinic', 'triclinic', 'triclinic', 'monoclinic',\n",
              "       'monoclinic', 'monoclinic', 'triclinic', 'orthorhombic',\n",
              "       'orthorhombic', 'triclinic', 'triclinic', 'triclinic', 'triclinic',\n",
              "       'triclinic', 'triclinic', 'monoclinic', 'monoclinic', 'triclinic',\n",
              "       'triclinic', 'triclinic', 'monoclinic', 'cubic', 'triclinic',\n",
              "       'triclinic', 'triclinic', 'triclinic', 'triclinic', 'triclinic',\n",
              "       'tetragonal', 'triclinic', 'triclinic', 'monoclinic', 'triclinic',\n",
              "       'triclinic', 'monoclinic', 'monoclinic', 'triclinic', 'monoclinic',\n",
              "       'triclinic', 'monoclinic'], dtype=object)"
            ]
          },
          "metadata": {},
          "execution_count": 23
        }
      ]
    }
  ],
  "metadata": {
    "colab": {
      "provenance": [],
      "authorship_tag": "ABX9TyOR2Qx7q4zHw9fda8UF2fg4",
      "include_colab_link": true
    },
    "kernelspec": {
      "display_name": "Python 3",
      "name": "python3"
    },
    "language_info": {
      "name": "python"
    }
  },
  "nbformat": 4,
  "nbformat_minor": 0
}