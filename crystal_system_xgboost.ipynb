{
  "cells": [
    {
      "cell_type": "markdown",
      "metadata": {
        "id": "view-in-github",
        "colab_type": "text"
      },
      "source": [
        "<a href=\"https://colab.research.google.com/github/TuragDev/ML-Python-Codes/blob/main/crystal_system_xgboost.ipynb\" target=\"_parent\"><img src=\"https://colab.research.google.com/assets/colab-badge.svg\" alt=\"Open In Colab\"/></a>"
      ]
    },
    {
      "cell_type": "code",
      "execution_count": null,
      "metadata": {
        "colab": {
          "base_uri": "https://localhost:8080/"
        },
        "id": "WN9hQyOkNNaR",
        "outputId": "3801d09d-1433-4f68-8008-395b0a8ee82f"
      },
      "outputs": [
        {
          "output_type": "stream",
          "name": "stdout",
          "text": [
            "Collecting scikit-optimize\n",
            "  Downloading scikit_optimize-0.9.0-py2.py3-none-any.whl (100 kB)\n",
            "\u001b[?25l     \u001b[90m━━━━━━━━━━━━━━━━━━━━━━━━━━━━━━━━━━━━━━━━\u001b[0m \u001b[32m0.0/100.3 kB\u001b[0m \u001b[31m?\u001b[0m eta \u001b[36m-:--:--\u001b[0m\r\u001b[2K     \u001b[91m━━━━━━━━━━━━━━━━━━━━━━━━━━━━━━━━\u001b[0m\u001b[91m╸\u001b[0m\u001b[90m━━━━━━━\u001b[0m \u001b[32m81.9/100.3 kB\u001b[0m \u001b[31m2.3 MB/s\u001b[0m eta \u001b[36m0:00:01\u001b[0m\r\u001b[2K     \u001b[90m━━━━━━━━━━━━━━━━━━━━━━━━━━━━━━━━━━━━━━━\u001b[0m \u001b[32m100.3/100.3 kB\u001b[0m \u001b[31m2.2 MB/s\u001b[0m eta \u001b[36m0:00:00\u001b[0m\n",
            "\u001b[?25hRequirement already satisfied: joblib>=0.11 in /usr/local/lib/python3.10/dist-packages (from scikit-optimize) (1.3.2)\n",
            "Collecting pyaml>=16.9 (from scikit-optimize)\n",
            "  Downloading pyaml-23.7.0-py3-none-any.whl (17 kB)\n",
            "Requirement already satisfied: numpy>=1.13.3 in /usr/local/lib/python3.10/dist-packages (from scikit-optimize) (1.23.5)\n",
            "Requirement already satisfied: scipy>=0.19.1 in /usr/local/lib/python3.10/dist-packages (from scikit-optimize) (1.10.1)\n",
            "Requirement already satisfied: scikit-learn>=0.20.0 in /usr/local/lib/python3.10/dist-packages (from scikit-optimize) (1.2.2)\n",
            "Requirement already satisfied: PyYAML in /usr/local/lib/python3.10/dist-packages (from pyaml>=16.9->scikit-optimize) (6.0.1)\n",
            "Requirement already satisfied: threadpoolctl>=2.0.0 in /usr/local/lib/python3.10/dist-packages (from scikit-learn>=0.20.0->scikit-optimize) (3.2.0)\n",
            "Installing collected packages: pyaml, scikit-optimize\n",
            "Successfully installed pyaml-23.7.0 scikit-optimize-0.9.0\n"
          ]
        }
      ],
      "source": [
        "!pip install scikit-optimize"
      ]
    },
    {
      "cell_type": "code",
      "execution_count": null,
      "metadata": {
        "colab": {
          "base_uri": "https://localhost:8080/"
        },
        "id": "MXChfFI1GilV",
        "outputId": "95f7c959-bce2-4f73-f0fc-479a5e17179f"
      },
      "outputs": [
        {
          "output_type": "stream",
          "name": "stdout",
          "text": [
            "Requirement already satisfied: xgboost in /usr/local/lib/python3.10/dist-packages (1.7.6)\n",
            "Requirement already satisfied: numpy in /usr/local/lib/python3.10/dist-packages (from xgboost) (1.23.5)\n",
            "Requirement already satisfied: scipy in /usr/local/lib/python3.10/dist-packages (from xgboost) (1.10.1)\n"
          ]
        }
      ],
      "source": [
        "!pip install xgboost"
      ]
    },
    {
      "cell_type": "code",
      "execution_count": null,
      "metadata": {
        "colab": {
          "base_uri": "https://localhost:8080/",
          "height": 142
        },
        "id": "6sqqCzpNSp1W",
        "outputId": "e0f697d9-9bff-4bdf-8152-86c835b21c13"
      },
      "outputs": [
        {
          "output_type": "display_data",
          "data": {
            "text/plain": [
              "<IPython.core.display.HTML object>"
            ],
            "text/html": [
              "\n",
              "     <input type=\"file\" id=\"files-8a4072a4-ca24-4697-a40e-1a30a6a22c6e\" name=\"files[]\" multiple disabled\n",
              "        style=\"border:none\" />\n",
              "     <output id=\"result-8a4072a4-ca24-4697-a40e-1a30a6a22c6e\">\n",
              "      Upload widget is only available when the cell has been executed in the\n",
              "      current browser session. Please rerun this cell to enable.\n",
              "      </output>\n",
              "      <script>// Copyright 2017 Google LLC\n",
              "//\n",
              "// Licensed under the Apache License, Version 2.0 (the \"License\");\n",
              "// you may not use this file except in compliance with the License.\n",
              "// You may obtain a copy of the License at\n",
              "//\n",
              "//      http://www.apache.org/licenses/LICENSE-2.0\n",
              "//\n",
              "// Unless required by applicable law or agreed to in writing, software\n",
              "// distributed under the License is distributed on an \"AS IS\" BASIS,\n",
              "// WITHOUT WARRANTIES OR CONDITIONS OF ANY KIND, either express or implied.\n",
              "// See the License for the specific language governing permissions and\n",
              "// limitations under the License.\n",
              "\n",
              "/**\n",
              " * @fileoverview Helpers for google.colab Python module.\n",
              " */\n",
              "(function(scope) {\n",
              "function span(text, styleAttributes = {}) {\n",
              "  const element = document.createElement('span');\n",
              "  element.textContent = text;\n",
              "  for (const key of Object.keys(styleAttributes)) {\n",
              "    element.style[key] = styleAttributes[key];\n",
              "  }\n",
              "  return element;\n",
              "}\n",
              "\n",
              "// Max number of bytes which will be uploaded at a time.\n",
              "const MAX_PAYLOAD_SIZE = 100 * 1024;\n",
              "\n",
              "function _uploadFiles(inputId, outputId) {\n",
              "  const steps = uploadFilesStep(inputId, outputId);\n",
              "  const outputElement = document.getElementById(outputId);\n",
              "  // Cache steps on the outputElement to make it available for the next call\n",
              "  // to uploadFilesContinue from Python.\n",
              "  outputElement.steps = steps;\n",
              "\n",
              "  return _uploadFilesContinue(outputId);\n",
              "}\n",
              "\n",
              "// This is roughly an async generator (not supported in the browser yet),\n",
              "// where there are multiple asynchronous steps and the Python side is going\n",
              "// to poll for completion of each step.\n",
              "// This uses a Promise to block the python side on completion of each step,\n",
              "// then passes the result of the previous step as the input to the next step.\n",
              "function _uploadFilesContinue(outputId) {\n",
              "  const outputElement = document.getElementById(outputId);\n",
              "  const steps = outputElement.steps;\n",
              "\n",
              "  const next = steps.next(outputElement.lastPromiseValue);\n",
              "  return Promise.resolve(next.value.promise).then((value) => {\n",
              "    // Cache the last promise value to make it available to the next\n",
              "    // step of the generator.\n",
              "    outputElement.lastPromiseValue = value;\n",
              "    return next.value.response;\n",
              "  });\n",
              "}\n",
              "\n",
              "/**\n",
              " * Generator function which is called between each async step of the upload\n",
              " * process.\n",
              " * @param {string} inputId Element ID of the input file picker element.\n",
              " * @param {string} outputId Element ID of the output display.\n",
              " * @return {!Iterable<!Object>} Iterable of next steps.\n",
              " */\n",
              "function* uploadFilesStep(inputId, outputId) {\n",
              "  const inputElement = document.getElementById(inputId);\n",
              "  inputElement.disabled = false;\n",
              "\n",
              "  const outputElement = document.getElementById(outputId);\n",
              "  outputElement.innerHTML = '';\n",
              "\n",
              "  const pickedPromise = new Promise((resolve) => {\n",
              "    inputElement.addEventListener('change', (e) => {\n",
              "      resolve(e.target.files);\n",
              "    });\n",
              "  });\n",
              "\n",
              "  const cancel = document.createElement('button');\n",
              "  inputElement.parentElement.appendChild(cancel);\n",
              "  cancel.textContent = 'Cancel upload';\n",
              "  const cancelPromise = new Promise((resolve) => {\n",
              "    cancel.onclick = () => {\n",
              "      resolve(null);\n",
              "    };\n",
              "  });\n",
              "\n",
              "  // Wait for the user to pick the files.\n",
              "  const files = yield {\n",
              "    promise: Promise.race([pickedPromise, cancelPromise]),\n",
              "    response: {\n",
              "      action: 'starting',\n",
              "    }\n",
              "  };\n",
              "\n",
              "  cancel.remove();\n",
              "\n",
              "  // Disable the input element since further picks are not allowed.\n",
              "  inputElement.disabled = true;\n",
              "\n",
              "  if (!files) {\n",
              "    return {\n",
              "      response: {\n",
              "        action: 'complete',\n",
              "      }\n",
              "    };\n",
              "  }\n",
              "\n",
              "  for (const file of files) {\n",
              "    const li = document.createElement('li');\n",
              "    li.append(span(file.name, {fontWeight: 'bold'}));\n",
              "    li.append(span(\n",
              "        `(${file.type || 'n/a'}) - ${file.size} bytes, ` +\n",
              "        `last modified: ${\n",
              "            file.lastModifiedDate ? file.lastModifiedDate.toLocaleDateString() :\n",
              "                                    'n/a'} - `));\n",
              "    const percent = span('0% done');\n",
              "    li.appendChild(percent);\n",
              "\n",
              "    outputElement.appendChild(li);\n",
              "\n",
              "    const fileDataPromise = new Promise((resolve) => {\n",
              "      const reader = new FileReader();\n",
              "      reader.onload = (e) => {\n",
              "        resolve(e.target.result);\n",
              "      };\n",
              "      reader.readAsArrayBuffer(file);\n",
              "    });\n",
              "    // Wait for the data to be ready.\n",
              "    let fileData = yield {\n",
              "      promise: fileDataPromise,\n",
              "      response: {\n",
              "        action: 'continue',\n",
              "      }\n",
              "    };\n",
              "\n",
              "    // Use a chunked sending to avoid message size limits. See b/62115660.\n",
              "    let position = 0;\n",
              "    do {\n",
              "      const length = Math.min(fileData.byteLength - position, MAX_PAYLOAD_SIZE);\n",
              "      const chunk = new Uint8Array(fileData, position, length);\n",
              "      position += length;\n",
              "\n",
              "      const base64 = btoa(String.fromCharCode.apply(null, chunk));\n",
              "      yield {\n",
              "        response: {\n",
              "          action: 'append',\n",
              "          file: file.name,\n",
              "          data: base64,\n",
              "        },\n",
              "      };\n",
              "\n",
              "      let percentDone = fileData.byteLength === 0 ?\n",
              "          100 :\n",
              "          Math.round((position / fileData.byteLength) * 100);\n",
              "      percent.textContent = `${percentDone}% done`;\n",
              "\n",
              "    } while (position < fileData.byteLength);\n",
              "  }\n",
              "\n",
              "  // All done.\n",
              "  yield {\n",
              "    response: {\n",
              "      action: 'complete',\n",
              "    }\n",
              "  };\n",
              "}\n",
              "\n",
              "scope.google = scope.google || {};\n",
              "scope.google.colab = scope.google.colab || {};\n",
              "scope.google.colab._files = {\n",
              "  _uploadFiles,\n",
              "  _uploadFilesContinue,\n",
              "};\n",
              "})(self);\n",
              "</script> "
            ]
          },
          "metadata": {}
        },
        {
          "output_type": "stream",
          "name": "stdout",
          "text": [
            "Saving Orbital_mp_dataset.csv to Orbital_mp_dataset.csv\n",
            "Saving sine_mp_data.csv to sine_mp_data.csv\n",
            "Saving Xrd_mp_dataset.csv to Xrd_mp_dataset.csv\n"
          ]
        }
      ],
      "source": [
        "from google.colab import files\n",
        "uploaded= files.upload()"
      ]
    },
    {
      "cell_type": "code",
      "execution_count": null,
      "metadata": {
        "id": "vHuFHFb0TPDt"
      },
      "outputs": [],
      "source": [
        "import joblib\n",
        "from sklearn.model_selection import train_test_split\n",
        "import numpy as np\n",
        "\n",
        "import pandas as pd\n",
        "\n",
        "from sklearn.model_selection import GridSearchCV, RepeatedKFold\n",
        "from sklearn.model_selection import train_test_split\n",
        "from sklearn.metrics import mean_squared_error as MSE\n",
        "from sklearn.preprocessing import StandardScaler\n",
        "from sklearn.metrics import mean_squared_error, r2_score\n",
        "\n",
        "from sklearn.model_selection import train_test_split\n",
        "\n",
        "import numpy as np\n",
        "\n",
        "import pickle\n",
        "import pandas as pd\n",
        "from sklearn.preprocessing import LabelEncoder\n",
        "\n",
        "import sys\n",
        "# In[3]:\n",
        "\n",
        "\n",
        "from sklearn import svm\n",
        "from sklearn.model_selection import GridSearchCV\n",
        "from sklearn.model_selection import RandomizedSearchCV\n",
        "from numpy import mean\n",
        "from numpy import std\n",
        "from sklearn.datasets import make_classification\n",
        "from sklearn.model_selection import KFold\n",
        "from sklearn.model_selection import GridSearchCV\n",
        "from sklearn.ensemble import RandomForestClassifier\n",
        "from sklearn.tree import DecisionTreeClassifier\n",
        "from xgboost import XGBClassifier\n",
        "from sklearn.metrics import accuracy_score\n",
        "import matplotlib.pyplot as plt\n",
        "from pandas import read_csv\n",
        "from sklearn.model_selection import cross_val_score\n",
        "from sklearn.svm import SVC\n",
        "from sklearn.model_selection import RepeatedStratifiedKFold\n",
        "from skopt import BayesSearchCV\n"
      ]
    },
    {
      "cell_type": "markdown",
      "source": [
        "Xrd Descriptor"
      ],
      "metadata": {
        "id": "lN8VVbFoMJZT"
      }
    },
    {
      "cell_type": "code",
      "execution_count": null,
      "metadata": {
        "id": "_inbrU6TT1Z7"
      },
      "outputs": [],
      "source": [
        "df= pd.read_csv('Xrd_mp_dataset.csv')"
      ]
    },
    {
      "cell_type": "code",
      "execution_count": null,
      "metadata": {
        "id": "HUbJsyvzVcF0"
      },
      "outputs": [],
      "source": [
        "X=df.iloc[:,14:]\n",
        "Y=df['crystal_system']"
      ]
    },
    {
      "cell_type": "code",
      "execution_count": null,
      "metadata": {
        "id": "Vp94c-QXn623"
      },
      "outputs": [],
      "source": [
        "from sklearn.preprocessing import StandardScaler\n",
        "# create a scaler object\n",
        "scaler = StandardScaler()\n",
        "\n",
        "# fit scaler on the training data\n",
        "scaler.fit(X)\n",
        "\n",
        "# apply the scaler to both the training and test data\n",
        "X_normalized = scaler.transform(X)"
      ]
    },
    {
      "cell_type": "code",
      "execution_count": null,
      "metadata": {
        "id": "Ojtd5uYggW8F"
      },
      "outputs": [],
      "source": [
        "label_encoder = LabelEncoder()\n",
        "\n",
        "# Fit and transform label encoder on target values\n",
        "y_encoded = label_encoder.fit_transform(Y)"
      ]
    },
    {
      "cell_type": "code",
      "execution_count": null,
      "metadata": {
        "id": "7IRGe4r58SyH"
      },
      "outputs": [],
      "source": [
        "import xgboost\n",
        "from hyperopt import fmin, tpe, hp"
      ]
    },
    {
      "cell_type": "code",
      "execution_count": null,
      "metadata": {
        "id": "tG6JXcUfpJAU"
      },
      "outputs": [],
      "source": [
        "X_train, X_test, y_train, y_test = train_test_split(X_normalized, y_encoded, test_size=0.2, random_state=108)"
      ]
    },
    {
      "cell_type": "code",
      "source": [
        "# Define the search space for hyperparameters\n",
        "param_space = {\n",
        "    'max_depth': hp.quniform('max_depth', 3, 10, 1),\n",
        "    'gamma': hp.uniform('gamma', 0, 5),\n",
        "    'reg_alpha': hp.uniform('reg_alpha', 0, 5),\n",
        "    'reg_lambda': hp.uniform('reg_lambda', 0, 5),\n",
        "    'learning_rate': hp.loguniform('learning_rate', 0.01, 3),\n",
        "    'n_estimators': hp.quniform('n_estimators', 10, 500, 1),\n",
        "    'colsample_bytree': hp.uniform('colsample_bytree', 0.6, 1.0),\n",
        "    'subsample': hp.uniform('subsample', 0.6, 1.0),\n",
        "    'min_child_weight': hp.quniform('min_child_weight', 1, 10, 1)\n",
        "}\n",
        "\n",
        "# Define the objective function to minimize (negative accuracy)\n",
        "def objective(params):\n",
        "    model = XGBClassifier(\n",
        "        max_depth=int(params['max_depth']),\n",
        "        gamma=params['gamma'],\n",
        "        reg_alpha=params['reg_alpha'],\n",
        "        reg_lambda=params['reg_lambda'],\n",
        "        learning_rate=params['learning_rate'],\n",
        "        n_estimators=int(params['n_estimators']),\n",
        "        min_child_weight=int(params['min_child_weight'])\n",
        "    )\n",
        "    model.fit(X_train, y_train)\n",
        "    y_pred = model.predict(X_test)\n",
        "    accuracy = accuracy_score(y_test, y_pred)\n",
        "    return -accuracy  # Minimize negative accuracy\n",
        "\n",
        "# Perform Bayesian optimization\n",
        "best = fmin(\n",
        "    fn=objective,\n",
        "    space=param_space,\n",
        "    algo=tpe.suggest,\n",
        "    max_evals=50  # Number of optimization iterations\n",
        ")\n",
        "\n",
        "print(\"Best Hyperparameters:\", best)"
      ],
      "metadata": {
        "colab": {
          "base_uri": "https://localhost:8080/"
        },
        "id": "rpV0Guc-QibQ",
        "outputId": "0d597d46-ae3c-4d11-8281-96bddb756055"
      },
      "execution_count": null,
      "outputs": [
        {
          "output_type": "stream",
          "name": "stdout",
          "text": [
            "100%|██████████| 50/50 [06:18<00:00,  7.57s/trial, best loss: -0.6912751677852349]\n",
            "Best Hyperparameters: {'colsample_bytree': 0.8898723070401753, 'gamma': 0.013321041374090736, 'learning_rate': 1.798447472004195, 'max_depth': 9.0, 'min_child_weight': 2.0, 'n_estimators': 172.0, 'reg_alpha': 2.0268486003203305, 'reg_lambda': 3.034063856036684, 'subsample': 0.9737162445108123}\n"
          ]
        }
      ]
    },
    {
      "cell_type": "code",
      "execution_count": 14,
      "metadata": {
        "colab": {
          "base_uri": "https://localhost:8080/"
        },
        "id": "hpXugpGi5VVa",
        "outputId": "21b56128-995f-4c64-f9a0-11ac86cf7ec6"
      },
      "outputs": [
        {
          "output_type": "stream",
          "name": "stdout",
          "text": [
            "Mean Accuracy: 0.6830826330532211\n"
          ]
        }
      ],
      "source": [
        "import xgboost\n",
        "from xgboost import XGBClassifier\n",
        "from sklearn.model_selection import KFold, cross_val_score\n",
        "\n",
        "# Define the best hyperparameters\n",
        "best_hyperparameters = {\n",
        "    'n_estimators': 172,\n",
        "    'learning_rate':  1.798447472004195,\n",
        "    'gamma': 0.013321041374090736,\n",
        "    'max_depth': 9,\n",
        "    'min_child_weight': 2,\n",
        "    'colsample_bytree': 0.8898723070401753,\n",
        "    'subsample':  0.9737162445108123,\n",
        "    'reg_alpha': 2.026848600320330,\n",
        "    'reg_lambda': 3.034063856036684\n",
        "}\n",
        "\n",
        "# Create an XGBoost classifier with the best hyperparameters\n",
        "model = XGBClassifier(**best_hyperparameters)\n",
        "\n",
        "# Perform k-fold cross-validation\n",
        "cv = RepeatedKFold(n_splits=5, n_repeats=10, random_state=1)\n",
        "scores = cross_val_score(model, X_train, y_train, scoring='accuracy', cv=cv, n_jobs=-1)\n",
        "mean_accuracy = scores.mean()\n",
        "print(\"Mean Accuracy:\", mean_accuracy)"
      ]
    },
    {
      "cell_type": "code",
      "source": [
        "model.fit(X_train, y_train)\n",
        "pred = model.predict(X_train)\n",
        "training_accuracy= accuracy_score(y_train,pred)\n",
        "print(\"Accuracy on Training data: \",training_accuracy)\n",
        "pred = model.predict(X_test)\n",
        "test_accuracy= accuracy_score(y_test,pred)\n",
        "print(\"Accuracy on Test data: \",test_accuracy)\n",
        "xrd_Bayes_crystal = label_encoder.inverse_transform(pred)\n",
        "xrd_Bayes_crystal"
      ],
      "metadata": {
        "colab": {
          "base_uri": "https://localhost:8080/"
        },
        "id": "OcHSeyJnTcHL",
        "outputId": "0960ef45-130e-4d3e-8895-f4019c0fd399"
      },
      "execution_count": 15,
      "outputs": [
        {
          "output_type": "stream",
          "name": "stdout",
          "text": [
            "Accuracy on Training data:  0.9983221476510067\n",
            "Accuracy on Test data:  0.6308724832214765\n"
          ]
        },
        {
          "output_type": "execute_result",
          "data": {
            "text/plain": [
              "array(['trigonal', 'triclinic', 'cubic', 'triclinic', 'monoclinic',\n",
              "       'triclinic', 'triclinic', 'triclinic', 'monoclinic', 'triclinic',\n",
              "       'monoclinic', 'monoclinic', 'triclinic', 'triclinic', 'triclinic',\n",
              "       'triclinic', 'hexagonal', 'triclinic', 'triclinic', 'triclinic',\n",
              "       'monoclinic', 'triclinic', 'monoclinic', 'monoclinic',\n",
              "       'monoclinic', 'triclinic', 'monoclinic', 'triclinic', 'trigonal',\n",
              "       'monoclinic', 'cubic', 'triclinic', 'triclinic', 'monoclinic',\n",
              "       'triclinic', 'monoclinic', 'triclinic', 'monoclinic', 'monoclinic',\n",
              "       'triclinic', 'monoclinic', 'triclinic', 'triclinic', 'triclinic',\n",
              "       'triclinic', 'triclinic', 'triclinic', 'triclinic', 'cubic',\n",
              "       'triclinic', 'monoclinic', 'triclinic', 'orthorhombic',\n",
              "       'triclinic', 'triclinic', 'triclinic', 'triclinic', 'triclinic',\n",
              "       'triclinic', 'orthorhombic', 'triclinic', 'triclinic',\n",
              "       'monoclinic', 'cubic', 'hexagonal', 'triclinic', 'trigonal',\n",
              "       'monoclinic', 'triclinic', 'triclinic', 'triclinic', 'monoclinic',\n",
              "       'triclinic', 'monoclinic', 'triclinic', 'triclinic', 'triclinic',\n",
              "       'triclinic', 'triclinic', 'monoclinic', 'monoclinic',\n",
              "       'orthorhombic', 'triclinic', 'triclinic', 'triclinic', 'triclinic',\n",
              "       'triclinic', 'orthorhombic', 'monoclinic', 'triclinic',\n",
              "       'monoclinic', 'triclinic', 'triclinic', 'monoclinic', 'triclinic',\n",
              "       'triclinic', 'triclinic', 'monoclinic', 'monoclinic', 'triclinic',\n",
              "       'triclinic', 'triclinic', 'triclinic', 'triclinic', 'triclinic',\n",
              "       'triclinic', 'triclinic', 'triclinic', 'triclinic', 'triclinic',\n",
              "       'triclinic', 'triclinic', 'tetragonal', 'hexagonal', 'triclinic',\n",
              "       'triclinic', 'monoclinic', 'monoclinic', 'triclinic', 'triclinic',\n",
              "       'triclinic', 'triclinic', 'monoclinic', 'monoclinic', 'monoclinic',\n",
              "       'monoclinic', 'triclinic', 'triclinic', 'triclinic', 'triclinic',\n",
              "       'triclinic', 'monoclinic', 'triclinic', 'triclinic', 'triclinic',\n",
              "       'triclinic', 'triclinic', 'triclinic', 'triclinic', 'cubic',\n",
              "       'triclinic', 'triclinic', 'triclinic', 'triclinic', 'cubic',\n",
              "       'triclinic', 'triclinic', 'triclinic', 'triclinic'], dtype=object)"
            ]
          },
          "metadata": {},
          "execution_count": 15
        }
      ]
    },
    {
      "cell_type": "markdown",
      "source": [
        "SCM descriptor"
      ],
      "metadata": {
        "id": "Op2J8HKWMYrv"
      }
    },
    {
      "cell_type": "code",
      "source": [
        "df= pd.read_csv('sine_mp_data.csv')"
      ],
      "metadata": {
        "id": "x69got57MfET"
      },
      "execution_count": 17,
      "outputs": []
    },
    {
      "cell_type": "code",
      "execution_count": 18,
      "metadata": {
        "id": "rRIFumxeOF1r"
      },
      "outputs": [],
      "source": [
        "X=df.iloc[:,14:]\n",
        "Y=df['crystal_system']"
      ]
    },
    {
      "cell_type": "code",
      "execution_count": 19,
      "metadata": {
        "id": "QnL2nDAAPJqR"
      },
      "outputs": [],
      "source": [
        "from sklearn.preprocessing import StandardScaler\n",
        "# create a scaler object\n",
        "scaler = StandardScaler()\n",
        "\n",
        "# fit scaler on the training data\n",
        "scaler.fit(X)\n",
        "\n",
        "# apply the scaler to both the training and test data\n",
        "X_normalized = scaler.transform(X)"
      ]
    },
    {
      "cell_type": "code",
      "execution_count": 20,
      "metadata": {
        "id": "MTR4KX2tPYLl"
      },
      "outputs": [],
      "source": [
        "label_encoder = LabelEncoder()\n",
        "\n",
        "# Fit and transform label encoder on target values\n",
        "y_encoded = label_encoder.fit_transform(Y)"
      ]
    },
    {
      "cell_type": "code",
      "execution_count": 21,
      "metadata": {
        "id": "rGXYAQLCPjM5"
      },
      "outputs": [],
      "source": [
        "X_train, X_test, y_train, y_test = train_test_split(X_normalized, y_encoded, test_size=0.2, random_state=108)"
      ]
    },
    {
      "cell_type": "code",
      "source": [
        "# Define the search space for hyperparameters\n",
        "param_space = {\n",
        "    'max_depth': hp.quniform('max_depth', 3, 10, 1),\n",
        "    'gamma': hp.uniform('gamma', 0, 5),\n",
        "    'reg_alpha': hp.uniform('reg_alpha', 0, 5),\n",
        "    'reg_lambda': hp.uniform('reg_lambda', 0, 5),\n",
        "    'learning_rate': hp.loguniform('learning_rate', 0.01, 3),\n",
        "    'n_estimators': hp.quniform('n_estimators', 10, 500, 1),\n",
        "    'colsample_bytree': hp.uniform('colsample_bytree', 0.6, 1.0),\n",
        "    'subsample': hp.uniform('subsample', 0.6, 1.0),\n",
        "    'min_child_weight': hp.quniform('min_child_weight', 1, 10, 1)\n",
        "}\n",
        "\n",
        "# Define the objective function to minimize (negative accuracy)\n",
        "def objective(params):\n",
        "    model = XGBClassifier(\n",
        "        max_depth=int(params['max_depth']),\n",
        "        gamma=params['gamma'],\n",
        "        reg_alpha=params['reg_alpha'],\n",
        "        reg_lambda=params['reg_lambda'],\n",
        "        learning_rate=params['learning_rate'],\n",
        "        n_estimators=int(params['n_estimators']),\n",
        "        min_child_weight=int(params['min_child_weight'])\n",
        "    )\n",
        "    model.fit(X_train, y_train)\n",
        "    y_pred = model.predict(X_test)\n",
        "    accuracy = accuracy_score(y_test, y_pred)\n",
        "    return -accuracy  # Minimize negative accuracy\n",
        "\n",
        "# Perform Bayesian optimization\n",
        "best = fmin(\n",
        "    fn=objective,\n",
        "    space=param_space,\n",
        "    algo=tpe.suggest,\n",
        "    max_evals=50  # Number of optimization iterations\n",
        ")\n",
        "\n",
        "print(\"Best Hyperparameters:\", best)"
      ],
      "metadata": {
        "colab": {
          "base_uri": "https://localhost:8080/"
        },
        "outputId": "a59ab73b-270f-4c31-9cd9-cf70bf41425a",
        "id": "BZuNQvIiPrQm"
      },
      "execution_count": 22,
      "outputs": [
        {
          "output_type": "stream",
          "name": "stdout",
          "text": [
            "100%|██████████| 50/50 [02:48<00:00,  3.38s/trial, best loss: -0.6845637583892618]\n",
            "Best Hyperparameters: {'colsample_bytree': 0.7843941419008446, 'gamma': 4.437924434568651, 'learning_rate': 1.44761690016674, 'max_depth': 6.0, 'min_child_weight': 4.0, 'n_estimators': 38.0, 'reg_alpha': 0.3528037379168347, 'reg_lambda': 4.433746354678788, 'subsample': 0.9931218851055572}\n"
          ]
        }
      ]
    },
    {
      "cell_type": "code",
      "execution_count": 23,
      "metadata": {
        "colab": {
          "base_uri": "https://localhost:8080/"
        },
        "outputId": "7de52e84-3848-4a57-a89b-dcf7f9a038e8",
        "id": "EjzWyiZpQALm"
      },
      "outputs": [
        {
          "output_type": "stream",
          "name": "stdout",
          "text": [
            "Mean Accuracy: 0.6934439775910364\n"
          ]
        }
      ],
      "source": [
        "import xgboost\n",
        "from xgboost import XGBClassifier\n",
        "from sklearn.model_selection import KFold, cross_val_score\n",
        "\n",
        "# Define the best hyperparameters\n",
        "best_hyperparameters = {\n",
        "    'n_estimators': 38,\n",
        "    'learning_rate': 1.44761690016674,\n",
        "    'gamma':  4.437924434568651,\n",
        "    'max_depth': 6,\n",
        "    'min_child_weight': 4,\n",
        "    'colsample_bytree':  0.7843941419008446,\n",
        "    'subsample': 0.9931218851055572,\n",
        "    'reg_alpha':0.3528037379168347,\n",
        "    'reg_lambda': 4.433746354678788\n",
        "}\n",
        "\n",
        "# Create an XGBoost classifier with the best hyperparameters\n",
        "model = XGBClassifier(**best_hyperparameters)\n",
        "\n",
        "# Perform k-fold cross-validation\n",
        "cv = RepeatedKFold(n_splits=5, n_repeats=10, random_state=1)\n",
        "scores = cross_val_score(model, X_train, y_train, scoring='accuracy', cv=cv, n_jobs=-1)\n",
        "mean_accuracy = scores.mean()\n",
        "print(\"Mean Accuracy:\", mean_accuracy)"
      ]
    },
    {
      "cell_type": "code",
      "source": [
        "model.fit(X_train, y_train)\n",
        "pred = model.predict(X_train)\n",
        "training_accuracy= accuracy_score(y_train,pred)\n",
        "print(\"Accuracy on Training data: \",training_accuracy)\n",
        "pred = model.predict(X_test)\n",
        "test_accuracy= accuracy_score(y_test,pred)\n",
        "print(\"Accuracy on Test data: \",test_accuracy)\n",
        "Sine_Bayes_crystal = label_encoder.inverse_transform(pred)\n",
        "Sine_Bayes_crystal"
      ],
      "metadata": {
        "colab": {
          "base_uri": "https://localhost:8080/"
        },
        "outputId": "180672a3-fd9b-4399-bcea-a316697693f4",
        "id": "lZXT2HFVW0Lt"
      },
      "execution_count": 24,
      "outputs": [
        {
          "output_type": "stream",
          "name": "stdout",
          "text": [
            "Accuracy on Training data:  0.7953020134228188\n",
            "Accuracy on Test data:  0.6711409395973155\n"
          ]
        },
        {
          "output_type": "execute_result",
          "data": {
            "text/plain": [
              "array(['cubic', 'triclinic', 'monoclinic', 'triclinic', 'triclinic',\n",
              "       'triclinic', 'triclinic', 'cubic', 'triclinic', 'triclinic',\n",
              "       'monoclinic', 'triclinic', 'triclinic', 'triclinic', 'triclinic',\n",
              "       'triclinic', 'triclinic', 'triclinic', 'monoclinic', 'triclinic',\n",
              "       'monoclinic', 'triclinic', 'monoclinic', 'monoclinic', 'triclinic',\n",
              "       'triclinic', 'triclinic', 'triclinic', 'triclinic', 'monoclinic',\n",
              "       'cubic', 'triclinic', 'triclinic', 'monoclinic', 'triclinic',\n",
              "       'monoclinic', 'triclinic', 'monoclinic', 'triclinic', 'triclinic',\n",
              "       'triclinic', 'triclinic', 'monoclinic', 'triclinic', 'triclinic',\n",
              "       'monoclinic', 'triclinic', 'triclinic', 'cubic', 'triclinic',\n",
              "       'monoclinic', 'triclinic', 'orthorhombic', 'triclinic',\n",
              "       'monoclinic', 'monoclinic', 'triclinic', 'triclinic', 'monoclinic',\n",
              "       'triclinic', 'monoclinic', 'triclinic', 'triclinic', 'cubic',\n",
              "       'monoclinic', 'triclinic', 'monoclinic', 'monoclinic', 'triclinic',\n",
              "       'triclinic', 'triclinic', 'triclinic', 'triclinic', 'triclinic',\n",
              "       'triclinic', 'triclinic', 'monoclinic', 'monoclinic', 'triclinic',\n",
              "       'monoclinic', 'monoclinic', 'orthorhombic', 'triclinic',\n",
              "       'triclinic', 'triclinic', 'triclinic', 'monoclinic',\n",
              "       'orthorhombic', 'monoclinic', 'triclinic', 'triclinic',\n",
              "       'monoclinic', 'triclinic', 'monoclinic', 'cubic', 'triclinic',\n",
              "       'triclinic', 'cubic', 'monoclinic', 'triclinic', 'triclinic',\n",
              "       'triclinic', 'triclinic', 'triclinic', 'monoclinic', 'triclinic',\n",
              "       'triclinic', 'cubic', 'triclinic', 'monoclinic', 'triclinic',\n",
              "       'triclinic', 'triclinic', 'monoclinic', 'triclinic', 'monoclinic',\n",
              "       'triclinic', 'triclinic', 'triclinic', 'triclinic', 'monoclinic',\n",
              "       'triclinic', 'triclinic', 'triclinic', 'triclinic', 'triclinic',\n",
              "       'triclinic', 'cubic', 'triclinic', 'triclinic', 'monoclinic',\n",
              "       'triclinic', 'monoclinic', 'triclinic', 'triclinic', 'triclinic',\n",
              "       'triclinic', 'triclinic', 'triclinic', 'monoclinic', 'triclinic',\n",
              "       'triclinic', 'triclinic', 'triclinic', 'cubic', 'triclinic',\n",
              "       'triclinic', 'triclinic', 'orthorhombic'], dtype=object)"
            ]
          },
          "metadata": {},
          "execution_count": 24
        }
      ]
    },
    {
      "cell_type": "markdown",
      "source": [
        "OFM Descriptor"
      ],
      "metadata": {
        "id": "2C6qoY_GXH5l"
      }
    },
    {
      "cell_type": "code",
      "source": [
        "df= pd.read_csv('Orbital_mp_dataset.csv')"
      ],
      "metadata": {
        "id": "cutcZb4sXLOW"
      },
      "execution_count": 25,
      "outputs": []
    },
    {
      "cell_type": "code",
      "execution_count": 26,
      "metadata": {
        "id": "Hd97hj_0Xgwx"
      },
      "outputs": [],
      "source": [
        "X=df.iloc[:,14:]\n",
        "Y=df['crystal_system']"
      ]
    },
    {
      "cell_type": "code",
      "source": [
        "from sklearn.preprocessing import StandardScaler\n",
        "# create a scaler object\n",
        "scaler = StandardScaler()\n",
        "\n",
        "# fit scaler on the training data\n",
        "scaler.fit(X)\n",
        "\n",
        "# apply the scaler to both the training and test data\n",
        "X_normalized = scaler.transform(X)"
      ],
      "metadata": {
        "id": "y0OFDaVaXzM4"
      },
      "execution_count": 27,
      "outputs": []
    },
    {
      "cell_type": "code",
      "execution_count": 28,
      "metadata": {
        "id": "PTnf7AfHXnoV"
      },
      "outputs": [],
      "source": [
        "label_encoder = LabelEncoder()\n",
        "\n",
        "# Fit and transform label encoder on target values\n",
        "y_encoded = label_encoder.fit_transform(Y)"
      ]
    },
    {
      "cell_type": "code",
      "execution_count": 29,
      "metadata": {
        "id": "pzW-8I36XtrE"
      },
      "outputs": [],
      "source": [
        "X_train, X_test, y_train, y_test = train_test_split(X_normalized, y_encoded, test_size=0.2, random_state=108)"
      ]
    },
    {
      "cell_type": "code",
      "source": [
        "# Define the search space for hyperparameters\n",
        "param_space = {\n",
        "    'max_depth': hp.quniform('max_depth', 3, 10, 1),\n",
        "    'gamma': hp.uniform('gamma', 0, 5),\n",
        "    'reg_alpha': hp.uniform('reg_alpha', 0, 5),\n",
        "    'reg_lambda': hp.uniform('reg_lambda', 0, 5),\n",
        "    'learning_rate': hp.loguniform('learning_rate', 0.01, 3),\n",
        "    'n_estimators': hp.quniform('n_estimators', 10, 500, 1),\n",
        "    'colsample_bytree': hp.uniform('colsample_bytree', 0.6, 1.0),\n",
        "    'subsample': hp.uniform('subsample', 0.6, 1.0),\n",
        "    'min_child_weight': hp.quniform('min_child_weight', 1, 10, 1)\n",
        "}\n",
        "\n",
        "# Define the objective function to minimize (negative accuracy)\n",
        "def objective(params):\n",
        "    model = XGBClassifier(\n",
        "        max_depth=int(params['max_depth']),\n",
        "        gamma=params['gamma'],\n",
        "        reg_alpha=params['reg_alpha'],\n",
        "        reg_lambda=params['reg_lambda'],\n",
        "        learning_rate=params['learning_rate'],\n",
        "        n_estimators=int(params['n_estimators']),\n",
        "        min_child_weight=int(params['min_child_weight'])\n",
        "    )\n",
        "    model.fit(X_train, y_train)\n",
        "    y_pred = model.predict(X_test)\n",
        "    accuracy = accuracy_score(y_test, y_pred)\n",
        "    return -accuracy  # Minimize negative accuracy\n",
        "\n",
        "# Perform Bayesian optimization\n",
        "best = fmin(\n",
        "    fn=objective,\n",
        "    space=param_space,\n",
        "    algo=tpe.suggest,\n",
        "    max_evals=50  # Number of optimization iterations\n",
        ")\n",
        "\n",
        "print(\"Best Hyperparameters:\", best)"
      ],
      "metadata": {
        "colab": {
          "base_uri": "https://localhost:8080/"
        },
        "outputId": "1b901fe6-8e40-40ca-a948-193da4e89695",
        "id": "cTfQKQL3YH-S"
      },
      "execution_count": 30,
      "outputs": [
        {
          "output_type": "stream",
          "name": "stdout",
          "text": [
            "100%|██████████| 50/50 [13:28<00:00, 16.17s/trial, best loss: -0.6778523489932886]\n",
            "Best Hyperparameters: {'colsample_bytree': 0.9898377591466134, 'gamma': 3.2449384628001896, 'learning_rate': 1.0414770546861243, 'max_depth': 7.0, 'min_child_weight': 2.0, 'n_estimators': 294.0, 'reg_alpha': 2.264100689692387, 'reg_lambda': 0.018928928896292163, 'subsample': 0.9206812497078292}\n"
          ]
        }
      ]
    },
    {
      "cell_type": "code",
      "execution_count": 33,
      "metadata": {
        "colab": {
          "base_uri": "https://localhost:8080/"
        },
        "outputId": "9760bf77-3037-4f5f-eca2-ab0a8e0d5bf9",
        "id": "agvx_LfGYXUr"
      },
      "outputs": [
        {
          "output_type": "stream",
          "name": "stdout",
          "text": [
            "Mean Accuracy: 0.6512605042016806\n"
          ]
        }
      ],
      "source": [
        "import xgboost\n",
        "from xgboost import XGBClassifier\n",
        "\n",
        "# Define the best hyperparameters\n",
        "best_hyperparameters = {\n",
        "    'n_estimators': 294,\n",
        "    'learning_rate': 1.0414770546861243,\n",
        "    'gamma': 3.2449384628001896,\n",
        "    'max_depth': 7,\n",
        "    'min_child_weight': 2,\n",
        "    'colsample_bytree': 0.9898377591466134,\n",
        "     'subsample': 0.9206812497078292,\n",
        "    'reg_alpha':  2.264100689692387,\n",
        "    'reg_lambda': 0.018928928896292163\n",
        "}\n",
        "\n",
        "# Create an XGBoost classifier with the best hyperparameters\n",
        "model = XGBClassifier(**best_hyperparameters)\n",
        "\n",
        "# Perform k-fold cross-validation\n",
        "cv = RepeatedKFold(n_splits=5, n_repeats=10, random_state=1)\n",
        "scores = cross_val_score(model, X_train, y_train, scoring='accuracy', cv=cv, n_jobs=-1)\n",
        "mean_accuracy = scores.mean()\n",
        "print(\"Mean Accuracy:\", mean_accuracy)"
      ]
    },
    {
      "cell_type": "code",
      "source": [
        "model.fit(X_train, y_train)\n",
        "pred = model.predict(X_train)\n",
        "training_accuracy= accuracy_score(y_train,pred)\n",
        "print(\"Accuracy on Training data: \",training_accuracy)\n",
        "pred = model.predict(X_test)\n",
        "test_accuracy= accuracy_score(y_test,pred)\n",
        "print(\"Accuracy on Test data: \",test_accuracy)\n",
        "Orbital_Bayes_crystal = label_encoder.inverse_transform(pred)\n",
        "Orbital_Bayes_crystal"
      ],
      "metadata": {
        "colab": {
          "base_uri": "https://localhost:8080/"
        },
        "outputId": "45bf4fe0-3000-4dc5-fabb-5e933ccc3c39",
        "id": "Iwj5JXXsYjZi"
      },
      "execution_count": 34,
      "outputs": [
        {
          "output_type": "stream",
          "name": "stdout",
          "text": [
            "Accuracy on Training data:  0.7277310924369748\n",
            "Accuracy on Test data:  0.6510067114093959\n"
          ]
        },
        {
          "output_type": "execute_result",
          "data": {
            "text/plain": [
              "array(['cubic', 'triclinic', 'monoclinic', 'triclinic', 'triclinic',\n",
              "       'triclinic', 'triclinic', 'monoclinic', 'monoclinic', 'triclinic',\n",
              "       'triclinic', 'triclinic', 'monoclinic', 'triclinic', 'triclinic',\n",
              "       'triclinic', 'triclinic', 'triclinic', 'monoclinic', 'triclinic',\n",
              "       'triclinic', 'triclinic', 'monoclinic', 'triclinic', 'triclinic',\n",
              "       'triclinic', 'cubic', 'triclinic', 'triclinic', 'triclinic',\n",
              "       'triclinic', 'cubic', 'triclinic', 'triclinic', 'triclinic',\n",
              "       'triclinic', 'triclinic', 'triclinic', 'triclinic', 'triclinic',\n",
              "       'monoclinic', 'triclinic', 'triclinic', 'triclinic', 'triclinic',\n",
              "       'triclinic', 'triclinic', 'triclinic', 'monoclinic', 'triclinic',\n",
              "       'triclinic', 'triclinic', 'triclinic', 'triclinic', 'monoclinic',\n",
              "       'triclinic', 'monoclinic', 'triclinic', 'triclinic', 'monoclinic',\n",
              "       'monoclinic', 'monoclinic', 'triclinic', 'triclinic', 'monoclinic',\n",
              "       'triclinic', 'triclinic', 'triclinic', 'orthorhombic',\n",
              "       'monoclinic', 'triclinic', 'triclinic', 'triclinic', 'triclinic',\n",
              "       'triclinic', 'triclinic', 'monoclinic', 'triclinic', 'triclinic',\n",
              "       'triclinic', 'monoclinic', 'monoclinic', 'triclinic', 'monoclinic',\n",
              "       'triclinic', 'monoclinic', 'triclinic', 'monoclinic', 'triclinic',\n",
              "       'monoclinic', 'triclinic', 'triclinic', 'triclinic', 'triclinic',\n",
              "       'triclinic', 'triclinic', 'triclinic', 'triclinic', 'triclinic',\n",
              "       'triclinic', 'triclinic', 'triclinic', 'monoclinic', 'monoclinic',\n",
              "       'triclinic', 'monoclinic', 'triclinic', 'triclinic', 'triclinic',\n",
              "       'triclinic', 'triclinic', 'triclinic', 'triclinic', 'triclinic',\n",
              "       'triclinic', 'monoclinic', 'triclinic', 'triclinic',\n",
              "       'orthorhombic', 'triclinic', 'monoclinic', 'monoclinic',\n",
              "       'triclinic', 'triclinic', 'triclinic', 'triclinic', 'triclinic',\n",
              "       'triclinic', 'triclinic', 'triclinic', 'monoclinic', 'triclinic',\n",
              "       'triclinic', 'triclinic', 'triclinic', 'monoclinic', 'triclinic',\n",
              "       'triclinic', 'monoclinic', 'monoclinic', 'cubic', 'triclinic',\n",
              "       'monoclinic', 'triclinic', 'triclinic', 'cubic', 'triclinic',\n",
              "       'cubic', 'triclinic'], dtype=object)"
            ]
          },
          "metadata": {},
          "execution_count": 34
        }
      ]
    }
  ],
  "metadata": {
    "colab": {
      "provenance": [],
      "authorship_tag": "ABX9TyOWw2/1Mf81HKWz+hVWXV1F",
      "include_colab_link": true
    },
    "kernelspec": {
      "display_name": "Python 3",
      "name": "python3"
    },
    "language_info": {
      "name": "python"
    }
  },
  "nbformat": 4,
  "nbformat_minor": 0
}