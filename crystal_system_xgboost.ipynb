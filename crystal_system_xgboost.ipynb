{
  "cells": [
    {
      "cell_type": "markdown",
      "metadata": {
        "id": "view-in-github",
        "colab_type": "text"
      },
      "source": [
        "<a href=\"https://colab.research.google.com/github/TuragDev/Predicting-Crystal-System-with-ML-DL/blob/main/crystal_system_xgboost.ipynb\" target=\"_parent\"><img src=\"https://colab.research.google.com/assets/colab-badge.svg\" alt=\"Open In Colab\"/></a>"
      ]
    },
    {
      "cell_type": "code",
      "execution_count": 1,
      "metadata": {
        "colab": {
          "base_uri": "https://localhost:8080/"
        },
        "id": "WN9hQyOkNNaR",
        "outputId": "de833422-ee11-45fc-f7f6-440f258e9cd2"
      },
      "outputs": [
        {
          "output_type": "stream",
          "name": "stdout",
          "text": [
            "Collecting scikit-optimize\n",
            "  Downloading scikit_optimize-0.9.0-py2.py3-none-any.whl (100 kB)\n",
            "\u001b[?25l     \u001b[90m━━━━━━━━━━━━━━━━━━━━━━━━━━━━━━━━━━━━━━━━\u001b[0m \u001b[32m0.0/100.3 kB\u001b[0m \u001b[31m?\u001b[0m eta \u001b[36m-:--:--\u001b[0m\r\u001b[2K     \u001b[90m━━━━━━━━━━━━━━━━━━━━━━━━━━━━━━━━━━━━━━━━\u001b[0m \u001b[32m100.3/100.3 kB\u001b[0m \u001b[31m2.9 MB/s\u001b[0m eta \u001b[36m0:00:00\u001b[0m\n",
            "\u001b[?25hRequirement already satisfied: joblib>=0.11 in /usr/local/lib/python3.10/dist-packages (from scikit-optimize) (1.3.2)\n",
            "Collecting pyaml>=16.9 (from scikit-optimize)\n",
            "  Downloading pyaml-23.9.7-py3-none-any.whl (23 kB)\n",
            "Requirement already satisfied: numpy>=1.13.3 in /usr/local/lib/python3.10/dist-packages (from scikit-optimize) (1.23.5)\n",
            "Requirement already satisfied: scipy>=0.19.1 in /usr/local/lib/python3.10/dist-packages (from scikit-optimize) (1.11.3)\n",
            "Requirement already satisfied: scikit-learn>=0.20.0 in /usr/local/lib/python3.10/dist-packages (from scikit-optimize) (1.2.2)\n",
            "Requirement already satisfied: PyYAML in /usr/local/lib/python3.10/dist-packages (from pyaml>=16.9->scikit-optimize) (6.0.1)\n",
            "Requirement already satisfied: threadpoolctl>=2.0.0 in /usr/local/lib/python3.10/dist-packages (from scikit-learn>=0.20.0->scikit-optimize) (3.2.0)\n",
            "Installing collected packages: pyaml, scikit-optimize\n",
            "Successfully installed pyaml-23.9.7 scikit-optimize-0.9.0\n"
          ]
        }
      ],
      "source": [
        "!pip install scikit-optimize"
      ]
    },
    {
      "cell_type": "code",
      "execution_count": 2,
      "metadata": {
        "colab": {
          "base_uri": "https://localhost:8080/"
        },
        "id": "MXChfFI1GilV",
        "outputId": "4b07c10a-9a5a-4773-c9cf-5fe39d2b9040"
      },
      "outputs": [
        {
          "output_type": "stream",
          "name": "stdout",
          "text": [
            "Requirement already satisfied: xgboost in /usr/local/lib/python3.10/dist-packages (2.0.1)\n",
            "Requirement already satisfied: numpy in /usr/local/lib/python3.10/dist-packages (from xgboost) (1.23.5)\n",
            "Requirement already satisfied: scipy in /usr/local/lib/python3.10/dist-packages (from xgboost) (1.11.3)\n"
          ]
        }
      ],
      "source": [
        "!pip install xgboost"
      ]
    },
    {
      "cell_type": "code",
      "execution_count": 3,
      "metadata": {
        "colab": {
          "base_uri": "https://localhost:8080/",
          "height": 252
        },
        "id": "6sqqCzpNSp1W",
        "outputId": "9acaf3c8-f004-45d1-e386-f42745754cd9"
      },
      "outputs": [
        {
          "output_type": "display_data",
          "data": {
            "text/plain": [
              "<IPython.core.display.HTML object>"
            ],
            "text/html": [
              "\n",
              "     <input type=\"file\" id=\"files-82bb2a3f-bac9-40df-9972-728fab8b2d3b\" name=\"files[]\" multiple disabled\n",
              "        style=\"border:none\" />\n",
              "     <output id=\"result-82bb2a3f-bac9-40df-9972-728fab8b2d3b\">\n",
              "      Upload widget is only available when the cell has been executed in the\n",
              "      current browser session. Please rerun this cell to enable.\n",
              "      </output>\n",
              "      <script>// Copyright 2017 Google LLC\n",
              "//\n",
              "// Licensed under the Apache License, Version 2.0 (the \"License\");\n",
              "// you may not use this file except in compliance with the License.\n",
              "// You may obtain a copy of the License at\n",
              "//\n",
              "//      http://www.apache.org/licenses/LICENSE-2.0\n",
              "//\n",
              "// Unless required by applicable law or agreed to in writing, software\n",
              "// distributed under the License is distributed on an \"AS IS\" BASIS,\n",
              "// WITHOUT WARRANTIES OR CONDITIONS OF ANY KIND, either express or implied.\n",
              "// See the License for the specific language governing permissions and\n",
              "// limitations under the License.\n",
              "\n",
              "/**\n",
              " * @fileoverview Helpers for google.colab Python module.\n",
              " */\n",
              "(function(scope) {\n",
              "function span(text, styleAttributes = {}) {\n",
              "  const element = document.createElement('span');\n",
              "  element.textContent = text;\n",
              "  for (const key of Object.keys(styleAttributes)) {\n",
              "    element.style[key] = styleAttributes[key];\n",
              "  }\n",
              "  return element;\n",
              "}\n",
              "\n",
              "// Max number of bytes which will be uploaded at a time.\n",
              "const MAX_PAYLOAD_SIZE = 100 * 1024;\n",
              "\n",
              "function _uploadFiles(inputId, outputId) {\n",
              "  const steps = uploadFilesStep(inputId, outputId);\n",
              "  const outputElement = document.getElementById(outputId);\n",
              "  // Cache steps on the outputElement to make it available for the next call\n",
              "  // to uploadFilesContinue from Python.\n",
              "  outputElement.steps = steps;\n",
              "\n",
              "  return _uploadFilesContinue(outputId);\n",
              "}\n",
              "\n",
              "// This is roughly an async generator (not supported in the browser yet),\n",
              "// where there are multiple asynchronous steps and the Python side is going\n",
              "// to poll for completion of each step.\n",
              "// This uses a Promise to block the python side on completion of each step,\n",
              "// then passes the result of the previous step as the input to the next step.\n",
              "function _uploadFilesContinue(outputId) {\n",
              "  const outputElement = document.getElementById(outputId);\n",
              "  const steps = outputElement.steps;\n",
              "\n",
              "  const next = steps.next(outputElement.lastPromiseValue);\n",
              "  return Promise.resolve(next.value.promise).then((value) => {\n",
              "    // Cache the last promise value to make it available to the next\n",
              "    // step of the generator.\n",
              "    outputElement.lastPromiseValue = value;\n",
              "    return next.value.response;\n",
              "  });\n",
              "}\n",
              "\n",
              "/**\n",
              " * Generator function which is called between each async step of the upload\n",
              " * process.\n",
              " * @param {string} inputId Element ID of the input file picker element.\n",
              " * @param {string} outputId Element ID of the output display.\n",
              " * @return {!Iterable<!Object>} Iterable of next steps.\n",
              " */\n",
              "function* uploadFilesStep(inputId, outputId) {\n",
              "  const inputElement = document.getElementById(inputId);\n",
              "  inputElement.disabled = false;\n",
              "\n",
              "  const outputElement = document.getElementById(outputId);\n",
              "  outputElement.innerHTML = '';\n",
              "\n",
              "  const pickedPromise = new Promise((resolve) => {\n",
              "    inputElement.addEventListener('change', (e) => {\n",
              "      resolve(e.target.files);\n",
              "    });\n",
              "  });\n",
              "\n",
              "  const cancel = document.createElement('button');\n",
              "  inputElement.parentElement.appendChild(cancel);\n",
              "  cancel.textContent = 'Cancel upload';\n",
              "  const cancelPromise = new Promise((resolve) => {\n",
              "    cancel.onclick = () => {\n",
              "      resolve(null);\n",
              "    };\n",
              "  });\n",
              "\n",
              "  // Wait for the user to pick the files.\n",
              "  const files = yield {\n",
              "    promise: Promise.race([pickedPromise, cancelPromise]),\n",
              "    response: {\n",
              "      action: 'starting',\n",
              "    }\n",
              "  };\n",
              "\n",
              "  cancel.remove();\n",
              "\n",
              "  // Disable the input element since further picks are not allowed.\n",
              "  inputElement.disabled = true;\n",
              "\n",
              "  if (!files) {\n",
              "    return {\n",
              "      response: {\n",
              "        action: 'complete',\n",
              "      }\n",
              "    };\n",
              "  }\n",
              "\n",
              "  for (const file of files) {\n",
              "    const li = document.createElement('li');\n",
              "    li.append(span(file.name, {fontWeight: 'bold'}));\n",
              "    li.append(span(\n",
              "        `(${file.type || 'n/a'}) - ${file.size} bytes, ` +\n",
              "        `last modified: ${\n",
              "            file.lastModifiedDate ? file.lastModifiedDate.toLocaleDateString() :\n",
              "                                    'n/a'} - `));\n",
              "    const percent = span('0% done');\n",
              "    li.appendChild(percent);\n",
              "\n",
              "    outputElement.appendChild(li);\n",
              "\n",
              "    const fileDataPromise = new Promise((resolve) => {\n",
              "      const reader = new FileReader();\n",
              "      reader.onload = (e) => {\n",
              "        resolve(e.target.result);\n",
              "      };\n",
              "      reader.readAsArrayBuffer(file);\n",
              "    });\n",
              "    // Wait for the data to be ready.\n",
              "    let fileData = yield {\n",
              "      promise: fileDataPromise,\n",
              "      response: {\n",
              "        action: 'continue',\n",
              "      }\n",
              "    };\n",
              "\n",
              "    // Use a chunked sending to avoid message size limits. See b/62115660.\n",
              "    let position = 0;\n",
              "    do {\n",
              "      const length = Math.min(fileData.byteLength - position, MAX_PAYLOAD_SIZE);\n",
              "      const chunk = new Uint8Array(fileData, position, length);\n",
              "      position += length;\n",
              "\n",
              "      const base64 = btoa(String.fromCharCode.apply(null, chunk));\n",
              "      yield {\n",
              "        response: {\n",
              "          action: 'append',\n",
              "          file: file.name,\n",
              "          data: base64,\n",
              "        },\n",
              "      };\n",
              "\n",
              "      let percentDone = fileData.byteLength === 0 ?\n",
              "          100 :\n",
              "          Math.round((position / fileData.byteLength) * 100);\n",
              "      percent.textContent = `${percentDone}% done`;\n",
              "\n",
              "    } while (position < fileData.byteLength);\n",
              "  }\n",
              "\n",
              "  // All done.\n",
              "  yield {\n",
              "    response: {\n",
              "      action: 'complete',\n",
              "    }\n",
              "  };\n",
              "}\n",
              "\n",
              "scope.google = scope.google || {};\n",
              "scope.google.colab = scope.google.colab || {};\n",
              "scope.google.colab._files = {\n",
              "  _uploadFiles,\n",
              "  _uploadFilesContinue,\n",
              "};\n",
              "})(self);\n",
              "</script> "
            ]
          },
          "metadata": {}
        },
        {
          "output_type": "stream",
          "name": "stdout",
          "text": [
            "Saving Orbital_test.csv to Orbital_test.csv\n",
            "Saving Orbital_train.csv to Orbital_train.csv\n",
            "Saving Sine_test.csv to Sine_test.csv\n",
            "Saving Sine_train.csv to Sine_train.csv\n",
            "Saving Xrd_test.csv to Xrd_test.csv\n",
            "Saving Xrd_train.csv to Xrd_train.csv\n"
          ]
        }
      ],
      "source": [
        "from google.colab import files\n",
        "uploaded= files.upload()"
      ]
    },
    {
      "cell_type": "code",
      "execution_count": 4,
      "metadata": {
        "id": "vHuFHFb0TPDt"
      },
      "outputs": [],
      "source": [
        "import joblib\n",
        "from sklearn.model_selection import train_test_split\n",
        "import numpy as np\n",
        "\n",
        "import pandas as pd\n",
        "\n",
        "from sklearn.model_selection import GridSearchCV, RepeatedKFold\n",
        "from sklearn.model_selection import train_test_split\n",
        "from sklearn.metrics import mean_squared_error as MSE\n",
        "from sklearn.preprocessing import StandardScaler\n",
        "from sklearn.metrics import mean_squared_error, r2_score\n",
        "\n",
        "from sklearn.model_selection import train_test_split\n",
        "\n",
        "import numpy as np\n",
        "\n",
        "import pickle\n",
        "import pandas as pd\n",
        "from sklearn.preprocessing import LabelEncoder\n",
        "\n",
        "import sys\n",
        "# In[3]:\n",
        "\n",
        "\n",
        "from sklearn import svm\n",
        "from sklearn.model_selection import GridSearchCV\n",
        "from sklearn.model_selection import RandomizedSearchCV\n",
        "from numpy import mean\n",
        "from numpy import std\n",
        "from sklearn.datasets import make_classification\n",
        "from sklearn.model_selection import KFold\n",
        "from sklearn.model_selection import GridSearchCV\n",
        "from sklearn.ensemble import RandomForestClassifier\n",
        "from sklearn.tree import DecisionTreeClassifier\n",
        "from xgboost import XGBClassifier\n",
        "from sklearn.metrics import accuracy_score\n",
        "import matplotlib.pyplot as plt\n",
        "from pandas import read_csv\n",
        "from sklearn.model_selection import cross_val_score\n",
        "from sklearn.svm import SVC\n",
        "from sklearn.model_selection import RepeatedStratifiedKFold\n",
        "from skopt import BayesSearchCV\n"
      ]
    },
    {
      "cell_type": "markdown",
      "source": [
        "Sine descriptor"
      ],
      "metadata": {
        "id": "Op2J8HKWMYrv"
      }
    },
    {
      "cell_type": "code",
      "source": [
        "df= pd.read_csv('Sine_train.csv')\n",
        "X_train=df.iloc[:,14:]\n",
        "y_train=df['crystal_system']"
      ],
      "metadata": {
        "id": "bH6LZSe6wgZx"
      },
      "execution_count": 5,
      "outputs": []
    },
    {
      "cell_type": "code",
      "source": [
        "df=pd.read_csv('Sine_test.csv')\n",
        "X_test=df.iloc[:,14:]\n",
        "\n",
        "y_test=df['crystal_system']"
      ],
      "metadata": {
        "id": "U4bHNO4Ow1ds"
      },
      "execution_count": 6,
      "outputs": []
    },
    {
      "cell_type": "code",
      "source": [
        "scaler = StandardScaler()\n",
        "\n",
        "# fit scaler on the training data\n",
        "scaler.fit(X_train)\n",
        "\n",
        "# apply the scaler to both the training and test data\n",
        "X_train_normalized = scaler.transform(X_train)\n",
        "\n",
        "X_test_normalized = scaler.transform(X_test)\n",
        "label_encoder = LabelEncoder()\n",
        "\n",
        "# Fit and transform label encoder on target values\n",
        "y_train_encoded = label_encoder.fit_transform(y_train)\n",
        "y_test_encoded = label_encoder.fit_transform(y_test)"
      ],
      "metadata": {
        "id": "vyxNLXzSw-Lw"
      },
      "execution_count": 7,
      "outputs": []
    },
    {
      "cell_type": "code",
      "source": [
        "import xgboost\n",
        "from hyperopt import fmin, tpe, hp\n",
        "from xgboost import XGBClassifier\n",
        "from sklearn.model_selection import KFold, cross_val_score"
      ],
      "metadata": {
        "id": "5sb7sLBISDp4"
      },
      "execution_count": 8,
      "outputs": []
    },
    {
      "cell_type": "code",
      "source": [
        "# Define the search space for hyperparameters\n",
        "param_space = {\n",
        "    'max_depth': hp.quniform('max_depth', 3, 10, 1),\n",
        "    'gamma': hp.uniform('gamma', 0, 5),\n",
        "    'reg_alpha': hp.uniform('reg_alpha', 0, 5),\n",
        "    'reg_lambda': hp.uniform('reg_lambda', 0, 5),\n",
        "    'learning_rate': hp.loguniform('learning_rate', 0.01, 3),\n",
        "    'n_estimators': hp.quniform('n_estimators', 10, 500, 1),\n",
        "    'colsample_bytree': hp.uniform('colsample_bytree', 0.6, 1.0),\n",
        "    'subsample': hp.uniform('subsample', 0.6, 1.0),\n",
        "    'min_child_weight': hp.quniform('min_child_weight', 1, 10, 1)\n",
        "}\n",
        "\n",
        "# Define the objective function to minimize (negative accuracy)\n",
        "def objective(params):\n",
        "    model = XGBClassifier(\n",
        "        max_depth=int(params['max_depth']),\n",
        "        gamma=params['gamma'],\n",
        "        reg_alpha=params['reg_alpha'],\n",
        "        reg_lambda=params['reg_lambda'],\n",
        "        learning_rate=params['learning_rate'],\n",
        "        n_estimators=int(params['n_estimators']),\n",
        "        min_child_weight=int(params['min_child_weight'])\n",
        "    )\n",
        "    model.fit(X_train_normalized, y_train_encoded)\n",
        "    y_pred = model.predict(X_test_normalized)\n",
        "    accuracy = accuracy_score(y_test_encoded, y_pred)\n",
        "    return -accuracy  # Minimize negative accuracy\n",
        "\n",
        "# Perform Bayesian optimization\n",
        "best = fmin(\n",
        "    fn=objective,\n",
        "    space=param_space,\n",
        "    algo=tpe.suggest,\n",
        "    max_evals=50  # Number of optimization iterations\n",
        ")\n",
        "\n",
        "print(\"Best Hyperparameters:\", best)"
      ],
      "metadata": {
        "colab": {
          "base_uri": "https://localhost:8080/"
        },
        "outputId": "4ea5c018-59c0-4da6-d8e9-cb6423b3dde1",
        "id": "-_GvKmhMSWB2"
      },
      "execution_count": 9,
      "outputs": [
        {
          "output_type": "stream",
          "name": "stdout",
          "text": [
            "100%|██████████| 50/50 [00:33<00:00,  1.49trial/s, best loss: -0.738255033557047]\n",
            "Best Hyperparameters: {'colsample_bytree': 0.6832609686457255, 'gamma': 2.0866642764546004, 'learning_rate': 1.6128804800182361, 'max_depth': 9.0, 'min_child_weight': 2.0, 'n_estimators': 129.0, 'reg_alpha': 2.0288073764783987, 'reg_lambda': 0.0013483446398343535, 'subsample': 0.7908974367287493}\n"
          ]
        }
      ]
    },
    {
      "cell_type": "code",
      "execution_count": 10,
      "metadata": {
        "colab": {
          "base_uri": "https://localhost:8080/"
        },
        "outputId": "1fe2ca11-f6c3-482d-ec7c-cddd0ff5f4c9",
        "id": "EjzWyiZpQALm"
      },
      "outputs": [
        {
          "output_type": "stream",
          "name": "stdout",
          "text": [
            "Mean Accuracy: 0.6573809523809524\n"
          ]
        }
      ],
      "source": [
        "import xgboost\n",
        "from xgboost import XGBClassifier\n",
        "from sklearn.model_selection import KFold, cross_val_score\n",
        "\n",
        "# Define the best hyperparameters\n",
        "best_hyperparameters = {\n",
        "    'n_estimators': 129,\n",
        "    'learning_rate': 1.6128804800182361,\n",
        "    'gamma':  2.0866642764546004,\n",
        "    'max_depth': 9,\n",
        "    'min_child_weight': 2,\n",
        "    'colsample_bytree': 0.6832609686457255,\n",
        "    'subsample': 0.6246441675497391,\n",
        "    'reg_alpha': 2.0288073764783987,\n",
        "    'reg_lambda':0.7908974367287493\n",
        "}\n",
        "\n",
        "# Create an XGBoost classifier with the best hyperparameters\n",
        "model = XGBClassifier(**best_hyperparameters)\n",
        "\n",
        "# Perform k-fold cross-validation\n",
        "cv = RepeatedKFold(n_splits=5, n_repeats=10, random_state=1)\n",
        "scores = cross_val_score(model, X_train_normalized, y_train_encoded, scoring='accuracy', cv=cv, n_jobs=-1)\n",
        "mean_accuracy = scores.mean()\n",
        "print(\"Mean Accuracy:\", mean_accuracy)"
      ]
    },
    {
      "cell_type": "code",
      "source": [
        "model.fit(X_train_normalized, y_train_encoded)\n",
        "pred = model.predict(X_train_normalized)\n",
        "training_accuracy= accuracy_score(y_train_encoded,pred)\n",
        "print(\"Accuracy on Training data: \",training_accuracy)\n",
        "pred = model.predict(X_test_normalized)\n",
        "test_accuracy= accuracy_score(y_test_encoded,pred)\n",
        "print(\"Accuracy on Test data: \",test_accuracy)\n",
        "Sine_Bayes_crystal = label_encoder.inverse_transform(pred)\n",
        "Sine_Bayes_crystal"
      ],
      "metadata": {
        "colab": {
          "base_uri": "https://localhost:8080/"
        },
        "outputId": "08de58db-437a-4f0a-87f3-d6ddc80c29b0",
        "id": "lZXT2HFVW0Lt"
      },
      "execution_count": 11,
      "outputs": [
        {
          "output_type": "stream",
          "name": "stdout",
          "text": [
            "Accuracy on Training data:  0.8238255033557047\n",
            "Accuracy on Test data:  0.6510067114093959\n"
          ]
        },
        {
          "output_type": "execute_result",
          "data": {
            "text/plain": [
              "array(['monoclinic', 'monoclinic', 'triclinic', 'triclinic', 'monoclinic',\n",
              "       'triclinic', 'monoclinic', 'triclinic', 'triclinic', 'triclinic',\n",
              "       'monoclinic', 'triclinic', 'monoclinic', 'triclinic', 'triclinic',\n",
              "       'monoclinic', 'monoclinic', 'monoclinic', 'monoclinic',\n",
              "       'triclinic', 'triclinic', 'triclinic', 'triclinic', 'monoclinic',\n",
              "       'triclinic', 'monoclinic', 'triclinic', 'monoclinic', 'monoclinic',\n",
              "       'monoclinic', 'triclinic', 'triclinic', 'monoclinic', 'triclinic',\n",
              "       'triclinic', 'triclinic', 'triclinic', 'triclinic', 'monoclinic',\n",
              "       'triclinic', 'triclinic', 'monoclinic', 'triclinic', 'monoclinic',\n",
              "       'triclinic', 'monoclinic', 'triclinic', 'monoclinic', 'triclinic',\n",
              "       'triclinic', 'triclinic', 'triclinic', 'triclinic', 'monoclinic',\n",
              "       'triclinic', 'triclinic', 'triclinic', 'triclinic', 'triclinic',\n",
              "       'triclinic', 'monoclinic', 'triclinic', 'triclinic', 'triclinic',\n",
              "       'triclinic', 'monoclinic', 'triclinic', 'triclinic', 'triclinic',\n",
              "       'monoclinic', 'triclinic', 'trigonal', 'triclinic', 'triclinic',\n",
              "       'triclinic', 'triclinic', 'triclinic', 'triclinic', 'triclinic',\n",
              "       'triclinic', 'monoclinic', 'monoclinic', 'monoclinic',\n",
              "       'monoclinic', 'triclinic', 'triclinic', 'triclinic', 'triclinic',\n",
              "       'monoclinic', 'monoclinic', 'triclinic', 'triclinic', 'triclinic',\n",
              "       'triclinic', 'triclinic', 'triclinic', 'triclinic', 'orthorhombic',\n",
              "       'triclinic', 'monoclinic', 'monoclinic', 'triclinic', 'triclinic',\n",
              "       'monoclinic', 'triclinic', 'triclinic', 'triclinic', 'monoclinic',\n",
              "       'triclinic', 'triclinic', 'triclinic', 'monoclinic', 'monoclinic',\n",
              "       'trigonal', 'triclinic', 'triclinic', 'triclinic', 'trigonal',\n",
              "       'triclinic', 'triclinic', 'triclinic', 'triclinic', 'triclinic',\n",
              "       'triclinic', 'triclinic', 'triclinic', 'triclinic', 'monoclinic',\n",
              "       'triclinic', 'triclinic', 'triclinic', 'triclinic', 'triclinic',\n",
              "       'triclinic', 'orthorhombic', 'orthorhombic', 'cubic', 'cubic',\n",
              "       'cubic', 'cubic', 'cubic', 'cubic', 'cubic', 'cubic', 'cubic',\n",
              "       'trigonal', 'orthorhombic', 'trigonal', 'triclinic'], dtype=object)"
            ]
          },
          "metadata": {},
          "execution_count": 11
        }
      ]
    },
    {
      "cell_type": "markdown",
      "source": [
        "OFM Descriptor"
      ],
      "metadata": {
        "id": "2C6qoY_GXH5l"
      }
    },
    {
      "cell_type": "code",
      "source": [
        "df= pd.read_csv('Orbital_train.csv')\n",
        "X_train=df.iloc[:,14:]\n",
        "y_train=df['crystal_system']"
      ],
      "metadata": {
        "id": "Nfxo8AwK5jPh"
      },
      "execution_count": 12,
      "outputs": []
    },
    {
      "cell_type": "code",
      "source": [
        "df=pd.read_csv('Orbital_test.csv')\n",
        "X_test=df.iloc[:,14:]\n",
        "\n",
        "y_test=df['crystal_system']"
      ],
      "metadata": {
        "id": "GIqIi7twHdG0"
      },
      "execution_count": 13,
      "outputs": []
    },
    {
      "cell_type": "code",
      "source": [
        "from sklearn.preprocessing import StandardScaler\n",
        "\n",
        "# create a scaler object\n",
        "scaler = StandardScaler()\n",
        "\n",
        "# fit scaler on the training data\n",
        "scaler.fit(X_train)\n",
        "\n",
        "# apply the scaler to both the training and test data\n",
        "X_train_normalized = scaler.transform(X_train)\n",
        "\n",
        "X_test_normalized = scaler.transform(X_test)"
      ],
      "metadata": {
        "id": "nnQStgSDHpry"
      },
      "execution_count": 14,
      "outputs": []
    },
    {
      "cell_type": "code",
      "source": [
        "label_encoder = LabelEncoder()\n",
        "\n",
        "# Fit and transform label encoder on target values\n",
        "y_train_encoded = label_encoder.fit_transform(y_train)\n",
        "y_test_encoded = label_encoder.fit_transform(y_test)"
      ],
      "metadata": {
        "id": "QokQXadcH0rG"
      },
      "execution_count": 15,
      "outputs": []
    },
    {
      "cell_type": "code",
      "source": [
        "import xgboost\n",
        "from hyperopt import fmin, tpe, hp\n",
        "from xgboost import XGBClassifier\n",
        "from sklearn.model_selection import KFold, cross_val_score\n",
        "param_space = {\n",
        "    'max_depth': hp.quniform('max_depth', 3, 10, 1),\n",
        "    'gamma': hp.uniform('gamma', 0, 5),\n",
        "    'reg_alpha': hp.uniform('reg_alpha', 0, 5),\n",
        "    'reg_lambda': hp.uniform('reg_lambda', 0, 5),\n",
        "    'learning_rate': hp.loguniform('learning_rate', 0.01, 3),\n",
        "    'n_estimators': hp.quniform('n_estimators', 10, 500, 1),\n",
        "    'colsample_bytree': hp.uniform('colsample_bytree', 0.6, 1.0),\n",
        "    'subsample': hp.uniform('subsample', 0.6, 1.0),\n",
        "    'min_child_weight': hp.quniform('min_child_weight', 1, 10, 1)\n",
        "}"
      ],
      "metadata": {
        "id": "MV_8X8ypIBDP"
      },
      "execution_count": 16,
      "outputs": []
    },
    {
      "cell_type": "code",
      "source": [
        "def objective(params):\n",
        "    model = XGBClassifier(\n",
        "        max_depth=int(params['max_depth']),\n",
        "        gamma=params['gamma'],\n",
        "        reg_alpha=params['reg_alpha'],\n",
        "        reg_lambda=params['reg_lambda'],\n",
        "        learning_rate=params['learning_rate'],\n",
        "        n_estimators=int(params['n_estimators']),\n",
        "        min_child_weight=int(params['min_child_weight'])\n",
        "    )\n",
        "    model.fit(X_train_normalized, y_train_encoded)\n",
        "    y_pred = model.predict(X_test_normalized)\n",
        "    accuracy = accuracy_score(y_test_encoded, y_pred)\n",
        "    return -accuracy  # Minimize negative accuracy\n",
        "\n",
        "# Perform Bayesian optimization\n",
        "best = fmin(\n",
        "    fn=objective,\n",
        "    space=param_space,\n",
        "    algo=tpe.suggest,\n",
        "    max_evals=50  # Number of optimization iterations\n",
        ")\n",
        "\n",
        "print(\"Best Hyperparameters:\", best)"
      ],
      "metadata": {
        "colab": {
          "base_uri": "https://localhost:8080/"
        },
        "id": "iuAJQu-0IJj_",
        "outputId": "bca6773e-d537-42cc-ff6a-c3834254f4f2"
      },
      "execution_count": 17,
      "outputs": [
        {
          "output_type": "stream",
          "name": "stdout",
          "text": [
            "100%|██████████| 50/50 [01:52<00:00,  2.25s/trial, best loss: -0.6778523489932886]\n",
            "Best Hyperparameters: {'colsample_bytree': 0.7835314983643119, 'gamma': 2.5936523613664835, 'learning_rate': 1.177417006484881, 'max_depth': 5.0, 'min_child_weight': 3.0, 'n_estimators': 464.0, 'reg_alpha': 3.1924020642742175, 'reg_lambda': 4.20813042059598, 'subsample': 0.7726017420235414}\n"
          ]
        }
      ]
    },
    {
      "cell_type": "code",
      "source": [
        "import xgboost\n",
        "from xgboost import XGBClassifier\n",
        "from sklearn.model_selection import KFold, cross_val_score\n",
        "\n",
        "# Define the best hyperparameters\n",
        "best_hyperparameters = {\n",
        "    'n_estimators': 464,\n",
        "    'learning_rate': 1.177417006484881,\n",
        "    'gamma':  2.5936523613664835,\n",
        "    'max_depth': 5,\n",
        "    'min_child_weight': 3,\n",
        "    'colsample_bytree':  0.7835314983643119,\n",
        "    'subsample':0.7726017420235414,\n",
        "    'reg_alpha': 3.1924020642742175,\n",
        "    'reg_lambda':4.20813042059598\n",
        "}\n",
        "\n"
      ],
      "metadata": {
        "id": "GO3aDXNeIWDL"
      },
      "execution_count": 18,
      "outputs": []
    },
    {
      "cell_type": "code",
      "source": [
        "model = XGBClassifier(**best_hyperparameters)\n",
        "\n",
        "# Perform k-fold cross-validation\n",
        "cv = RepeatedKFold(n_splits=5, n_repeats=10, random_state=1)\n",
        "scores = cross_val_score(model, X_train_normalized, y_train_encoded, scoring='accuracy', cv=cv, n_jobs=-1)\n",
        "mean_accuracy = scores.mean()\n",
        "print(\"Mean Accuracy:\", mean_accuracy)\n",
        "model.fit(X_train_normalized, y_train_encoded)\n",
        "pred = model.predict(X_train_normalized)\n",
        "training_accuracy= accuracy_score(y_train_encoded,pred)\n",
        "print(\"Accuracy on Training data: \",training_accuracy)\n",
        "pred = model.predict(X_test_normalized)\n",
        "test_accuracy= accuracy_score(y_test_encoded,pred)\n",
        "print(\"Accuracy on Test data: \",test_accuracy)\n",
        "Orbital_Bayes_crystal = label_encoder.inverse_transform(pred)\n",
        "Orbital_Bayes_crystal"
      ],
      "metadata": {
        "colab": {
          "base_uri": "https://localhost:8080/"
        },
        "id": "Eap6Hwn_IbvF",
        "outputId": "97ce692b-58ba-4609-9417-8fa2028ff613"
      },
      "execution_count": 19,
      "outputs": [
        {
          "output_type": "stream",
          "name": "stdout",
          "text": [
            "Mean Accuracy: 0.6391596638655462\n",
            "Accuracy on Training data:  0.6756302521008404\n",
            "Accuracy on Test data:  0.6442953020134228\n"
          ]
        },
        {
          "output_type": "execute_result",
          "data": {
            "text/plain": [
              "array(['cubic', 'cubic', 'triclinic', 'triclinic', 'triclinic',\n",
              "       'triclinic', 'triclinic', 'triclinic', 'triclinic', 'triclinic',\n",
              "       'triclinic', 'triclinic', 'triclinic', 'triclinic', 'triclinic',\n",
              "       'triclinic', 'triclinic', 'monoclinic', 'triclinic', 'triclinic',\n",
              "       'triclinic', 'triclinic', 'monoclinic', 'triclinic', 'triclinic',\n",
              "       'monoclinic', 'triclinic', 'monoclinic', 'triclinic', 'triclinic',\n",
              "       'triclinic', 'triclinic', 'triclinic', 'triclinic', 'triclinic',\n",
              "       'triclinic', 'triclinic', 'triclinic', 'triclinic', 'triclinic',\n",
              "       'triclinic', 'monoclinic', 'triclinic', 'triclinic', 'triclinic',\n",
              "       'triclinic', 'triclinic', 'triclinic', 'triclinic', 'triclinic',\n",
              "       'triclinic', 'triclinic', 'triclinic', 'triclinic', 'triclinic',\n",
              "       'triclinic', 'triclinic', 'triclinic', 'triclinic', 'triclinic',\n",
              "       'triclinic', 'triclinic', 'triclinic', 'triclinic', 'triclinic',\n",
              "       'triclinic', 'triclinic', 'triclinic', 'triclinic', 'triclinic',\n",
              "       'triclinic', 'triclinic', 'triclinic', 'triclinic', 'triclinic',\n",
              "       'triclinic', 'triclinic', 'triclinic', 'triclinic', 'triclinic',\n",
              "       'triclinic', 'triclinic', 'triclinic', 'triclinic', 'triclinic',\n",
              "       'triclinic', 'triclinic', 'triclinic', 'triclinic', 'triclinic',\n",
              "       'triclinic', 'triclinic', 'triclinic', 'triclinic', 'triclinic',\n",
              "       'triclinic', 'triclinic', 'triclinic', 'triclinic', 'triclinic',\n",
              "       'monoclinic', 'triclinic', 'triclinic', 'triclinic', 'cubic',\n",
              "       'triclinic', 'triclinic', 'triclinic', 'triclinic', 'triclinic',\n",
              "       'triclinic', 'triclinic', 'triclinic', 'monoclinic', 'triclinic',\n",
              "       'triclinic', 'triclinic', 'triclinic', 'triclinic', 'triclinic',\n",
              "       'triclinic', 'triclinic', 'triclinic', 'triclinic', 'triclinic',\n",
              "       'triclinic', 'triclinic', 'triclinic', 'triclinic', 'triclinic',\n",
              "       'triclinic', 'triclinic', 'triclinic', 'triclinic', 'triclinic',\n",
              "       'triclinic', 'cubic', 'triclinic', 'cubic', 'cubic', 'triclinic',\n",
              "       'triclinic', 'triclinic', 'triclinic', 'cubic', 'cubic',\n",
              "       'triclinic', 'cubic', 'monoclinic'], dtype=object)"
            ]
          },
          "metadata": {},
          "execution_count": 19
        }
      ]
    },
    {
      "cell_type": "markdown",
      "source": [
        "Xrd"
      ],
      "metadata": {
        "id": "ZI0yP41ZI8OD"
      }
    },
    {
      "cell_type": "code",
      "source": [
        "df= pd.read_csv('Xrd_train.csv')\n",
        "X_train=df.iloc[:,14:]\n",
        "y_train=df['crystal_system']"
      ],
      "metadata": {
        "id": "qZdRiCdiI-yV"
      },
      "execution_count": 33,
      "outputs": []
    },
    {
      "cell_type": "code",
      "source": [
        "df=pd.read_csv('Xrd_test.csv')\n",
        "X_test=df.iloc[:,14:]\n",
        "\n",
        "y_test=df['crystal_system']"
      ],
      "metadata": {
        "id": "eX9Rz1Y1JFyi"
      },
      "execution_count": 34,
      "outputs": []
    },
    {
      "cell_type": "code",
      "source": [
        "scaler = StandardScaler()\n",
        "\n",
        "# fit scaler on the training data\n",
        "scaler.fit(X_train)\n",
        "\n",
        "# apply the scaler to both the training and test data\n",
        "X_train_normalized = scaler.transform(X_train)\n",
        "\n",
        "X_test_normalized = scaler.transform(X_test)\n",
        "label_encoder = LabelEncoder()\n",
        "\n",
        "# Fit and transform label encoder on target values\n",
        "y_train_encoded = label_encoder.fit_transform(y_train)\n",
        "y_test_encoded = label_encoder.fit_transform(y_test)"
      ],
      "metadata": {
        "id": "gXCzEYPaJJ5z"
      },
      "execution_count": 35,
      "outputs": []
    },
    {
      "cell_type": "code",
      "source": [
        "import xgboost\n",
        "from hyperopt import fmin, tpe, hp\n",
        "from xgboost import XGBClassifier\n",
        "from sklearn.model_selection import KFold, cross_val_score\n",
        "param_space = {\n",
        "    'max_depth': hp.quniform('max_depth', 3, 10, 1),\n",
        "    'gamma': hp.uniform('gamma', 0, 5),\n",
        "    'reg_alpha': hp.uniform('reg_alpha', 0, 5),\n",
        "    'reg_lambda': hp.uniform('reg_lambda', 0, 5),\n",
        "    'learning_rate': hp.loguniform('learning_rate', 0.01, 3),\n",
        "    'n_estimators': hp.quniform('n_estimators', 10, 500, 1),\n",
        "    'colsample_bytree': hp.uniform('colsample_bytree', 0.6, 1.0),\n",
        "    'subsample': hp.uniform('subsample', 0.6, 1.0),\n",
        "    'min_child_weight': hp.quniform('min_child_weight', 1, 10, 1)\n",
        "}"
      ],
      "metadata": {
        "id": "Buk28McqJZM8"
      },
      "execution_count": 36,
      "outputs": []
    },
    {
      "cell_type": "code",
      "source": [
        "def objective(params):\n",
        "    model = XGBClassifier(\n",
        "        max_depth=int(params['max_depth']),\n",
        "        gamma=params['gamma'],\n",
        "        reg_alpha=params['reg_alpha'],\n",
        "        reg_lambda=params['reg_lambda'],\n",
        "        learning_rate=params['learning_rate'],\n",
        "        n_estimators=int(params['n_estimators']),\n",
        "        min_child_weight=int(params['min_child_weight'])\n",
        "    )\n",
        "    model.fit(X_train_normalized, y_train_encoded)\n",
        "    y_pred = model.predict(X_test_normalized)\n",
        "    accuracy = accuracy_score(y_test_encoded, y_pred)\n",
        "    return -accuracy  # Minimize negative accuracy\n",
        "\n",
        "# Perform Bayesian optimization\n",
        "best = fmin(\n",
        "    fn=objective,\n",
        "    space=param_space,\n",
        "    algo=tpe.suggest,\n",
        "    max_evals=50  # Number of optimization iterations\n",
        ")\n",
        "\n",
        "print(\"Best Hyperparameters:\", best)"
      ],
      "metadata": {
        "colab": {
          "base_uri": "https://localhost:8080/"
        },
        "id": "J-AZ9s1aJgrS",
        "outputId": "15727810-a157-40ee-d061-d7cd19bf97b5"
      },
      "execution_count": 37,
      "outputs": [
        {
          "output_type": "stream",
          "name": "stdout",
          "text": [
            "100%|██████████| 50/50 [01:33<00:00,  1.87s/trial, best loss: -0.6912751677852349]\n",
            "Best Hyperparameters: {'colsample_bytree': 0.9686622065631607, 'gamma': 0.023697090147251076, 'learning_rate': 2.0247860840671867, 'max_depth': 7.0, 'min_child_weight': 4.0, 'n_estimators': 224.0, 'reg_alpha': 1.9013490884575868, 'reg_lambda': 3.613352738350256, 'subsample': 0.9217785928923488}\n"
          ]
        }
      ]
    },
    {
      "cell_type": "code",
      "source": [
        "import xgboost\n",
        "from xgboost import XGBClassifier\n",
        "from sklearn.model_selection import KFold, cross_val_score\n",
        "\n",
        "# Define the best hyperparameters\n",
        "best_hyperparameters = {\n",
        "    'n_estimators': 224,\n",
        "    'learning_rate': 2.0247860840671867,\n",
        "    'gamma':  0.023697090147251076,\n",
        "    'max_depth': 7,\n",
        "    'min_child_weight': 4,\n",
        "    'colsample_bytree':  0.9686622065631607,\n",
        "    'subsample': 0.9217785928923488,\n",
        "    'reg_alpha': 1.9013490884575868,\n",
        "    'reg_lambda': 3.613352738350256\n",
        "}\n"
      ],
      "metadata": {
        "id": "cqvipEB9JnTQ"
      },
      "execution_count": 44,
      "outputs": []
    },
    {
      "cell_type": "code",
      "source": [
        "model = XGBClassifier(**best_hyperparameters)\n",
        "\n",
        "# Perform k-fold cross-validation\n",
        "cv = RepeatedKFold(n_splits=5, n_repeats=10, random_state=1)\n",
        "scores = cross_val_score(model, X_train_normalized, y_train_encoded, scoring='accuracy', cv=cv, n_jobs=-1, error_score='raise')\n",
        "mean_accuracy = scores.mean()\n",
        "print(\"Mean Accuracy:\", mean_accuracy)\n",
        "model.fit(X_train_normalized, y_train_encoded)\n",
        "pred = model.predict(X_train_normalized)\n",
        "training_accuracy= accuracy_score(y_train_encoded,pred)\n",
        "print(\"Accuracy on Training data: \",training_accuracy)\n",
        "pred = model.predict(X_test_normalized)\n",
        "test_accuracy= accuracy_score(y_test_encoded,pred)\n",
        "print(\"Accuracy on Test data: \",test_accuracy)\n",
        "Xrd_Bayes_crystal = label_encoder.inverse_transform(pred)\n",
        "Xrd_Bayes_crystal"
      ],
      "metadata": {
        "colab": {
          "base_uri": "https://localhost:8080/"
        },
        "outputId": "d7788c07-dbf1-4ead-90b2-f8a5d291f7a4",
        "id": "o8JRb3NJ5r6k"
      },
      "execution_count": 45,
      "outputs": [
        {
          "output_type": "stream",
          "name": "stdout",
          "text": [
            "Mean Accuracy: 0.6814019607843136\n",
            "Accuracy on Training data:  0.9983221476510067\n",
            "Accuracy on Test data:  0.6375838926174496\n"
          ]
        },
        {
          "output_type": "execute_result",
          "data": {
            "text/plain": [
              "array(['monoclinic', 'tetragonal', 'monoclinic', 'triclinic', 'triclinic',\n",
              "       'monoclinic', 'triclinic', 'triclinic', 'triclinic', 'monoclinic',\n",
              "       'monoclinic', 'triclinic', 'monoclinic', 'triclinic', 'monoclinic',\n",
              "       'monoclinic', 'triclinic', 'triclinic', 'monoclinic', 'triclinic',\n",
              "       'triclinic', 'monoclinic', 'triclinic', 'monoclinic', 'triclinic',\n",
              "       'triclinic', 'monoclinic', 'trigonal', 'monoclinic', 'monoclinic',\n",
              "       'triclinic', 'triclinic', 'triclinic', 'triclinic', 'triclinic',\n",
              "       'triclinic', 'triclinic', 'triclinic', 'triclinic', 'monoclinic',\n",
              "       'triclinic', 'monoclinic', 'triclinic', 'triclinic', 'triclinic',\n",
              "       'monoclinic', 'triclinic', 'triclinic', 'triclinic', 'triclinic',\n",
              "       'triclinic', 'triclinic', 'triclinic', 'triclinic', 'triclinic',\n",
              "       'triclinic', 'triclinic', 'monoclinic', 'monoclinic',\n",
              "       'orthorhombic', 'triclinic', 'monoclinic', 'triclinic',\n",
              "       'triclinic', 'triclinic', 'monoclinic', 'triclinic', 'triclinic',\n",
              "       'triclinic', 'triclinic', 'triclinic', 'triclinic', 'monoclinic',\n",
              "       'triclinic', 'triclinic', 'triclinic', 'triclinic', 'hexagonal',\n",
              "       'triclinic', 'monoclinic', 'monoclinic', 'monoclinic', 'triclinic',\n",
              "       'triclinic', 'triclinic', 'triclinic', 'triclinic', 'triclinic',\n",
              "       'triclinic', 'triclinic', 'monoclinic', 'triclinic', 'triclinic',\n",
              "       'triclinic', 'triclinic', 'triclinic', 'triclinic', 'triclinic',\n",
              "       'triclinic', 'orthorhombic', 'triclinic', 'triclinic',\n",
              "       'monoclinic', 'triclinic', 'cubic', 'triclinic', 'monoclinic',\n",
              "       'monoclinic', 'triclinic', 'monoclinic', 'triclinic', 'triclinic',\n",
              "       'monoclinic', 'monoclinic', 'monoclinic', 'monoclinic',\n",
              "       'triclinic', 'monoclinic', 'triclinic', 'triclinic', 'triclinic',\n",
              "       'triclinic', 'triclinic', 'triclinic', 'triclinic', 'triclinic',\n",
              "       'monoclinic', 'triclinic', 'triclinic', 'triclinic', 'triclinic',\n",
              "       'triclinic', 'monoclinic', 'monoclinic', 'hexagonal', 'cubic',\n",
              "       'monoclinic', 'cubic', 'tetragonal', 'cubic', 'triclinic',\n",
              "       'triclinic', 'tetragonal', 'triclinic', 'triclinic', 'cubic',\n",
              "       'monoclinic', 'orthorhombic', 'cubic'], dtype=object)"
            ]
          },
          "metadata": {},
          "execution_count": 45
        }
      ]
    }
  ],
  "metadata": {
    "colab": {
      "provenance": [],
      "authorship_tag": "ABX9TyOg/E2zUlhR1aiWM8khh7DF",
      "include_colab_link": true
    },
    "kernelspec": {
      "display_name": "Python 3",
      "name": "python3"
    },
    "language_info": {
      "name": "python"
    }
  },
  "nbformat": 4,
  "nbformat_minor": 0
}